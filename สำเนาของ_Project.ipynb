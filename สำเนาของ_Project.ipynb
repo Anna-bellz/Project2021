{
  "nbformat": 4,
  "nbformat_minor": 0,
  "metadata": {
    "accelerator": "GPU",
    "colab": {
      "name": "สำเนาของ Project.ipynb",
      "provenance": [],
      "collapsed_sections": [],
      "include_colab_link": true
    },
    "kernelspec": {
      "display_name": "Python 3",
      "name": "python3"
    },
    "language_info": {
      "name": "python"
    }
  },
  "cells": [
    {
      "cell_type": "markdown",
      "metadata": {
        "id": "view-in-github",
        "colab_type": "text"
      },
      "source": [
        "<a href=\"https://colab.research.google.com/github/Anna-bellz/Project2021/blob/main/%E0%B8%AA%E0%B8%B3%E0%B9%80%E0%B8%99%E0%B8%B2%E0%B8%82%E0%B8%AD%E0%B8%87_Project.ipynb\" target=\"_parent\"><img src=\"https://colab.research.google.com/assets/colab-badge.svg\" alt=\"Open In Colab\"/></a>"
      ]
    },
    {
      "cell_type": "markdown",
      "metadata": {
        "id": "eMoGNsRBfhve"
      },
      "source": [
        "## Import neccessary modules"
      ]
    },
    {
      "cell_type": "code",
      "metadata": {
        "id": "dHQaGXM-EghQ"
      },
      "source": [
        "import numpy as np\n",
        "import pandas as pd\n",
        "import matplotlib.pyplot as plt\n",
        "import tensorflow as tf\n",
        "import time\n",
        "import numpy as np\n",
        "import os\n",
        "import keras \n",
        "\n",
        "from sklearn.model_selection import train_test_split\n",
        "from tensorflow.keras.models import Sequential, Model\n",
        "from tensorflow.keras.layers import  Dropout, Dense,GlobalMaxPooling2D, AveragePooling2D, Flatten\n",
        "from tensorflow.keras.layers import Conv2D, MaxPooling2D\n",
        "from tensorflow.keras.applications import VGG16, InceptionV3,MobileNetV3Small,VGG19,ResNet50,ResNet50V2,MobileNet,mobilenet_v2,mobilenet_v3\n",
        "\n",
        "from tensorflow.keras import optimizers\n",
        "from sklearn.metrics import classification_report, confusion_matrix\n",
        "\n",
        "from tensorflow.python.keras.preprocessing.image import ImageDataGenerator\n",
        "\n",
        "from glob import glob\n",
        "import cv2\n"
      ],
      "execution_count": null,
      "outputs": []
    },
    {
      "cell_type": "markdown",
      "metadata": {
        "id": "fd_C7EGBfqNO"
      },
      "source": [
        "## Function for plotting graph"
      ]
    },
    {
      "cell_type": "code",
      "metadata": {
        "id": "a_E7qgd0fnxn"
      },
      "source": [
        "def plot_acc_loss(result, epochs):\n",
        "    acc = result.history['accuracy']\n",
        "    loss = result.history['loss']\n",
        "    val_acc = result.history['val_accuracy']\n",
        "    val_loss = result.history['val_loss']\n",
        "    plt.figure(figsize=(15, 5))\n",
        "    plt.subplot(121)\n",
        "    plt.plot(range(1,epochs), acc[1:], label='Train_acc')\n",
        "    plt.plot(range(1,epochs), val_acc[1:], label='Test_acc')\n",
        "    plt.title('Accuracy over ' + str(epochs) + ' Epochs', size=10)\n",
        "    plt.legend()\n",
        "    plt.grid(True)\n",
        "    plt.subplot(122)\n",
        "    plt.plot(range(1,epochs), loss[1:], label='Train_loss')\n",
        "    plt.plot(range(1,epochs), val_loss[1:], label='Test_loss')\n",
        "    plt.title('Loss over ' + str(epochs) + ' Epochs', size=10)\n",
        "    plt.legend()\n",
        "    plt.grid(True)\n",
        "    plt.show()"
      ],
      "execution_count": null,
      "outputs": []
    },
    {
      "cell_type": "markdown",
      "metadata": {
        "id": "Zesblercfxm_"
      },
      "source": [
        "## Read data from Google Drive"
      ]
    },
    {
      "cell_type": "code",
      "metadata": {
        "colab": {
          "base_uri": "https://localhost:8080/"
        },
        "id": "58MSDP78f1Vu",
        "outputId": "069944ec-429c-41ca-cc93-ba6a71b65804"
      },
      "source": [
        "from google.colab import drive\n",
        "drive.mount('/content/drive')"
      ],
      "execution_count": null,
      "outputs": [
        {
          "output_type": "stream",
          "name": "stdout",
          "text": [
            "Mounted at /content/drive\n"
          ]
        }
      ]
    },
    {
      "cell_type": "code",
      "metadata": {
        "id": "PpjXVbz-f4VG"
      },
      "source": [
        "# Change to your path\n",
        "mypath = '/content/drive/My Drive/Project500/'"
      ],
      "execution_count": null,
      "outputs": []
    },
    {
      "cell_type": "markdown",
      "metadata": {
        "id": "OuSuOc1zgvF3"
      },
      "source": [
        "อ่านไฟล์ภาพในแฟ้ม COVID19"
      ]
    },
    {
      "cell_type": "code",
      "metadata": {
        "id": "Z4MJ7EvogQ8f"
      },
      "source": [
        "filenames = glob(mypath + 'Covid19/' + '*.jpg') #ใช้ glob อ่านไฟล์ตามพาธที่กำหนด\n",
        "np.random.shuffle(filenames) #อ่านแบบสุ่ม\n",
        "COVID19_images = [cv2.resize(cv2.imread(img), (224,224)) for img in filenames] #รูปขนาด 1024x1024 ทำการ resize เป็น 224X224"
      ],
      "execution_count": null,
      "outputs": []
    },
    {
      "cell_type": "code",
      "metadata": {
        "colab": {
          "base_uri": "https://localhost:8080/",
          "height": 268
        },
        "id": "NQ5Mn6oU4eDv",
        "outputId": "e591dfdf-e03f-4110-c96f-79790d27cec3"
      },
      "source": [
        "plt.imshow(COVID19_images[0])\n",
        "plt.show()"
      ],
      "execution_count": null,
      "outputs": [
        {
          "output_type": "display_data",
          "data": {
            "image/png": "[encoded data removed]",
            "text/plain": [
              "<Figure size 432x288 with 1 Axes>"
            ]
          },
          "metadata": {
            "needs_background": "light"
          }
        }
      ]
    },
    {
      "cell_type": "code",
      "metadata": {
        "colab": {
          "base_uri": "https://localhost:8080/"
        },
        "id": "lTQAOSjVATiF",
        "outputId": "e04a8ed7-9fd0-444f-8359-a8fc508241c3"
      },
      "source": [
        "X=np.array(COVID19_images)\n",
        "X.shape"
      ],
      "execution_count": null,
      "outputs": [
        {
          "output_type": "execute_result",
          "data": {
            "text/plain": [
              "(500, 224, 224, 3)"
            ]
          },
          "metadata": {},
          "execution_count": 13
        }
      ]
    },
    {
      "cell_type": "markdown",
      "metadata": {
        "id": "JtW-TT11g17U"
      },
      "source": [
        "อ่านไฟล์ภาพในแฟ้ม LUNG"
      ]
    },
    {
      "cell_type": "code",
      "metadata": {
        "id": "wf5P5ycZg1UN"
      },
      "source": [
        "filenames = glob(mypath + 'Lung/' + '*.jpg')\n",
        "np.random.shuffle(filenames)\n",
        "LUNG_images = [cv2.resize(cv2.imread(img), (224,224)) for img in filenames[:]]"
      ],
      "execution_count": null,
      "outputs": []
    },
    {
      "cell_type": "code",
      "metadata": {
        "colab": {
          "base_uri": "https://localhost:8080/",
          "height": 268
        },
        "id": "GnJbiis36zzd",
        "outputId": "c5dc096a-ba05-43ed-c82b-990fafc3e0b5"
      },
      "source": [
        "plt.imshow(LUNG_images[0])\n",
        "plt.show()"
      ],
      "execution_count": null,
      "outputs": [
        {
          "output_type": "display_data",
          "data": {
            "image/png": "[encoded data removed]",
            "text/plain": [
              "<Figure size 432x288 with 1 Axes>"
            ]
          },
          "metadata": {
            "needs_background": "light"
          }
        }
      ]
    },
    {
      "cell_type": "code",
      "metadata": {
        "colab": {
          "base_uri": "https://localhost:8080/"
        },
        "id": "39A9Oo3da32-",
        "outputId": "17497966-f037-4fd5-f2e2-4ce55ec25e77"
      },
      "source": [
        "X=np.array(LUNG_images)\n",
        "X.shape"
      ],
      "execution_count": null,
      "outputs": [
        {
          "output_type": "execute_result",
          "data": {
            "text/plain": [
              "(500, 224, 224, 3)"
            ]
          },
          "metadata": {},
          "execution_count": 16
        }
      ]
    },
    {
      "cell_type": "markdown",
      "metadata": {
        "id": "2NNdaEqcpKpr"
      },
      "source": [
        "อ่านไฟล์ภาพในแฟ้ม NORMAL"
      ]
    },
    {
      "cell_type": "code",
      "metadata": {
        "id": "gndodvhool7y"
      },
      "source": [
        "filenames = glob(mypath + 'Normal/' + '*.jpg')\n",
        "np.random.shuffle(filenames)\n",
        "NORMAL_images = [cv2.resize(cv2.imread(img), (224,224)) for img in filenames[:]]"
      ],
      "execution_count": null,
      "outputs": []
    },
    {
      "cell_type": "code",
      "metadata": {
        "colab": {
          "base_uri": "https://localhost:8080/",
          "height": 268
        },
        "id": "8LoEMKA3qYSZ",
        "outputId": "dd8c1abc-38f8-4b5a-bf24-902830ef8457"
      },
      "source": [
        "plt.imshow(NORMAL_images[0])\n",
        "plt.show()"
      ],
      "execution_count": null,
      "outputs": [
        {
          "output_type": "display_data",
          "data": {
            "image/png": "[encoded data removed]",
            "text/plain": [
              "<Figure size 432x288 with 1 Axes>"
            ]
          },
          "metadata": {
            "needs_background": "light"
          }
        }
      ]
    },
    {
      "cell_type": "code",
      "metadata": {
        "colab": {
          "base_uri": "https://localhost:8080/"
        },
        "id": "NbF9NLvX0dWq",
        "outputId": "2dab8da0-a73a-4e07-d35d-ce9dc1f61c1c"
      },
      "source": [
        "X=np.array(NORMAL_images)\n",
        "X.shape"
      ],
      "execution_count": null,
      "outputs": [
        {
          "output_type": "execute_result",
          "data": {
            "text/plain": [
              "(500, 224, 224, 3)"
            ]
          },
          "metadata": {},
          "execution_count": 19
        }
      ]
    },
    {
      "cell_type": "markdown",
      "metadata": {
        "id": "Wo1-GdPUhzNs"
      },
      "source": [
        "อ่านไฟล์ภาพในแฟ้ม PNEUMONIA"
      ]
    },
    {
      "cell_type": "code",
      "metadata": {
        "id": "VpcRBAO-hU_H"
      },
      "source": [
        "filenames = glob(mypath + 'Pneumonia/' + '*.jpg')\n",
        "np.random.shuffle(filenames)\n",
        "PNEUMONIA_images = [cv2.resize(cv2.imread(img), (224,224)) for img in filenames[:]]"
      ],
      "execution_count": null,
      "outputs": []
    },
    {
      "cell_type": "code",
      "metadata": {
        "colab": {
          "base_uri": "https://localhost:8080/",
          "height": 268
        },
        "id": "OOP5a_DfpZBX",
        "outputId": "b5322767-c987-42e7-aa5d-5d104a25ba63"
      },
      "source": [
        "plt.imshow(PNEUMONIA_images[0])\n",
        "plt.show()"
      ],
      "execution_count": null,
      "outputs": [
        {
          "output_type": "display_data",
          "data": {
            "image/png": "[encoded data removed]",
            "text/plain": [
              "<Figure size 432x288 with 1 Axes>"
            ]
          },
          "metadata": {
            "needs_background": "light"
          }
        }
      ]
    },
    {
      "cell_type": "code",
      "metadata": {
        "colab": {
          "base_uri": "https://localhost:8080/"
        },
        "id": "XrScvdz70hcR",
        "outputId": "47c85ff0-e8a4-4574-ce79-28a189c88586"
      },
      "source": [
        "X=np.array(PNEUMONIA_images)\n",
        "X.shape"
      ],
      "execution_count": null,
      "outputs": [
        {
          "output_type": "execute_result",
          "data": {
            "text/plain": [
              "(500, 224, 224, 3)"
            ]
          },
          "metadata": {},
          "execution_count": 22
        }
      ]
    },
    {
      "cell_type": "markdown",
      "metadata": {
        "id": "_oWJeHk0hNv3"
      },
      "source": [
        "# Convolutional Neural Network"
      ]
    },
    {
      "cell_type": "markdown",
      "metadata": {
        "id": "dbt8-7lO1iqD"
      },
      "source": [
        "> เตรียม Dataset สำหรับการ Train\n",
        "\n",
        "> นำ List (normal_images+covid_images)\n",
        "\n",
        "> แปลง List --> np.array\n",
        "\n",
        "> ทำการ Normalize (0-1) ด้วยการ /255"
      ]
    },
    {
      "cell_type": "markdown",
      "metadata": {
        "id": "gGWtgTom2wtU"
      },
      "source": [
        "####Note: ทำไมต้อง Normalize\n",
        ">ไฟล์รูปภาพที่ได้ออกมาเป็นรูป RGB (WxHxRGB) เป็นอาเรย์ 3 มิติ โดยค่าที่อยู่ในอาเรย์มีค่า 0-255 ถ้าเราใช้ค่าในนี้ไปเทรนในนิวรอลเลย จะต้องเสียเวลาในการเทรนเพื่อให้น้ำหนักของมันสู้กับค่าที่อยู่ในอาเรย์พวกนี้ได้ ในทางปฎิบัติเค้าจะปรับค่าของมันให้อยู่ในช่วง 0-1 ทำได้โดย เอา 255 หารทุกตัวในอาเรย์ ตามค่าที่สูงที่สุด ถ้าเป็น List จะต้องวนลูปไปหารทุกค่า แต่ถ้าในอาเรย์ใช้คำสั่งเดียวมันเข้าไปหารให้ทุกช่องเลย\n",
        "\n",
        ">ใช้ float เพื่อไม่ให้ /255 แล้วเป็น 0 หรือ 1 เลย แต่มันจะค่อยๆปรับ ค่า"
      ]
    },
    {
      "cell_type": "markdown",
      "metadata": {
        "id": "Yl4wSdsD28-s"
      },
      "source": [
        "เตรียม X: input"
      ]
    },
    {
      "cell_type": "code",
      "metadata": {
        "id": "OvOk2af0rrfx"
      },
      "source": [
        "X=np.array(COVID19_images+LUNG_images+NORMAL_images+PNEUMONIA_images).astype('float32')/255"
      ],
      "execution_count": null,
      "outputs": []
    },
    {
      "cell_type": "code",
      "metadata": {
        "colab": {
          "base_uri": "https://localhost:8080/"
        },
        "id": "6CFncgmLsSyy",
        "outputId": "2bd41edb-231a-4856-d595-ea62af138e19"
      },
      "source": [
        "X.shape"
      ],
      "execution_count": null,
      "outputs": [
        {
          "output_type": "execute_result",
          "data": {
            "text/plain": [
              "(2000, 224, 224, 3)"
            ]
          },
          "metadata": {},
          "execution_count": 24
        }
      ]
    },
    {
      "cell_type": "markdown",
      "metadata": {
        "id": "zJfqHO0U4s3y"
      },
      "source": [
        "\n",
        "\n",
        "###เตรียม Y: Output"
      ]
    },
    {
      "cell_type": "code",
      "metadata": {
        "colab": {
          "base_uri": "https://localhost:8080/"
        },
        "id": "I8sLX3jRBdql",
        "outputId": "76be3681-00ec-4d03-bf28-f92f1a1c9c90"
      },
      "source": [
        "Y = np.array([0] * 500 + [1] * 500 + [2] * 500+ [3] * 500)    \n",
        "Y"
      ],
      "execution_count": null,
      "outputs": [
        {
          "output_type": "execute_result",
          "data": {
            "text/plain": [
              "array([0, 0, 0, ..., 3, 3, 3])"
            ]
          },
          "metadata": {},
          "execution_count": 25
        }
      ]
    },
    {
      "cell_type": "markdown",
      "metadata": {
        "id": "fwLcpmzjCEKV"
      },
      "source": [
        "### แบ่งชุดข้อมูล\n",
        "80:20"
      ]
    },
    {
      "cell_type": "code",
      "metadata": {
        "id": "D6CvGyOQCD2X"
      },
      "source": [
        "x_train, x_test, y_train, y_test = train_test_split(X , Y , train_size =0.80, test_size =0.20, random_state =30)"
      ],
      "execution_count": null,
      "outputs": []
    },
    {
      "cell_type": "code",
      "metadata": {
        "colab": {
          "base_uri": "https://localhost:8080/"
        },
        "id": "6T5svdJ3EYNF",
        "outputId": "a4f8eae4-76ec-4eda-8c66-e9a8cc999f8a"
      },
      "source": [
        "x_train.shape"
      ],
      "execution_count": null,
      "outputs": [
        {
          "output_type": "execute_result",
          "data": {
            "text/plain": [
              "(1600, 224, 224, 3)"
            ]
          },
          "metadata": {},
          "execution_count": 22
        }
      ]
    },
    {
      "cell_type": "code",
      "metadata": {
        "colab": {
          "base_uri": "https://localhost:8080/"
        },
        "id": "6g8tqry7EZVO",
        "outputId": "284c3764-20b6-44fe-b990-c43b04466c30"
      },
      "source": [
        "x_test.shape"
      ],
      "execution_count": null,
      "outputs": [
        {
          "output_type": "execute_result",
          "data": {
            "text/plain": [
              "(400, 224, 224, 3)"
            ]
          },
          "metadata": {},
          "execution_count": 23
        }
      ]
    },
    {
      "cell_type": "code",
      "metadata": {
        "colab": {
          "base_uri": "https://localhost:8080/"
        },
        "id": "gxgdvrxpEcOu",
        "outputId": "b83662b9-7ab7-4c2b-d8ed-485feb45c6ba"
      },
      "source": [
        "y_train.shape"
      ],
      "execution_count": null,
      "outputs": [
        {
          "output_type": "execute_result",
          "data": {
            "text/plain": [
              "(1600,)"
            ]
          },
          "metadata": {},
          "execution_count": 24
        }
      ]
    },
    {
      "cell_type": "code",
      "metadata": {
        "colab": {
          "base_uri": "https://localhost:8080/"
        },
        "id": "KmNDBk2KEfjw",
        "outputId": "275478db-4920-42ab-cf22-3b887adb8c5e"
      },
      "source": [
        "y_test.shape"
      ],
      "execution_count": null,
      "outputs": [
        {
          "output_type": "execute_result",
          "data": {
            "text/plain": [
              "(400,)"
            ]
          },
          "metadata": {},
          "execution_count": 25
        }
      ]
    },
    {
      "cell_type": "markdown",
      "metadata": {
        "id": "mFrVcXX4fjIN"
      },
      "source": [
        "![f1e26349.jpg](data:image/jpeg;base64,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)"
      ]
    },
    {
      "cell_type": "markdown",
      "metadata": {
        "id": "-ke6C4XwjL45"
      },
      "source": [
        "## Build the model"
      ]
    },
    {
      "cell_type": "code",
      "metadata": {
        "id": "O4etLPZ_chr7"
      },
      "source": [
        "# model =Sequential()\n",
        "# model.add(Conv2D(64,(5,5),activation='relu',input_shape = (244,244,3)))\n",
        "# model.add(AveragePooling2D((2,2)))\n",
        "# model.add(Conv2D(32,(5,5),activation='relu'))\n",
        "# model.add(AveragePooling2D((2,2)))\n",
        "# model.add(Flatten())\n",
        "# model.add(Dense(6,activation='softmax'))"
      ],
      "execution_count": null,
      "outputs": []
    },
    {
      "cell_type": "code",
      "metadata": {
        "id": "gJofhuZUja_L"
      },
      "source": [
        "model = Sequential()                                \n",
        "model.add(Conv2D(64, (5,5), activation='relu', input_shape = (224,224,3) ))  #สกัดออกมา 64 feature  Window scan (5,5)\n",
        "model.add(AveragePooling2D((2,2)))    #window pooling  2x2ดูค่า Max สุดดึงออกมา\n",
        "model.add(Conv2D(32, (5,5), activation='relu' ))  #คัดเลือกออกมา 32 feature\n",
        "model.add(AveragePooling2D((2,2)))\n",
        "model.add(Flatten())  #แปลงอาร์เรย์หลายมิติเป็น เวกเตอร์ 1 มิติ\n",
        "model.add(Dense(6, activation='softmax'))"
      ],
      "execution_count": null,
      "outputs": []
    },
    {
      "cell_type": "code",
      "metadata": {
        "colab": {
          "base_uri": "https://localhost:8080/"
        },
        "id": "sNscce2Mg4w8",
        "outputId": "f388ac57-3b5d-47ab-9682-eed6868febff"
      },
      "source": [
        "model.summary()"
      ],
      "execution_count": null,
      "outputs": [
        {
          "output_type": "stream",
          "name": "stdout",
          "text": [
            "Model: \"sequential\"\n",
            "_________________________________________________________________\n",
            "Layer (type)                 Output Shape              Param #   \n",
            "=================================================================\n",
            "conv2d (Conv2D)              (None, 220, 220, 64)      4864      \n",
            "_________________________________________________________________\n",
            "average_pooling2d (AveragePo (None, 110, 110, 64)      0         \n",
            "_________________________________________________________________\n",
            "conv2d_1 (Conv2D)            (None, 106, 106, 32)      51232     \n",
            "_________________________________________________________________\n",
            "average_pooling2d_1 (Average (None, 53, 53, 32)        0         \n",
            "_________________________________________________________________\n",
            "flatten (Flatten)            (None, 89888)             0         \n",
            "_________________________________________________________________\n",
            "dense (Dense)                (None, 6)                 539334    \n",
            "=================================================================\n",
            "Total params: 595,430\n",
            "Trainable params: 595,430\n",
            "Non-trainable params: 0\n",
            "_________________________________________________________________\n"
          ]
        }
      ]
    },
    {
      "cell_type": "code",
      "metadata": {
        "colab": {
          "base_uri": "https://localhost:8080/",
          "height": 268
        },
        "id": "niNWE4YSE0oV",
        "outputId": "55af8bb3-3518-45b4-83a6-5369b2e329ec"
      },
      "source": [
        "plt.imshow(COVID19_images[1])   #ภาพพื้นหลัง แนะนำให้ใช้ \n",
        "plt.show()"
      ],
      "execution_count": null,
      "outputs": [
        {
          "output_type": "display_data",
          "data": {
            "image/png": "[encoded data removed]",
            "text/plain": [
              "<Figure size 432x288 with 1 Axes>"
            ]
          },
          "metadata": {
            "needs_background": "light"
          }
        }
      ]
    },
    {
      "cell_type": "code",
      "metadata": {
        "colab": {
          "base_uri": "https://localhost:8080/"
        },
        "id": "oBYhtcQLE_2G",
        "outputId": "64e22cc3-278f-445b-fb0c-5b86f4df413e"
      },
      "source": [
        "model.compile(loss=tf.keras.losses.sparse_categorical_crossentropy,optimizer=tf.keras.optimizers.Adam(lr=0.01),metrics=['accuracy'])  #lr=0.00001  0.001,0.0001\n",
        "model.summary()"
      ],
      "execution_count": null,
      "outputs": [
        {
          "output_type": "stream",
          "name": "stdout",
          "text": [
            "Model: \"sequential_1\"\n",
            "_________________________________________________________________\n",
            "Layer (type)                 Output Shape              Param #   \n",
            "=================================================================\n",
            "mobilenet_1.00_224 (Function (None, 7, 7, 1024)        3228864   \n",
            "_________________________________________________________________\n",
            "flatten_1 (Flatten)          (None, 50176)             0         \n",
            "_________________________________________________________________\n",
            "dense_10 (Dense)             (None, 128)               6422656   \n",
            "_________________________________________________________________\n",
            "dense_11 (Dense)             (None, 128)               16512     \n",
            "_________________________________________________________________\n",
            "dropout_7 (Dropout)          (None, 128)               0         \n",
            "_________________________________________________________________\n",
            "dense_12 (Dense)             (None, 64)                8256      \n",
            "_________________________________________________________________\n",
            "dense_13 (Dense)             (None, 64)                4160      \n",
            "_________________________________________________________________\n",
            "dropout_8 (Dropout)          (None, 64)                0         \n",
            "_________________________________________________________________\n",
            "dense_14 (Dense)             (None, 32)                2080      \n",
            "_________________________________________________________________\n",
            "dense_15 (Dense)             (None, 32)                1056      \n",
            "_________________________________________________________________\n",
            "dropout_9 (Dropout)          (None, 32)                0         \n",
            "_________________________________________________________________\n",
            "dense_16 (Dense)             (None, 6)                 198       \n",
            "=================================================================\n",
            "Total params: 9,683,782\n",
            "Trainable params: 9,661,894\n",
            "Non-trainable params: 21,888\n",
            "_________________________________________________________________\n"
          ]
        },
        {
          "output_type": "stream",
          "name": "stderr",
          "text": [
            "/usr/local/lib/python3.7/dist-packages/keras/optimizer_v2/optimizer_v2.py:356: UserWarning: The `lr` argument is deprecated, use `learning_rate` instead.\n",
            "  \"The `lr` argument is deprecated, use `learning_rate` instead.\")\n"
          ]
        }
      ]
    },
    {
      "cell_type": "code",
      "metadata": {
        "colab": {
          "base_uri": "https://localhost:8080/"
        },
        "id": "NdHjmJPdFDHW",
        "outputId": "142b1f11-807e-4368-e178-f1337ce65178"
      },
      "source": [
        "history=model.fit(x_train,y_train,batch_size=10,epochs=50,validation_split=0.2)"
      ],
      "execution_count": null,
      "outputs": [
        {
          "output_type": "stream",
          "name": "stdout",
          "text": [
            "Epoch 1/50\n",
            "128/128 [==============================] - 38s 58ms/step - loss: 1.3588 - accuracy: 0.4234 - val_loss: 1.1415 - val_accuracy: 0.5000\n",
            "Epoch 2/50\n",
            "128/128 [==============================] - 7s 56ms/step - loss: 0.9836 - accuracy: 0.6242 - val_loss: 0.9087 - val_accuracy: 0.6094\n",
            "Epoch 3/50\n",
            "128/128 [==============================] - 7s 55ms/step - loss: 0.8341 - accuracy: 0.6680 - val_loss: 0.8057 - val_accuracy: 0.6969\n",
            "Epoch 4/50\n",
            "128/128 [==============================] - 7s 56ms/step - loss: 0.7659 - accuracy: 0.6984 - val_loss: 0.8138 - val_accuracy: 0.6687\n",
            "Epoch 5/50\n",
            "128/128 [==============================] - 7s 56ms/step - loss: 0.7337 - accuracy: 0.6984 - val_loss: 0.7630 - val_accuracy: 0.6875\n",
            "Epoch 6/50\n",
            "128/128 [==============================] - 7s 56ms/step - loss: 0.6994 - accuracy: 0.7117 - val_loss: 0.7319 - val_accuracy: 0.7188\n",
            "Epoch 7/50\n",
            "128/128 [==============================] - 7s 56ms/step - loss: 0.6666 - accuracy: 0.7359 - val_loss: 0.7279 - val_accuracy: 0.7094\n",
            "Epoch 8/50\n",
            "128/128 [==============================] - 7s 56ms/step - loss: 0.6377 - accuracy: 0.7477 - val_loss: 0.7707 - val_accuracy: 0.6469\n",
            "Epoch 9/50\n",
            "128/128 [==============================] - 7s 55ms/step - loss: 0.6344 - accuracy: 0.7516 - val_loss: 0.7281 - val_accuracy: 0.7094\n",
            "Epoch 10/50\n",
            "128/128 [==============================] - 7s 56ms/step - loss: 0.6104 - accuracy: 0.7648 - val_loss: 0.6783 - val_accuracy: 0.7625\n",
            "Epoch 11/50\n",
            "128/128 [==============================] - 7s 56ms/step - loss: 0.5936 - accuracy: 0.7633 - val_loss: 0.7274 - val_accuracy: 0.6938\n",
            "Epoch 12/50\n",
            "128/128 [==============================] - 7s 56ms/step - loss: 0.5839 - accuracy: 0.7734 - val_loss: 0.6678 - val_accuracy: 0.7500\n",
            "Epoch 13/50\n",
            "128/128 [==============================] - 7s 56ms/step - loss: 0.5679 - accuracy: 0.7820 - val_loss: 0.6673 - val_accuracy: 0.7625\n",
            "Epoch 14/50\n",
            "128/128 [==============================] - 7s 56ms/step - loss: 0.5414 - accuracy: 0.7930 - val_loss: 0.6502 - val_accuracy: 0.7688\n",
            "Epoch 15/50\n",
            "128/128 [==============================] - 7s 55ms/step - loss: 0.5352 - accuracy: 0.8000 - val_loss: 0.6477 - val_accuracy: 0.7563\n",
            "Epoch 16/50\n",
            "128/128 [==============================] - 7s 56ms/step - loss: 0.5211 - accuracy: 0.8133 - val_loss: 0.6707 - val_accuracy: 0.7500\n",
            "Epoch 17/50\n",
            "128/128 [==============================] - 7s 56ms/step - loss: 0.5155 - accuracy: 0.8172 - val_loss: 0.6346 - val_accuracy: 0.7844\n",
            "Epoch 18/50\n",
            "128/128 [==============================] - 7s 56ms/step - loss: 0.5114 - accuracy: 0.7992 - val_loss: 0.6579 - val_accuracy: 0.7656\n",
            "Epoch 19/50\n",
            "128/128 [==============================] - 7s 57ms/step - loss: 0.4970 - accuracy: 0.8242 - val_loss: 0.6337 - val_accuracy: 0.7656\n",
            "Epoch 20/50\n",
            "128/128 [==============================] - 7s 56ms/step - loss: 0.4814 - accuracy: 0.8344 - val_loss: 0.6227 - val_accuracy: 0.7844\n",
            "Epoch 21/50\n",
            "128/128 [==============================] - 7s 57ms/step - loss: 0.4691 - accuracy: 0.8359 - val_loss: 0.6602 - val_accuracy: 0.7500\n",
            "Epoch 22/50\n",
            "128/128 [==============================] - 7s 56ms/step - loss: 0.4592 - accuracy: 0.8438 - val_loss: 0.6226 - val_accuracy: 0.7750\n",
            "Epoch 23/50\n",
            "128/128 [==============================] - 7s 56ms/step - loss: 0.4577 - accuracy: 0.8305 - val_loss: 0.7009 - val_accuracy: 0.7375\n",
            "Epoch 24/50\n",
            "128/128 [==============================] - 7s 56ms/step - loss: 0.4521 - accuracy: 0.8461 - val_loss: 0.6460 - val_accuracy: 0.7688\n",
            "Epoch 25/50\n",
            "128/128 [==============================] - 7s 57ms/step - loss: 0.4409 - accuracy: 0.8414 - val_loss: 0.6052 - val_accuracy: 0.7781\n",
            "Epoch 26/50\n",
            "128/128 [==============================] - 7s 56ms/step - loss: 0.4319 - accuracy: 0.8492 - val_loss: 0.6188 - val_accuracy: 0.7812\n",
            "Epoch 27/50\n",
            "128/128 [==============================] - 7s 57ms/step - loss: 0.4371 - accuracy: 0.8586 - val_loss: 0.6102 - val_accuracy: 0.7906\n",
            "Epoch 28/50\n",
            "128/128 [==============================] - 7s 56ms/step - loss: 0.4167 - accuracy: 0.8586 - val_loss: 0.6033 - val_accuracy: 0.7844\n",
            "Epoch 29/50\n",
            "128/128 [==============================] - 7s 57ms/step - loss: 0.4091 - accuracy: 0.8648 - val_loss: 0.6198 - val_accuracy: 0.7750\n",
            "Epoch 30/50\n",
            "128/128 [==============================] - 7s 56ms/step - loss: 0.4027 - accuracy: 0.8664 - val_loss: 0.6016 - val_accuracy: 0.7812\n",
            "Epoch 31/50\n",
            "128/128 [==============================] - 7s 57ms/step - loss: 0.3955 - accuracy: 0.8633 - val_loss: 0.6040 - val_accuracy: 0.7906\n",
            "Epoch 32/50\n",
            "128/128 [==============================] - 7s 57ms/step - loss: 0.3862 - accuracy: 0.8727 - val_loss: 0.6248 - val_accuracy: 0.7906\n",
            "Epoch 33/50\n",
            "128/128 [==============================] - 7s 56ms/step - loss: 0.3816 - accuracy: 0.8758 - val_loss: 0.6435 - val_accuracy: 0.7719\n",
            "Epoch 34/50\n",
            "128/128 [==============================] - 7s 57ms/step - loss: 0.3785 - accuracy: 0.8680 - val_loss: 0.5896 - val_accuracy: 0.8031\n",
            "Epoch 35/50\n",
            "128/128 [==============================] - 7s 56ms/step - loss: 0.3721 - accuracy: 0.8789 - val_loss: 0.6162 - val_accuracy: 0.7781\n",
            "Epoch 36/50\n",
            "128/128 [==============================] - 7s 57ms/step - loss: 0.3634 - accuracy: 0.8836 - val_loss: 0.5842 - val_accuracy: 0.8000\n",
            "Epoch 37/50\n",
            "128/128 [==============================] - 7s 57ms/step - loss: 0.3596 - accuracy: 0.8719 - val_loss: 0.5920 - val_accuracy: 0.7875\n",
            "Epoch 38/50\n",
            "128/128 [==============================] - 7s 56ms/step - loss: 0.3526 - accuracy: 0.8859 - val_loss: 0.5892 - val_accuracy: 0.7906\n",
            "Epoch 39/50\n",
            "128/128 [==============================] - 7s 56ms/step - loss: 0.3556 - accuracy: 0.8805 - val_loss: 0.6367 - val_accuracy: 0.7781\n",
            "Epoch 40/50\n",
            "128/128 [==============================] - 7s 57ms/step - loss: 0.3421 - accuracy: 0.8938 - val_loss: 0.6239 - val_accuracy: 0.7844\n",
            "Epoch 41/50\n",
            "128/128 [==============================] - 7s 57ms/step - loss: 0.3291 - accuracy: 0.9039 - val_loss: 0.6449 - val_accuracy: 0.7563\n",
            "Epoch 42/50\n",
            "128/128 [==============================] - 7s 57ms/step - loss: 0.3254 - accuracy: 0.9047 - val_loss: 0.5974 - val_accuracy: 0.7750\n",
            "Epoch 43/50\n",
            "128/128 [==============================] - 7s 56ms/step - loss: 0.3226 - accuracy: 0.8992 - val_loss: 0.6310 - val_accuracy: 0.7750\n",
            "Epoch 44/50\n",
            "128/128 [==============================] - 7s 57ms/step - loss: 0.3188 - accuracy: 0.9023 - val_loss: 0.5873 - val_accuracy: 0.7844\n",
            "Epoch 45/50\n",
            "128/128 [==============================] - 7s 57ms/step - loss: 0.3204 - accuracy: 0.8938 - val_loss: 0.5889 - val_accuracy: 0.7812\n",
            "Epoch 46/50\n",
            "128/128 [==============================] - 7s 57ms/step - loss: 0.3142 - accuracy: 0.9031 - val_loss: 0.6365 - val_accuracy: 0.7688\n",
            "Epoch 47/50\n",
            "128/128 [==============================] - 7s 56ms/step - loss: 0.3143 - accuracy: 0.9008 - val_loss: 0.6188 - val_accuracy: 0.7750\n",
            "Epoch 48/50\n",
            "128/128 [==============================] - 7s 56ms/step - loss: 0.3024 - accuracy: 0.9094 - val_loss: 0.6382 - val_accuracy: 0.7906\n",
            "Epoch 49/50\n",
            "128/128 [==============================] - 7s 56ms/step - loss: 0.3001 - accuracy: 0.9062 - val_loss: 0.6010 - val_accuracy: 0.7906\n",
            "Epoch 50/50\n",
            "128/128 [==============================] - 7s 57ms/step - loss: 0.2998 - accuracy: 0.9047 - val_loss: 0.5943 - val_accuracy: 0.7781\n"
          ]
        }
      ]
    },
    {
      "cell_type": "code",
      "metadata": {
        "colab": {
          "base_uri": "https://localhost:8080/"
        },
        "id": "YQNFW75lFGOH",
        "outputId": "38067e70-3077-41c0-bd18-445ca26dc29a"
      },
      "source": [
        "model.evaluate(x_test, y_test)"
      ],
      "execution_count": null,
      "outputs": [
        {
          "output_type": "stream",
          "name": "stdout",
          "text": [
            "13/13 [==============================] - 2s 78ms/step - loss: 0.4115 - accuracy: 0.8625\n"
          ]
        },
        {
          "output_type": "execute_result",
          "data": {
            "text/plain": [
              "[0.4114777743816376, 0.862500011920929]"
            ]
          },
          "metadata": {},
          "execution_count": 32
        }
      ]
    },
    {
      "cell_type": "code",
      "metadata": {
        "colab": {
          "base_uri": "https://localhost:8080/",
          "height": 333
        },
        "id": "7fxucaSRFIZ-",
        "outputId": "9d8072ed-6fdb-4f1f-9c5f-59a5b01ef06c"
      },
      "source": [
        "plot_acc_loss(history, 50)"
      ],
      "execution_count": null,
      "outputs": [
        {
          "output_type": "display_data",
          "data": {
            "image/png": "[encoded data removed]",
            "text/plain": [
              "<Figure size 1080x360 with 2 Axes>"
            ]
          },
          "metadata": {
            "needs_background": "light"
          }
        }
      ]
    },
    {
      "cell_type": "code",
      "metadata": {
        "colab": {
          "base_uri": "https://localhost:8080/"
        },
        "id": "z4hZLdPOgdWk",
        "outputId": "2c7c7997-6dc7-43f8-d2bf-ab13444f5420"
      },
      "source": [
        "y_pred =np.argmax(model.predict(x_test),axis=-1)\n",
        "y_pred"
      ],
      "execution_count": null,
      "outputs": [
        {
          "output_type": "execute_result",
          "data": {
            "text/plain": [
              "array([3, 0, 3, 2, 1, 2, 0, 3, 2, 2, 1, 3, 3, 2, 2, 2, 3, 2, 0, 1, 2, 3,\n",
              "       1, 3, 3, 1, 0, 2, 0, 1, 1, 3, 1, 3, 0, 0, 2, 1, 2, 1, 3, 0, 3, 2,\n",
              "       1, 0, 2, 3, 3, 0, 0, 1, 3, 0, 0, 1, 0, 3, 2, 3, 3, 3, 0, 2, 2, 1,\n",
              "       0, 3, 3, 2, 0, 1, 3, 0, 3, 2, 3, 2, 2, 3, 2, 1, 2, 2, 3, 3, 2, 3,\n",
              "       2, 3, 1, 0, 3, 3, 3, 0, 1, 3, 3, 1, 1, 0, 2, 2, 1, 3, 1, 1, 1, 2,\n",
              "       0, 1, 0, 3, 2, 3, 3, 3, 2, 1, 3, 0, 3, 3, 0, 0, 1, 3, 3, 3, 0, 1,\n",
              "       0, 0, 1, 3, 3, 1, 2, 0, 3, 1, 2, 2, 1, 3, 3, 2, 0, 3, 2, 1, 3, 0,\n",
              "       0, 2, 1, 3, 0, 2, 3, 2, 3, 0, 2, 2, 1, 3, 1, 1, 2, 1, 3, 0, 2, 1,\n",
              "       2, 3, 2, 2, 1, 2, 2, 1, 2, 3, 2, 3, 3, 1, 2, 0, 2, 0, 3, 3, 3, 0,\n",
              "       0, 0, 3, 1, 3, 0, 3, 3, 2, 1, 2, 3, 3, 0, 0, 0, 3, 1, 1, 0, 0, 2,\n",
              "       1, 3, 2, 2, 2, 3, 1, 2, 3, 1, 3, 1, 2, 3, 2, 1, 0, 2, 1, 0, 2, 2,\n",
              "       2, 2, 2, 0, 1, 2, 3, 0, 1, 3, 1, 2, 0, 3, 0, 1, 2, 3, 1, 3, 2, 3,\n",
              "       3, 2, 2, 2, 1, 3, 2, 2, 1, 3, 2, 1, 3, 0, 3, 0, 3, 1, 1, 3, 2, 1,\n",
              "       2, 0, 2, 2, 2, 1, 1, 0, 0, 0, 2, 1, 1, 1, 0, 2, 3, 1, 3, 1, 3, 2,\n",
              "       3, 2, 3, 1, 0, 1, 1, 1, 3, 3, 3, 1, 3, 3, 3, 3, 3, 3, 0, 2, 1, 0,\n",
              "       0, 1, 2, 1, 3, 0, 2, 2, 1, 3, 0, 3, 1, 0, 0, 0, 3, 3, 1, 1, 3, 1,\n",
              "       3, 0, 1, 1, 3, 3, 0, 3, 3, 0, 3, 3, 2, 1, 1, 0, 1, 0, 3, 1, 3, 1,\n",
              "       2, 3, 0, 2, 0, 0, 2, 0, 0, 0, 0, 1, 2, 2, 0, 0, 0, 3, 0, 2, 0, 2,\n",
              "       1, 3, 3, 0])"
            ]
          },
          "metadata": {},
          "execution_count": 34
        }
      ]
    },
    {
      "cell_type": "code",
      "metadata": {
        "colab": {
          "base_uri": "https://localhost:8080/"
        },
        "id": "15yyqn_Vgg5c",
        "outputId": "898dbfb7-1b5e-4676-9621-a34245322051"
      },
      "source": [
        "y_test"
      ],
      "execution_count": null,
      "outputs": [
        {
          "output_type": "execute_result",
          "data": {
            "text/plain": [
              "array([3, 0, 3, 2, 1, 2, 0, 3, 2, 2, 1, 3, 2, 2, 2, 3, 3, 1, 0, 1, 2, 3,\n",
              "       1, 3, 3, 1, 0, 2, 1, 1, 1, 3, 1, 3, 1, 0, 2, 0, 2, 1, 3, 0, 3, 2,\n",
              "       0, 0, 2, 3, 3, 0, 0, 0, 3, 0, 0, 1, 0, 3, 2, 3, 3, 2, 0, 2, 2, 1,\n",
              "       0, 2, 3, 2, 0, 1, 3, 0, 3, 2, 3, 2, 3, 3, 2, 1, 2, 2, 3, 3, 2, 3,\n",
              "       2, 3, 2, 0, 1, 3, 2, 0, 1, 3, 2, 0, 1, 0, 0, 2, 1, 3, 1, 1, 1, 2,\n",
              "       0, 3, 0, 3, 2, 1, 3, 3, 2, 1, 3, 0, 3, 3, 0, 1, 1, 3, 3, 3, 0, 1,\n",
              "       0, 2, 0, 3, 3, 0, 2, 0, 3, 2, 2, 2, 1, 3, 3, 2, 0, 1, 2, 0, 3, 0,\n",
              "       0, 2, 1, 3, 0, 2, 3, 2, 3, 0, 2, 2, 3, 3, 1, 1, 2, 1, 3, 0, 2, 2,\n",
              "       2, 1, 2, 2, 0, 2, 2, 0, 2, 0, 2, 3, 3, 1, 2, 1, 2, 0, 3, 3, 3, 0,\n",
              "       0, 0, 3, 1, 2, 0, 3, 3, 2, 1, 2, 3, 3, 0, 0, 1, 3, 1, 1, 0, 0, 2,\n",
              "       1, 3, 2, 1, 2, 3, 1, 2, 3, 1, 2, 1, 2, 3, 2, 1, 0, 1, 1, 0, 2, 2,\n",
              "       2, 2, 2, 0, 1, 2, 3, 0, 1, 3, 1, 2, 1, 3, 0, 1, 2, 3, 1, 3, 2, 3,\n",
              "       3, 2, 2, 2, 1, 3, 2, 2, 1, 3, 2, 1, 3, 0, 3, 0, 3, 1, 1, 2, 2, 1,\n",
              "       2, 0, 2, 2, 2, 1, 0, 0, 2, 1, 2, 1, 1, 1, 0, 2, 3, 1, 3, 1, 3, 2,\n",
              "       3, 2, 3, 1, 1, 1, 1, 0, 3, 2, 3, 2, 3, 3, 3, 3, 3, 3, 0, 2, 1, 0,\n",
              "       0, 0, 2, 1, 3, 0, 2, 1, 1, 3, 0, 3, 1, 0, 0, 3, 3, 3, 1, 1, 3, 1,\n",
              "       3, 2, 1, 1, 3, 3, 0, 3, 3, 0, 3, 3, 2, 1, 1, 3, 0, 0, 3, 0, 3, 1,\n",
              "       2, 3, 0, 2, 0, 0, 2, 0, 0, 0, 0, 1, 2, 2, 0, 0, 0, 3, 0, 2, 0, 2,\n",
              "       1, 2, 3, 0])"
            ]
          },
          "metadata": {},
          "execution_count": 35
        }
      ]
    },
    {
      "cell_type": "markdown",
      "metadata": {
        "id": "Vpepwo7fgtue"
      },
      "source": [
        "##accuracy_score"
      ]
    },
    {
      "cell_type": "code",
      "metadata": {
        "colab": {
          "base_uri": "https://localhost:8080/"
        },
        "id": "TFQU3pXLgvsv",
        "outputId": "472df03e-6434-4bef-da5d-e759acc44bb5"
      },
      "source": [
        "from sklearn.metrics import accuracy_score\n",
        "\n",
        "print('Accuracy Score: {:.4f}'.format(accuracy_score(y_test,y_pred)))"
      ],
      "execution_count": null,
      "outputs": [
        {
          "output_type": "stream",
          "name": "stdout",
          "text": [
            "Accuracy Score: 0.8625\n"
          ]
        }
      ]
    },
    {
      "cell_type": "markdown",
      "metadata": {
        "id": "43Cjx3GHg_jM"
      },
      "source": [
        "##Classification Report "
      ]
    },
    {
      "cell_type": "code",
      "metadata": {
        "colab": {
          "base_uri": "https://localhost:8080/"
        },
        "id": "rQ0o-u92hDlO",
        "outputId": "bea7a5d9-d47b-4b0e-d466-722ed729aabc"
      },
      "source": [
        "from sklearn.metrics import classification_report, confusion_matrix\n",
        "import seaborn as sns\n",
        "\n",
        "target_names = ['L1', 'L2', 'L3', 'L4']\n",
        "cmatrix = confusion_matrix(y_test, y_pred)\n",
        "creport = classification_report(y_test, y_pred, target_names=target_names)\n",
        "\n",
        "# print(\"Accuracy : {:.3f}%\".format(acc*100))\n",
        "# print(\"Loss     : {:.3f}\".format(loss))\n",
        "\n",
        "print(\"\\nClassification Report \\n\")\n",
        "print(creport)"
      ],
      "execution_count": null,
      "outputs": [
        {
          "output_type": "stream",
          "name": "stdout",
          "text": [
            "\n",
            "Classification Report \n",
            "\n",
            "              precision    recall  f1-score   support\n",
            "\n",
            "          L1       0.85      0.82      0.84        90\n",
            "          L2       0.78      0.82      0.80        88\n",
            "          L3       0.93      0.84      0.88       108\n",
            "          L4       0.88      0.95      0.91       114\n",
            "\n",
            "    accuracy                           0.86       400\n",
            "   macro avg       0.86      0.86      0.86       400\n",
            "weighted avg       0.86      0.86      0.86       400\n",
            "\n"
          ]
        }
      ]
    },
    {
      "cell_type": "markdown",
      "metadata": {
        "id": "3mfo8lFxhKuG"
      },
      "source": [
        "##Confusion Matrix"
      ]
    },
    {
      "cell_type": "code",
      "metadata": {
        "colab": {
          "base_uri": "https://localhost:8080/",
          "height": 564
        },
        "id": "UHrjygt7hMIa",
        "outputId": "4aab63f6-425f-4e0a-b54e-f863f82cdefb"
      },
      "source": [
        "fig, ax = plt.subplots(figsize=(8, 8))\n",
        "sns.heatmap(cmatrix, cmap=\"crest_r\", annot=True, fmt='.4g', linewidths=2, linecolor='white', cbar=False, ax=ax)\n",
        "# cmap options: rocket, mako, flare, crest, magma, viridis, rocket_r, cubehelix, seagreen, Blues, ...\n",
        "\n",
        "ax.set_title('Confusion Matrix', fontsize=18, pad=24)\n",
        "ax.set_xticklabels(labels=target_names, fontsize=12)\n",
        "ax.set_yticklabels(labels=target_names, fontsize=12)\n",
        "\n",
        "plt.xlabel(\"(y) Predict Label\", fontsize=16, color=\"darkgreen\", labelpad=24)\n",
        "plt.ylabel(\"(y) Actual Label\", fontsize=16, color=\"darkgreen\", labelpad=24)\n",
        "plt.xticks(rotation=90)\n",
        "plt.yticks(rotation=0)\n",
        "plt.show()"
      ],
      "execution_count": null,
      "outputs": [
        {
          "output_type": "display_data",
          "data": {
            "image/png": "[encoded data removed]",
            "text/plain": [
              "<Figure size 576x576 with 1 Axes>"
            ]
          },
          "metadata": {
            "needs_background": "light"
          }
        }
      ]
    },
    {
      "cell_type": "markdown",
      "metadata": {
        "id": "7CP7LXNrh0P7"
      },
      "source": [
        "## Step 5: Save Model"
      ]
    },
    {
      "cell_type": "code",
      "metadata": {
        "colab": {
          "base_uri": "https://localhost:8080/"
        },
        "id": "T48PxIQJh1wD",
        "outputId": "9bdff4d1-90bd-4f8d-e0d2-a0a30f373765"
      },
      "source": [
        "# Save the entire model as a SavedModel.\n",
        "model.save('saved_model/my_model') "
      ],
      "execution_count": null,
      "outputs": [
        {
          "output_type": "stream",
          "name": "stdout",
          "text": [
            "INFO:tensorflow:Assets written to: saved_model/my_model/assets\n"
          ]
        }
      ]
    },
    {
      "cell_type": "code",
      "metadata": {
        "colab": {
          "base_uri": "https://localhost:8080/"
        },
        "id": "mEa3ZEjbh6tx",
        "outputId": "9bab0e3b-ec91-4c8e-8510-72ac4eedcbc6"
      },
      "source": [
        "model= tf.keras.models.load_model('saved_model/my_model')\n",
        "tflite_converter = tf.lite.TFLiteConverter.from_keras_model(model)\n",
        "tflite_model = tflite_converter.convert()\n",
        "open(\"tf_lite_model(200epochsmobnet).tflite\", \"wb\").write(tflite_model) "
      ],
      "execution_count": null,
      "outputs": [
        {
          "output_type": "stream",
          "name": "stdout",
          "text": [
            "INFO:tensorflow:Assets written to: /tmp/tmph0ptkp2b/assets\n"
          ]
        },
        {
          "output_type": "execute_result",
          "data": {
            "text/plain": [
              "2384400"
            ]
          },
          "metadata": {},
          "execution_count": 40
        }
      ]
    },
    {
      "cell_type": "code",
      "metadata": {
        "id": "u7m0Jnrjh9jL"
      },
      "source": [
        "# model.save(\"model_without_kfold.h5\")       # Save Model as h5\n",
        "model_csv = pd.DataFrame(history.history)  # Save Model Report to csv\n",
        "csv_file = \"Simple_Model.csv\"\n",
        "with open(csv_file, mode=\"w\") as f:\n",
        "  model_csv.to_csv(f)"
      ],
      "execution_count": null,
      "outputs": []
    },
    {
      "cell_type": "markdown",
      "metadata": {
        "id": "gw-dixR66ZPd"
      },
      "source": [
        "## Step 6 : Deployment"
      ]
    },
    {
      "cell_type": "markdown",
      "metadata": {
        "id": "ekHoPmgX6cOv"
      },
      "source": [
        "## Implement image classification model using pre-trained model"
      ]
    },
    {
      "cell_type": "markdown",
      "metadata": {
        "id": "9BBP6Nbr6pFB"
      },
      "source": [
        "#InceptionV3"
      ]
    },
    {
      "cell_type": "code",
      "metadata": {
        "id": "7Cl_1CJ46rkd"
      },
      "source": [
        "from tensorflow.keras.applications.inception_v3 import InceptionV3"
      ],
      "execution_count": null,
      "outputs": []
    },
    {
      "cell_type": "markdown",
      "metadata": {
        "id": "bZfDk1a-6wre"
      },
      "source": [
        "##Step 2: Data Preparations"
      ]
    },
    {
      "cell_type": "code",
      "metadata": {
        "id": "8R13ozB-76Pl"
      },
      "source": [
        "X=np.array(COVID19_images+LUNG_images+NORMAL_images+PNEUMONIA_images).astype('float32')/255"
      ],
      "execution_count": null,
      "outputs": []
    },
    {
      "cell_type": "code",
      "metadata": {
        "colab": {
          "base_uri": "https://localhost:8080/"
        },
        "id": "soWoyKeq8M5a",
        "outputId": "cbfa0b99-1211-44de-96f7-e6e4a3a79047"
      },
      "source": [
        "X.shape"
      ],
      "execution_count": null,
      "outputs": [
        {
          "output_type": "execute_result",
          "data": {
            "text/plain": [
              "(2000, 224, 224, 3)"
            ]
          },
          "metadata": {},
          "execution_count": 115
        }
      ]
    },
    {
      "cell_type": "code",
      "metadata": {
        "colab": {
          "base_uri": "https://localhost:8080/"
        },
        "id": "dDAlcNUM8X4z",
        "outputId": "8e38ceac-4d2d-4043-9f46-f3fe72c48c09"
      },
      "source": [
        "Y = np.array([0] * 500 + [1] * 500 + [2] * 500+ [3] * 500)    \n",
        "Y"
      ],
      "execution_count": null,
      "outputs": [
        {
          "output_type": "execute_result",
          "data": {
            "text/plain": [
              "array([0, 0, 0, ..., 3, 3, 3])"
            ]
          },
          "metadata": {},
          "execution_count": 116
        }
      ]
    },
    {
      "cell_type": "markdown",
      "metadata": {
        "id": "Nc4w-Ky59F6D"
      },
      "source": [
        "## 80:20"
      ]
    },
    {
      "cell_type": "code",
      "metadata": {
        "id": "xK77Xr6i8iqb"
      },
      "source": [
        "x_train, x_test, y_train, y_test = train_test_split(X , Y , train_size =0.80, test_size =0.20, random_state =30)"
      ],
      "execution_count": null,
      "outputs": []
    },
    {
      "cell_type": "code",
      "metadata": {
        "colab": {
          "base_uri": "https://localhost:8080/"
        },
        "id": "XFOcLpnB8waM",
        "outputId": "ac72ecca-91d6-4d2c-e278-eb19a0be3741"
      },
      "source": [
        "x_train.shape"
      ],
      "execution_count": null,
      "outputs": [
        {
          "output_type": "execute_result",
          "data": {
            "text/plain": [
              "(1600, 224, 224, 3)"
            ]
          },
          "metadata": {},
          "execution_count": 118
        }
      ]
    },
    {
      "cell_type": "code",
      "metadata": {
        "colab": {
          "base_uri": "https://localhost:8080/"
        },
        "id": "jAs2ivhW802d",
        "outputId": "89c46861-3808-47b7-e9c6-d079477bc826"
      },
      "source": [
        "x_test.shape"
      ],
      "execution_count": null,
      "outputs": [
        {
          "output_type": "execute_result",
          "data": {
            "text/plain": [
              "(400, 224, 224, 3)"
            ]
          },
          "metadata": {},
          "execution_count": 119
        }
      ]
    },
    {
      "cell_type": "code",
      "metadata": {
        "colab": {
          "base_uri": "https://localhost:8080/"
        },
        "id": "dVzbwcGV85Gt",
        "outputId": "4d192969-e017-4864-e185-5e152b7aba85"
      },
      "source": [
        "y_train.shape"
      ],
      "execution_count": null,
      "outputs": [
        {
          "output_type": "execute_result",
          "data": {
            "text/plain": [
              "(1600,)"
            ]
          },
          "metadata": {},
          "execution_count": 120
        }
      ]
    },
    {
      "cell_type": "code",
      "metadata": {
        "colab": {
          "base_uri": "https://localhost:8080/"
        },
        "id": "Zb7fp4nT86aY",
        "outputId": "9c87fa49-b3b6-47e5-f120-92046686f470"
      },
      "source": [
        "y_test.shape"
      ],
      "execution_count": null,
      "outputs": [
        {
          "output_type": "execute_result",
          "data": {
            "text/plain": [
              "(400,)"
            ]
          },
          "metadata": {},
          "execution_count": 121
        }
      ]
    },
    {
      "cell_type": "markdown",
      "metadata": {
        "id": "AX8DAlAq9ODL"
      },
      "source": [
        "##Step3 Build Inception Model"
      ]
    },
    {
      "cell_type": "code",
      "metadata": {
        "id": "fM1zmGec9RUk"
      },
      "source": [
        "InceptionV3_model =InceptionV3(input_shape=(224,224,3),include_top=False,weights='imagenet')"
      ],
      "execution_count": null,
      "outputs": []
    },
    {
      "cell_type": "code",
      "metadata": {
        "colab": {
          "base_uri": "https://localhost:8080/"
        },
        "id": "IIc8lcPi9TTU",
        "outputId": "89f3a164-f7e5-4f81-ac35-83cca90bb17c"
      },
      "source": [
        "InceptionV3_model.summary()"
      ],
      "execution_count": null,
      "outputs": [
        {
          "output_type": "stream",
          "name": "stdout",
          "text": [
            "Model: \"inception_v3\"\n",
            "__________________________________________________________________________________________________\n",
            "Layer (type)                    Output Shape         Param #     Connected to                     \n",
            "==================================================================================================\n",
            "input_7 (InputLayer)            [(None, 224, 224, 3) 0                                            \n",
            "__________________________________________________________________________________________________\n",
            "conv2d_284 (Conv2D)             (None, 111, 111, 32) 864         input_7[0][0]                    \n",
            "__________________________________________________________________________________________________\n",
            "batch_normalization_282 (BatchN (None, 111, 111, 32) 96          conv2d_284[0][0]                 \n",
            "__________________________________________________________________________________________________\n",
            "activation_282 (Activation)     (None, 111, 111, 32) 0           batch_normalization_282[0][0]    \n",
            "__________________________________________________________________________________________________\n",
            "conv2d_285 (Conv2D)             (None, 109, 109, 32) 9216        activation_282[0][0]             \n",
            "__________________________________________________________________________________________________\n",
            "batch_normalization_283 (BatchN (None, 109, 109, 32) 96          conv2d_285[0][0]                 \n",
            "__________________________________________________________________________________________________\n",
            "activation_283 (Activation)     (None, 109, 109, 32) 0           batch_normalization_283[0][0]    \n",
            "__________________________________________________________________________________________________\n",
            "conv2d_286 (Conv2D)             (None, 109, 109, 64) 18432       activation_283[0][0]             \n",
            "__________________________________________________________________________________________________\n",
            "batch_normalization_284 (BatchN (None, 109, 109, 64) 192         conv2d_286[0][0]                 \n",
            "__________________________________________________________________________________________________\n",
            "activation_284 (Activation)     (None, 109, 109, 64) 0           batch_normalization_284[0][0]    \n",
            "__________________________________________________________________________________________________\n",
            "max_pooling2d_12 (MaxPooling2D) (None, 54, 54, 64)   0           activation_284[0][0]             \n",
            "__________________________________________________________________________________________________\n",
            "conv2d_287 (Conv2D)             (None, 54, 54, 80)   5120        max_pooling2d_12[0][0]           \n",
            "__________________________________________________________________________________________________\n",
            "batch_normalization_285 (BatchN (None, 54, 54, 80)   240         conv2d_287[0][0]                 \n",
            "__________________________________________________________________________________________________\n",
            "activation_285 (Activation)     (None, 54, 54, 80)   0           batch_normalization_285[0][0]    \n",
            "__________________________________________________________________________________________________\n",
            "conv2d_288 (Conv2D)             (None, 52, 52, 192)  138240      activation_285[0][0]             \n",
            "__________________________________________________________________________________________________\n",
            "batch_normalization_286 (BatchN (None, 52, 52, 192)  576         conv2d_288[0][0]                 \n",
            "__________________________________________________________________________________________________\n",
            "activation_286 (Activation)     (None, 52, 52, 192)  0           batch_normalization_286[0][0]    \n",
            "__________________________________________________________________________________________________\n",
            "max_pooling2d_13 (MaxPooling2D) (None, 25, 25, 192)  0           activation_286[0][0]             \n",
            "__________________________________________________________________________________________________\n",
            "conv2d_292 (Conv2D)             (None, 25, 25, 64)   12288       max_pooling2d_13[0][0]           \n",
            "__________________________________________________________________________________________________\n",
            "batch_normalization_290 (BatchN (None, 25, 25, 64)   192         conv2d_292[0][0]                 \n",
            "__________________________________________________________________________________________________\n",
            "activation_290 (Activation)     (None, 25, 25, 64)   0           batch_normalization_290[0][0]    \n",
            "__________________________________________________________________________________________________\n",
            "conv2d_290 (Conv2D)             (None, 25, 25, 48)   9216        max_pooling2d_13[0][0]           \n",
            "__________________________________________________________________________________________________\n",
            "conv2d_293 (Conv2D)             (None, 25, 25, 96)   55296       activation_290[0][0]             \n",
            "__________________________________________________________________________________________________\n",
            "batch_normalization_288 (BatchN (None, 25, 25, 48)   144         conv2d_290[0][0]                 \n",
            "__________________________________________________________________________________________________\n",
            "batch_normalization_291 (BatchN (None, 25, 25, 96)   288         conv2d_293[0][0]                 \n",
            "__________________________________________________________________________________________________\n",
            "activation_288 (Activation)     (None, 25, 25, 48)   0           batch_normalization_288[0][0]    \n",
            "__________________________________________________________________________________________________\n",
            "activation_291 (Activation)     (None, 25, 25, 96)   0           batch_normalization_291[0][0]    \n",
            "__________________________________________________________________________________________________\n",
            "average_pooling2d_29 (AveragePo (None, 25, 25, 192)  0           max_pooling2d_13[0][0]           \n",
            "__________________________________________________________________________________________________\n",
            "conv2d_289 (Conv2D)             (None, 25, 25, 64)   12288       max_pooling2d_13[0][0]           \n",
            "__________________________________________________________________________________________________\n",
            "conv2d_291 (Conv2D)             (None, 25, 25, 64)   76800       activation_288[0][0]             \n",
            "__________________________________________________________________________________________________\n",
            "conv2d_294 (Conv2D)             (None, 25, 25, 96)   82944       activation_291[0][0]             \n",
            "__________________________________________________________________________________________________\n",
            "conv2d_295 (Conv2D)             (None, 25, 25, 32)   6144        average_pooling2d_29[0][0]       \n",
            "__________________________________________________________________________________________________\n",
            "batch_normalization_287 (BatchN (None, 25, 25, 64)   192         conv2d_289[0][0]                 \n",
            "__________________________________________________________________________________________________\n",
            "batch_normalization_289 (BatchN (None, 25, 25, 64)   192         conv2d_291[0][0]                 \n",
            "__________________________________________________________________________________________________\n",
            "batch_normalization_292 (BatchN (None, 25, 25, 96)   288         conv2d_294[0][0]                 \n",
            "__________________________________________________________________________________________________\n",
            "batch_normalization_293 (BatchN (None, 25, 25, 32)   96          conv2d_295[0][0]                 \n",
            "__________________________________________________________________________________________________\n",
            "activation_287 (Activation)     (None, 25, 25, 64)   0           batch_normalization_287[0][0]    \n",
            "__________________________________________________________________________________________________\n",
            "activation_289 (Activation)     (None, 25, 25, 64)   0           batch_normalization_289[0][0]    \n",
            "__________________________________________________________________________________________________\n",
            "activation_292 (Activation)     (None, 25, 25, 96)   0           batch_normalization_292[0][0]    \n",
            "__________________________________________________________________________________________________\n",
            "activation_293 (Activation)     (None, 25, 25, 32)   0           batch_normalization_293[0][0]    \n",
            "__________________________________________________________________________________________________\n",
            "mixed0 (Concatenate)            (None, 25, 25, 256)  0           activation_287[0][0]             \n",
            "                                                                 activation_289[0][0]             \n",
            "                                                                 activation_292[0][0]             \n",
            "                                                                 activation_293[0][0]             \n",
            "__________________________________________________________________________________________________\n",
            "conv2d_299 (Conv2D)             (None, 25, 25, 64)   16384       mixed0[0][0]                     \n",
            "__________________________________________________________________________________________________\n",
            "batch_normalization_297 (BatchN (None, 25, 25, 64)   192         conv2d_299[0][0]                 \n",
            "__________________________________________________________________________________________________\n",
            "activation_297 (Activation)     (None, 25, 25, 64)   0           batch_normalization_297[0][0]    \n",
            "__________________________________________________________________________________________________\n",
            "conv2d_297 (Conv2D)             (None, 25, 25, 48)   12288       mixed0[0][0]                     \n",
            "__________________________________________________________________________________________________\n",
            "conv2d_300 (Conv2D)             (None, 25, 25, 96)   55296       activation_297[0][0]             \n",
            "__________________________________________________________________________________________________\n",
            "batch_normalization_295 (BatchN (None, 25, 25, 48)   144         conv2d_297[0][0]                 \n",
            "__________________________________________________________________________________________________\n",
            "batch_normalization_298 (BatchN (None, 25, 25, 96)   288         conv2d_300[0][0]                 \n",
            "__________________________________________________________________________________________________\n",
            "activation_295 (Activation)     (None, 25, 25, 48)   0           batch_normalization_295[0][0]    \n",
            "__________________________________________________________________________________________________\n",
            "activation_298 (Activation)     (None, 25, 25, 96)   0           batch_normalization_298[0][0]    \n",
            "__________________________________________________________________________________________________\n",
            "average_pooling2d_30 (AveragePo (None, 25, 25, 256)  0           mixed0[0][0]                     \n",
            "__________________________________________________________________________________________________\n",
            "conv2d_296 (Conv2D)             (None, 25, 25, 64)   16384       mixed0[0][0]                     \n",
            "__________________________________________________________________________________________________\n",
            "conv2d_298 (Conv2D)             (None, 25, 25, 64)   76800       activation_295[0][0]             \n",
            "__________________________________________________________________________________________________\n",
            "conv2d_301 (Conv2D)             (None, 25, 25, 96)   82944       activation_298[0][0]             \n",
            "__________________________________________________________________________________________________\n",
            "conv2d_302 (Conv2D)             (None, 25, 25, 64)   16384       average_pooling2d_30[0][0]       \n",
            "__________________________________________________________________________________________________\n",
            "batch_normalization_294 (BatchN (None, 25, 25, 64)   192         conv2d_296[0][0]                 \n",
            "__________________________________________________________________________________________________\n",
            "batch_normalization_296 (BatchN (None, 25, 25, 64)   192         conv2d_298[0][0]                 \n",
            "__________________________________________________________________________________________________\n",
            "batch_normalization_299 (BatchN (None, 25, 25, 96)   288         conv2d_301[0][0]                 \n",
            "__________________________________________________________________________________________________\n",
            "batch_normalization_300 (BatchN (None, 25, 25, 64)   192         conv2d_302[0][0]                 \n",
            "__________________________________________________________________________________________________\n",
            "activation_294 (Activation)     (None, 25, 25, 64)   0           batch_normalization_294[0][0]    \n",
            "__________________________________________________________________________________________________\n",
            "activation_296 (Activation)     (None, 25, 25, 64)   0           batch_normalization_296[0][0]    \n",
            "__________________________________________________________________________________________________\n",
            "activation_299 (Activation)     (None, 25, 25, 96)   0           batch_normalization_299[0][0]    \n",
            "__________________________________________________________________________________________________\n",
            "activation_300 (Activation)     (None, 25, 25, 64)   0           batch_normalization_300[0][0]    \n",
            "__________________________________________________________________________________________________\n",
            "mixed1 (Concatenate)            (None, 25, 25, 288)  0           activation_294[0][0]             \n",
            "                                                                 activation_296[0][0]             \n",
            "                                                                 activation_299[0][0]             \n",
            "                                                                 activation_300[0][0]             \n",
            "__________________________________________________________________________________________________\n",
            "conv2d_306 (Conv2D)             (None, 25, 25, 64)   18432       mixed1[0][0]                     \n",
            "__________________________________________________________________________________________________\n",
            "batch_normalization_304 (BatchN (None, 25, 25, 64)   192         conv2d_306[0][0]                 \n",
            "__________________________________________________________________________________________________\n",
            "activation_304 (Activation)     (None, 25, 25, 64)   0           batch_normalization_304[0][0]    \n",
            "__________________________________________________________________________________________________\n",
            "conv2d_304 (Conv2D)             (None, 25, 25, 48)   13824       mixed1[0][0]                     \n",
            "__________________________________________________________________________________________________\n",
            "conv2d_307 (Conv2D)             (None, 25, 25, 96)   55296       activation_304[0][0]             \n",
            "__________________________________________________________________________________________________\n",
            "batch_normalization_302 (BatchN (None, 25, 25, 48)   144         conv2d_304[0][0]                 \n",
            "__________________________________________________________________________________________________\n",
            "batch_normalization_305 (BatchN (None, 25, 25, 96)   288         conv2d_307[0][0]                 \n",
            "__________________________________________________________________________________________________\n",
            "activation_302 (Activation)     (None, 25, 25, 48)   0           batch_normalization_302[0][0]    \n",
            "__________________________________________________________________________________________________\n",
            "activation_305 (Activation)     (None, 25, 25, 96)   0           batch_normalization_305[0][0]    \n",
            "__________________________________________________________________________________________________\n",
            "average_pooling2d_31 (AveragePo (None, 25, 25, 288)  0           mixed1[0][0]                     \n",
            "__________________________________________________________________________________________________\n",
            "conv2d_303 (Conv2D)             (None, 25, 25, 64)   18432       mixed1[0][0]                     \n",
            "__________________________________________________________________________________________________\n",
            "conv2d_305 (Conv2D)             (None, 25, 25, 64)   76800       activation_302[0][0]             \n",
            "__________________________________________________________________________________________________\n",
            "conv2d_308 (Conv2D)             (None, 25, 25, 96)   82944       activation_305[0][0]             \n",
            "__________________________________________________________________________________________________\n",
            "conv2d_309 (Conv2D)             (None, 25, 25, 64)   18432       average_pooling2d_31[0][0]       \n",
            "__________________________________________________________________________________________________\n",
            "batch_normalization_301 (BatchN (None, 25, 25, 64)   192         conv2d_303[0][0]                 \n",
            "__________________________________________________________________________________________________\n",
            "batch_normalization_303 (BatchN (None, 25, 25, 64)   192         conv2d_305[0][0]                 \n",
            "__________________________________________________________________________________________________\n",
            "batch_normalization_306 (BatchN (None, 25, 25, 96)   288         conv2d_308[0][0]                 \n",
            "__________________________________________________________________________________________________\n",
            "batch_normalization_307 (BatchN (None, 25, 25, 64)   192         conv2d_309[0][0]                 \n",
            "__________________________________________________________________________________________________\n",
            "activation_301 (Activation)     (None, 25, 25, 64)   0           batch_normalization_301[0][0]    \n",
            "__________________________________________________________________________________________________\n",
            "activation_303 (Activation)     (None, 25, 25, 64)   0           batch_normalization_303[0][0]    \n",
            "__________________________________________________________________________________________________\n",
            "activation_306 (Activation)     (None, 25, 25, 96)   0           batch_normalization_306[0][0]    \n",
            "__________________________________________________________________________________________________\n",
            "activation_307 (Activation)     (None, 25, 25, 64)   0           batch_normalization_307[0][0]    \n",
            "__________________________________________________________________________________________________\n",
            "mixed2 (Concatenate)            (None, 25, 25, 288)  0           activation_301[0][0]             \n",
            "                                                                 activation_303[0][0]             \n",
            "                                                                 activation_306[0][0]             \n",
            "                                                                 activation_307[0][0]             \n",
            "__________________________________________________________________________________________________\n",
            "conv2d_311 (Conv2D)             (None, 25, 25, 64)   18432       mixed2[0][0]                     \n",
            "__________________________________________________________________________________________________\n",
            "batch_normalization_309 (BatchN (None, 25, 25, 64)   192         conv2d_311[0][0]                 \n",
            "__________________________________________________________________________________________________\n",
            "activation_309 (Activation)     (None, 25, 25, 64)   0           batch_normalization_309[0][0]    \n",
            "__________________________________________________________________________________________________\n",
            "conv2d_312 (Conv2D)             (None, 25, 25, 96)   55296       activation_309[0][0]             \n",
            "__________________________________________________________________________________________________\n",
            "batch_normalization_310 (BatchN (None, 25, 25, 96)   288         conv2d_312[0][0]                 \n",
            "__________________________________________________________________________________________________\n",
            "activation_310 (Activation)     (None, 25, 25, 96)   0           batch_normalization_310[0][0]    \n",
            "__________________________________________________________________________________________________\n",
            "conv2d_310 (Conv2D)             (None, 12, 12, 384)  995328      mixed2[0][0]                     \n",
            "__________________________________________________________________________________________________\n",
            "conv2d_313 (Conv2D)             (None, 12, 12, 96)   82944       activation_310[0][0]             \n",
            "__________________________________________________________________________________________________\n",
            "batch_normalization_308 (BatchN (None, 12, 12, 384)  1152        conv2d_310[0][0]                 \n",
            "__________________________________________________________________________________________________\n",
            "batch_normalization_311 (BatchN (None, 12, 12, 96)   288         conv2d_313[0][0]                 \n",
            "__________________________________________________________________________________________________\n",
            "activation_308 (Activation)     (None, 12, 12, 384)  0           batch_normalization_308[0][0]    \n",
            "__________________________________________________________________________________________________\n",
            "activation_311 (Activation)     (None, 12, 12, 96)   0           batch_normalization_311[0][0]    \n",
            "__________________________________________________________________________________________________\n",
            "max_pooling2d_14 (MaxPooling2D) (None, 12, 12, 288)  0           mixed2[0][0]                     \n",
            "__________________________________________________________________________________________________\n",
            "mixed3 (Concatenate)            (None, 12, 12, 768)  0           activation_308[0][0]             \n",
            "                                                                 activation_311[0][0]             \n",
            "                                                                 max_pooling2d_14[0][0]           \n",
            "__________________________________________________________________________________________________\n",
            "conv2d_318 (Conv2D)             (None, 12, 12, 128)  98304       mixed3[0][0]                     \n",
            "__________________________________________________________________________________________________\n",
            "batch_normalization_316 (BatchN (None, 12, 12, 128)  384         conv2d_318[0][0]                 \n",
            "__________________________________________________________________________________________________\n",
            "activation_316 (Activation)     (None, 12, 12, 128)  0           batch_normalization_316[0][0]    \n",
            "__________________________________________________________________________________________________\n",
            "conv2d_319 (Conv2D)             (None, 12, 12, 128)  114688      activation_316[0][0]             \n",
            "__________________________________________________________________________________________________\n",
            "batch_normalization_317 (BatchN (None, 12, 12, 128)  384         conv2d_319[0][0]                 \n",
            "__________________________________________________________________________________________________\n",
            "activation_317 (Activation)     (None, 12, 12, 128)  0           batch_normalization_317[0][0]    \n",
            "__________________________________________________________________________________________________\n",
            "conv2d_315 (Conv2D)             (None, 12, 12, 128)  98304       mixed3[0][0]                     \n",
            "__________________________________________________________________________________________________\n",
            "conv2d_320 (Conv2D)             (None, 12, 12, 128)  114688      activation_317[0][0]             \n",
            "__________________________________________________________________________________________________\n",
            "batch_normalization_313 (BatchN (None, 12, 12, 128)  384         conv2d_315[0][0]                 \n",
            "__________________________________________________________________________________________________\n",
            "batch_normalization_318 (BatchN (None, 12, 12, 128)  384         conv2d_320[0][0]                 \n",
            "__________________________________________________________________________________________________\n",
            "activation_313 (Activation)     (None, 12, 12, 128)  0           batch_normalization_313[0][0]    \n",
            "__________________________________________________________________________________________________\n",
            "activation_318 (Activation)     (None, 12, 12, 128)  0           batch_normalization_318[0][0]    \n",
            "__________________________________________________________________________________________________\n",
            "conv2d_316 (Conv2D)             (None, 12, 12, 128)  114688      activation_313[0][0]             \n",
            "__________________________________________________________________________________________________\n",
            "conv2d_321 (Conv2D)             (None, 12, 12, 128)  114688      activation_318[0][0]             \n",
            "__________________________________________________________________________________________________\n",
            "batch_normalization_314 (BatchN (None, 12, 12, 128)  384         conv2d_316[0][0]                 \n",
            "__________________________________________________________________________________________________\n",
            "batch_normalization_319 (BatchN (None, 12, 12, 128)  384         conv2d_321[0][0]                 \n",
            "__________________________________________________________________________________________________\n",
            "activation_314 (Activation)     (None, 12, 12, 128)  0           batch_normalization_314[0][0]    \n",
            "__________________________________________________________________________________________________\n",
            "activation_319 (Activation)     (None, 12, 12, 128)  0           batch_normalization_319[0][0]    \n",
            "__________________________________________________________________________________________________\n",
            "average_pooling2d_32 (AveragePo (None, 12, 12, 768)  0           mixed3[0][0]                     \n",
            "__________________________________________________________________________________________________\n",
            "conv2d_314 (Conv2D)             (None, 12, 12, 192)  147456      mixed3[0][0]                     \n",
            "__________________________________________________________________________________________________\n",
            "conv2d_317 (Conv2D)             (None, 12, 12, 192)  172032      activation_314[0][0]             \n",
            "__________________________________________________________________________________________________\n",
            "conv2d_322 (Conv2D)             (None, 12, 12, 192)  172032      activation_319[0][0]             \n",
            "__________________________________________________________________________________________________\n",
            "conv2d_323 (Conv2D)             (None, 12, 12, 192)  147456      average_pooling2d_32[0][0]       \n",
            "__________________________________________________________________________________________________\n",
            "batch_normalization_312 (BatchN (None, 12, 12, 192)  576         conv2d_314[0][0]                 \n",
            "__________________________________________________________________________________________________\n",
            "batch_normalization_315 (BatchN (None, 12, 12, 192)  576         conv2d_317[0][0]                 \n",
            "__________________________________________________________________________________________________\n",
            "batch_normalization_320 (BatchN (None, 12, 12, 192)  576         conv2d_322[0][0]                 \n",
            "__________________________________________________________________________________________________\n",
            "batch_normalization_321 (BatchN (None, 12, 12, 192)  576         conv2d_323[0][0]                 \n",
            "__________________________________________________________________________________________________\n",
            "activation_312 (Activation)     (None, 12, 12, 192)  0           batch_normalization_312[0][0]    \n",
            "__________________________________________________________________________________________________\n",
            "activation_315 (Activation)     (None, 12, 12, 192)  0           batch_normalization_315[0][0]    \n",
            "__________________________________________________________________________________________________\n",
            "activation_320 (Activation)     (None, 12, 12, 192)  0           batch_normalization_320[0][0]    \n",
            "__________________________________________________________________________________________________\n",
            "activation_321 (Activation)     (None, 12, 12, 192)  0           batch_normalization_321[0][0]    \n",
            "__________________________________________________________________________________________________\n",
            "mixed4 (Concatenate)            (None, 12, 12, 768)  0           activation_312[0][0]             \n",
            "                                                                 activation_315[0][0]             \n",
            "                                                                 activation_320[0][0]             \n",
            "                                                                 activation_321[0][0]             \n",
            "__________________________________________________________________________________________________\n",
            "conv2d_328 (Conv2D)             (None, 12, 12, 160)  122880      mixed4[0][0]                     \n",
            "__________________________________________________________________________________________________\n",
            "batch_normalization_326 (BatchN (None, 12, 12, 160)  480         conv2d_328[0][0]                 \n",
            "__________________________________________________________________________________________________\n",
            "activation_326 (Activation)     (None, 12, 12, 160)  0           batch_normalization_326[0][0]    \n",
            "__________________________________________________________________________________________________\n",
            "conv2d_329 (Conv2D)             (None, 12, 12, 160)  179200      activation_326[0][0]             \n",
            "__________________________________________________________________________________________________\n",
            "batch_normalization_327 (BatchN (None, 12, 12, 160)  480         conv2d_329[0][0]                 \n",
            "__________________________________________________________________________________________________\n",
            "activation_327 (Activation)     (None, 12, 12, 160)  0           batch_normalization_327[0][0]    \n",
            "__________________________________________________________________________________________________\n",
            "conv2d_325 (Conv2D)             (None, 12, 12, 160)  122880      mixed4[0][0]                     \n",
            "__________________________________________________________________________________________________\n",
            "conv2d_330 (Conv2D)             (None, 12, 12, 160)  179200      activation_327[0][0]             \n",
            "__________________________________________________________________________________________________\n",
            "batch_normalization_323 (BatchN (None, 12, 12, 160)  480         conv2d_325[0][0]                 \n",
            "__________________________________________________________________________________________________\n",
            "batch_normalization_328 (BatchN (None, 12, 12, 160)  480         conv2d_330[0][0]                 \n",
            "__________________________________________________________________________________________________\n",
            "activation_323 (Activation)     (None, 12, 12, 160)  0           batch_normalization_323[0][0]    \n",
            "__________________________________________________________________________________________________\n",
            "activation_328 (Activation)     (None, 12, 12, 160)  0           batch_normalization_328[0][0]    \n",
            "__________________________________________________________________________________________________\n",
            "conv2d_326 (Conv2D)             (None, 12, 12, 160)  179200      activation_323[0][0]             \n",
            "__________________________________________________________________________________________________\n",
            "conv2d_331 (Conv2D)             (None, 12, 12, 160)  179200      activation_328[0][0]             \n",
            "__________________________________________________________________________________________________\n",
            "batch_normalization_324 (BatchN (None, 12, 12, 160)  480         conv2d_326[0][0]                 \n",
            "__________________________________________________________________________________________________\n",
            "batch_normalization_329 (BatchN (None, 12, 12, 160)  480         conv2d_331[0][0]                 \n",
            "__________________________________________________________________________________________________\n",
            "activation_324 (Activation)     (None, 12, 12, 160)  0           batch_normalization_324[0][0]    \n",
            "__________________________________________________________________________________________________\n",
            "activation_329 (Activation)     (None, 12, 12, 160)  0           batch_normalization_329[0][0]    \n",
            "__________________________________________________________________________________________________\n",
            "average_pooling2d_33 (AveragePo (None, 12, 12, 768)  0           mixed4[0][0]                     \n",
            "__________________________________________________________________________________________________\n",
            "conv2d_324 (Conv2D)             (None, 12, 12, 192)  147456      mixed4[0][0]                     \n",
            "__________________________________________________________________________________________________\n",
            "conv2d_327 (Conv2D)             (None, 12, 12, 192)  215040      activation_324[0][0]             \n",
            "__________________________________________________________________________________________________\n",
            "conv2d_332 (Conv2D)             (None, 12, 12, 192)  215040      activation_329[0][0]             \n",
            "__________________________________________________________________________________________________\n",
            "conv2d_333 (Conv2D)             (None, 12, 12, 192)  147456      average_pooling2d_33[0][0]       \n",
            "__________________________________________________________________________________________________\n",
            "batch_normalization_322 (BatchN (None, 12, 12, 192)  576         conv2d_324[0][0]                 \n",
            "__________________________________________________________________________________________________\n",
            "batch_normalization_325 (BatchN (None, 12, 12, 192)  576         conv2d_327[0][0]                 \n",
            "__________________________________________________________________________________________________\n",
            "batch_normalization_330 (BatchN (None, 12, 12, 192)  576         conv2d_332[0][0]                 \n",
            "__________________________________________________________________________________________________\n",
            "batch_normalization_331 (BatchN (None, 12, 12, 192)  576         conv2d_333[0][0]                 \n",
            "__________________________________________________________________________________________________\n",
            "activation_322 (Activation)     (None, 12, 12, 192)  0           batch_normalization_322[0][0]    \n",
            "__________________________________________________________________________________________________\n",
            "activation_325 (Activation)     (None, 12, 12, 192)  0           batch_normalization_325[0][0]    \n",
            "__________________________________________________________________________________________________\n",
            "activation_330 (Activation)     (None, 12, 12, 192)  0           batch_normalization_330[0][0]    \n",
            "__________________________________________________________________________________________________\n",
            "activation_331 (Activation)     (None, 12, 12, 192)  0           batch_normalization_331[0][0]    \n",
            "__________________________________________________________________________________________________\n",
            "mixed5 (Concatenate)            (None, 12, 12, 768)  0           activation_322[0][0]             \n",
            "                                                                 activation_325[0][0]             \n",
            "                                                                 activation_330[0][0]             \n",
            "                                                                 activation_331[0][0]             \n",
            "__________________________________________________________________________________________________\n",
            "conv2d_338 (Conv2D)             (None, 12, 12, 160)  122880      mixed5[0][0]                     \n",
            "__________________________________________________________________________________________________\n",
            "batch_normalization_336 (BatchN (None, 12, 12, 160)  480         conv2d_338[0][0]                 \n",
            "__________________________________________________________________________________________________\n",
            "activation_336 (Activation)     (None, 12, 12, 160)  0           batch_normalization_336[0][0]    \n",
            "__________________________________________________________________________________________________\n",
            "conv2d_339 (Conv2D)             (None, 12, 12, 160)  179200      activation_336[0][0]             \n",
            "__________________________________________________________________________________________________\n",
            "batch_normalization_337 (BatchN (None, 12, 12, 160)  480         conv2d_339[0][0]                 \n",
            "__________________________________________________________________________________________________\n",
            "activation_337 (Activation)     (None, 12, 12, 160)  0           batch_normalization_337[0][0]    \n",
            "__________________________________________________________________________________________________\n",
            "conv2d_335 (Conv2D)             (None, 12, 12, 160)  122880      mixed5[0][0]                     \n",
            "__________________________________________________________________________________________________\n",
            "conv2d_340 (Conv2D)             (None, 12, 12, 160)  179200      activation_337[0][0]             \n",
            "__________________________________________________________________________________________________\n",
            "batch_normalization_333 (BatchN (None, 12, 12, 160)  480         conv2d_335[0][0]                 \n",
            "__________________________________________________________________________________________________\n",
            "batch_normalization_338 (BatchN (None, 12, 12, 160)  480         conv2d_340[0][0]                 \n",
            "__________________________________________________________________________________________________\n",
            "activation_333 (Activation)     (None, 12, 12, 160)  0           batch_normalization_333[0][0]    \n",
            "__________________________________________________________________________________________________\n",
            "activation_338 (Activation)     (None, 12, 12, 160)  0           batch_normalization_338[0][0]    \n",
            "__________________________________________________________________________________________________\n",
            "conv2d_336 (Conv2D)             (None, 12, 12, 160)  179200      activation_333[0][0]             \n",
            "__________________________________________________________________________________________________\n",
            "conv2d_341 (Conv2D)             (None, 12, 12, 160)  179200      activation_338[0][0]             \n",
            "__________________________________________________________________________________________________\n",
            "batch_normalization_334 (BatchN (None, 12, 12, 160)  480         conv2d_336[0][0]                 \n",
            "__________________________________________________________________________________________________\n",
            "batch_normalization_339 (BatchN (None, 12, 12, 160)  480         conv2d_341[0][0]                 \n",
            "__________________________________________________________________________________________________\n",
            "activation_334 (Activation)     (None, 12, 12, 160)  0           batch_normalization_334[0][0]    \n",
            "__________________________________________________________________________________________________\n",
            "activation_339 (Activation)     (None, 12, 12, 160)  0           batch_normalization_339[0][0]    \n",
            "__________________________________________________________________________________________________\n",
            "average_pooling2d_34 (AveragePo (None, 12, 12, 768)  0           mixed5[0][0]                     \n",
            "__________________________________________________________________________________________________\n",
            "conv2d_334 (Conv2D)             (None, 12, 12, 192)  147456      mixed5[0][0]                     \n",
            "__________________________________________________________________________________________________\n",
            "conv2d_337 (Conv2D)             (None, 12, 12, 192)  215040      activation_334[0][0]             \n",
            "__________________________________________________________________________________________________\n",
            "conv2d_342 (Conv2D)             (None, 12, 12, 192)  215040      activation_339[0][0]             \n",
            "__________________________________________________________________________________________________\n",
            "conv2d_343 (Conv2D)             (None, 12, 12, 192)  147456      average_pooling2d_34[0][0]       \n",
            "__________________________________________________________________________________________________\n",
            "batch_normalization_332 (BatchN (None, 12, 12, 192)  576         conv2d_334[0][0]                 \n",
            "__________________________________________________________________________________________________\n",
            "batch_normalization_335 (BatchN (None, 12, 12, 192)  576         conv2d_337[0][0]                 \n",
            "__________________________________________________________________________________________________\n",
            "batch_normalization_340 (BatchN (None, 12, 12, 192)  576         conv2d_342[0][0]                 \n",
            "__________________________________________________________________________________________________\n",
            "batch_normalization_341 (BatchN (None, 12, 12, 192)  576         conv2d_343[0][0]                 \n",
            "__________________________________________________________________________________________________\n",
            "activation_332 (Activation)     (None, 12, 12, 192)  0           batch_normalization_332[0][0]    \n",
            "__________________________________________________________________________________________________\n",
            "activation_335 (Activation)     (None, 12, 12, 192)  0           batch_normalization_335[0][0]    \n",
            "__________________________________________________________________________________________________\n",
            "activation_340 (Activation)     (None, 12, 12, 192)  0           batch_normalization_340[0][0]    \n",
            "__________________________________________________________________________________________________\n",
            "activation_341 (Activation)     (None, 12, 12, 192)  0           batch_normalization_341[0][0]    \n",
            "__________________________________________________________________________________________________\n",
            "mixed6 (Concatenate)            (None, 12, 12, 768)  0           activation_332[0][0]             \n",
            "                                                                 activation_335[0][0]             \n",
            "                                                                 activation_340[0][0]             \n",
            "                                                                 activation_341[0][0]             \n",
            "__________________________________________________________________________________________________\n",
            "conv2d_348 (Conv2D)             (None, 12, 12, 192)  147456      mixed6[0][0]                     \n",
            "__________________________________________________________________________________________________\n",
            "batch_normalization_346 (BatchN (None, 12, 12, 192)  576         conv2d_348[0][0]                 \n",
            "__________________________________________________________________________________________________\n",
            "activation_346 (Activation)     (None, 12, 12, 192)  0           batch_normalization_346[0][0]    \n",
            "__________________________________________________________________________________________________\n",
            "conv2d_349 (Conv2D)             (None, 12, 12, 192)  258048      activation_346[0][0]             \n",
            "__________________________________________________________________________________________________\n",
            "batch_normalization_347 (BatchN (None, 12, 12, 192)  576         conv2d_349[0][0]                 \n",
            "__________________________________________________________________________________________________\n",
            "activation_347 (Activation)     (None, 12, 12, 192)  0           batch_normalization_347[0][0]    \n",
            "__________________________________________________________________________________________________\n",
            "conv2d_345 (Conv2D)             (None, 12, 12, 192)  147456      mixed6[0][0]                     \n",
            "__________________________________________________________________________________________________\n",
            "conv2d_350 (Conv2D)             (None, 12, 12, 192)  258048      activation_347[0][0]             \n",
            "__________________________________________________________________________________________________\n",
            "batch_normalization_343 (BatchN (None, 12, 12, 192)  576         conv2d_345[0][0]                 \n",
            "__________________________________________________________________________________________________\n",
            "batch_normalization_348 (BatchN (None, 12, 12, 192)  576         conv2d_350[0][0]                 \n",
            "__________________________________________________________________________________________________\n",
            "activation_343 (Activation)     (None, 12, 12, 192)  0           batch_normalization_343[0][0]    \n",
            "__________________________________________________________________________________________________\n",
            "activation_348 (Activation)     (None, 12, 12, 192)  0           batch_normalization_348[0][0]    \n",
            "__________________________________________________________________________________________________\n",
            "conv2d_346 (Conv2D)             (None, 12, 12, 192)  258048      activation_343[0][0]             \n",
            "__________________________________________________________________________________________________\n",
            "conv2d_351 (Conv2D)             (None, 12, 12, 192)  258048      activation_348[0][0]             \n",
            "__________________________________________________________________________________________________\n",
            "batch_normalization_344 (BatchN (None, 12, 12, 192)  576         conv2d_346[0][0]                 \n",
            "__________________________________________________________________________________________________\n",
            "batch_normalization_349 (BatchN (None, 12, 12, 192)  576         conv2d_351[0][0]                 \n",
            "__________________________________________________________________________________________________\n",
            "activation_344 (Activation)     (None, 12, 12, 192)  0           batch_normalization_344[0][0]    \n",
            "__________________________________________________________________________________________________\n",
            "activation_349 (Activation)     (None, 12, 12, 192)  0           batch_normalization_349[0][0]    \n",
            "__________________________________________________________________________________________________\n",
            "average_pooling2d_35 (AveragePo (None, 12, 12, 768)  0           mixed6[0][0]                     \n",
            "__________________________________________________________________________________________________\n",
            "conv2d_344 (Conv2D)             (None, 12, 12, 192)  147456      mixed6[0][0]                     \n",
            "__________________________________________________________________________________________________\n",
            "conv2d_347 (Conv2D)             (None, 12, 12, 192)  258048      activation_344[0][0]             \n",
            "__________________________________________________________________________________________________\n",
            "conv2d_352 (Conv2D)             (None, 12, 12, 192)  258048      activation_349[0][0]             \n",
            "__________________________________________________________________________________________________\n",
            "conv2d_353 (Conv2D)             (None, 12, 12, 192)  147456      average_pooling2d_35[0][0]       \n",
            "__________________________________________________________________________________________________\n",
            "batch_normalization_342 (BatchN (None, 12, 12, 192)  576         conv2d_344[0][0]                 \n",
            "__________________________________________________________________________________________________\n",
            "batch_normalization_345 (BatchN (None, 12, 12, 192)  576         conv2d_347[0][0]                 \n",
            "__________________________________________________________________________________________________\n",
            "batch_normalization_350 (BatchN (None, 12, 12, 192)  576         conv2d_352[0][0]                 \n",
            "__________________________________________________________________________________________________\n",
            "batch_normalization_351 (BatchN (None, 12, 12, 192)  576         conv2d_353[0][0]                 \n",
            "__________________________________________________________________________________________________\n",
            "activation_342 (Activation)     (None, 12, 12, 192)  0           batch_normalization_342[0][0]    \n",
            "__________________________________________________________________________________________________\n",
            "activation_345 (Activation)     (None, 12, 12, 192)  0           batch_normalization_345[0][0]    \n",
            "__________________________________________________________________________________________________\n",
            "activation_350 (Activation)     (None, 12, 12, 192)  0           batch_normalization_350[0][0]    \n",
            "__________________________________________________________________________________________________\n",
            "activation_351 (Activation)     (None, 12, 12, 192)  0           batch_normalization_351[0][0]    \n",
            "__________________________________________________________________________________________________\n",
            "mixed7 (Concatenate)            (None, 12, 12, 768)  0           activation_342[0][0]             \n",
            "                                                                 activation_345[0][0]             \n",
            "                                                                 activation_350[0][0]             \n",
            "                                                                 activation_351[0][0]             \n",
            "__________________________________________________________________________________________________\n",
            "conv2d_356 (Conv2D)             (None, 12, 12, 192)  147456      mixed7[0][0]                     \n",
            "__________________________________________________________________________________________________\n",
            "batch_normalization_354 (BatchN (None, 12, 12, 192)  576         conv2d_356[0][0]                 \n",
            "__________________________________________________________________________________________________\n",
            "activation_354 (Activation)     (None, 12, 12, 192)  0           batch_normalization_354[0][0]    \n",
            "__________________________________________________________________________________________________\n",
            "conv2d_357 (Conv2D)             (None, 12, 12, 192)  258048      activation_354[0][0]             \n",
            "__________________________________________________________________________________________________\n",
            "batch_normalization_355 (BatchN (None, 12, 12, 192)  576         conv2d_357[0][0]                 \n",
            "__________________________________________________________________________________________________\n",
            "activation_355 (Activation)     (None, 12, 12, 192)  0           batch_normalization_355[0][0]    \n",
            "__________________________________________________________________________________________________\n",
            "conv2d_354 (Conv2D)             (None, 12, 12, 192)  147456      mixed7[0][0]                     \n",
            "__________________________________________________________________________________________________\n",
            "conv2d_358 (Conv2D)             (None, 12, 12, 192)  258048      activation_355[0][0]             \n",
            "__________________________________________________________________________________________________\n",
            "batch_normalization_352 (BatchN (None, 12, 12, 192)  576         conv2d_354[0][0]                 \n",
            "__________________________________________________________________________________________________\n",
            "batch_normalization_356 (BatchN (None, 12, 12, 192)  576         conv2d_358[0][0]                 \n",
            "__________________________________________________________________________________________________\n",
            "activation_352 (Activation)     (None, 12, 12, 192)  0           batch_normalization_352[0][0]    \n",
            "__________________________________________________________________________________________________\n",
            "activation_356 (Activation)     (None, 12, 12, 192)  0           batch_normalization_356[0][0]    \n",
            "__________________________________________________________________________________________________\n",
            "conv2d_355 (Conv2D)             (None, 5, 5, 320)    552960      activation_352[0][0]             \n",
            "__________________________________________________________________________________________________\n",
            "conv2d_359 (Conv2D)             (None, 5, 5, 192)    331776      activation_356[0][0]             \n",
            "__________________________________________________________________________________________________\n",
            "batch_normalization_353 (BatchN (None, 5, 5, 320)    960         conv2d_355[0][0]                 \n",
            "__________________________________________________________________________________________________\n",
            "batch_normalization_357 (BatchN (None, 5, 5, 192)    576         conv2d_359[0][0]                 \n",
            "__________________________________________________________________________________________________\n",
            "activation_353 (Activation)     (None, 5, 5, 320)    0           batch_normalization_353[0][0]    \n",
            "__________________________________________________________________________________________________\n",
            "activation_357 (Activation)     (None, 5, 5, 192)    0           batch_normalization_357[0][0]    \n",
            "__________________________________________________________________________________________________\n",
            "max_pooling2d_15 (MaxPooling2D) (None, 5, 5, 768)    0           mixed7[0][0]                     \n",
            "__________________________________________________________________________________________________\n",
            "mixed8 (Concatenate)            (None, 5, 5, 1280)   0           activation_353[0][0]             \n",
            "                                                                 activation_357[0][0]             \n",
            "                                                                 max_pooling2d_15[0][0]           \n",
            "__________________________________________________________________________________________________\n",
            "conv2d_364 (Conv2D)             (None, 5, 5, 448)    573440      mixed8[0][0]                     \n",
            "__________________________________________________________________________________________________\n",
            "batch_normalization_362 (BatchN (None, 5, 5, 448)    1344        conv2d_364[0][0]                 \n",
            "__________________________________________________________________________________________________\n",
            "activation_362 (Activation)     (None, 5, 5, 448)    0           batch_normalization_362[0][0]    \n",
            "__________________________________________________________________________________________________\n",
            "conv2d_361 (Conv2D)             (None, 5, 5, 384)    491520      mixed8[0][0]                     \n",
            "__________________________________________________________________________________________________\n",
            "conv2d_365 (Conv2D)             (None, 5, 5, 384)    1548288     activation_362[0][0]             \n",
            "__________________________________________________________________________________________________\n",
            "batch_normalization_359 (BatchN (None, 5, 5, 384)    1152        conv2d_361[0][0]                 \n",
            "__________________________________________________________________________________________________\n",
            "batch_normalization_363 (BatchN (None, 5, 5, 384)    1152        conv2d_365[0][0]                 \n",
            "__________________________________________________________________________________________________\n",
            "activation_359 (Activation)     (None, 5, 5, 384)    0           batch_normalization_359[0][0]    \n",
            "__________________________________________________________________________________________________\n",
            "activation_363 (Activation)     (None, 5, 5, 384)    0           batch_normalization_363[0][0]    \n",
            "__________________________________________________________________________________________________\n",
            "conv2d_362 (Conv2D)             (None, 5, 5, 384)    442368      activation_359[0][0]             \n",
            "__________________________________________________________________________________________________\n",
            "conv2d_363 (Conv2D)             (None, 5, 5, 384)    442368      activation_359[0][0]             \n",
            "__________________________________________________________________________________________________\n",
            "conv2d_366 (Conv2D)             (None, 5, 5, 384)    442368      activation_363[0][0]             \n",
            "__________________________________________________________________________________________________\n",
            "conv2d_367 (Conv2D)             (None, 5, 5, 384)    442368      activation_363[0][0]             \n",
            "__________________________________________________________________________________________________\n",
            "average_pooling2d_36 (AveragePo (None, 5, 5, 1280)   0           mixed8[0][0]                     \n",
            "__________________________________________________________________________________________________\n",
            "conv2d_360 (Conv2D)             (None, 5, 5, 320)    409600      mixed8[0][0]                     \n",
            "__________________________________________________________________________________________________\n",
            "batch_normalization_360 (BatchN (None, 5, 5, 384)    1152        conv2d_362[0][0]                 \n",
            "__________________________________________________________________________________________________\n",
            "batch_normalization_361 (BatchN (None, 5, 5, 384)    1152        conv2d_363[0][0]                 \n",
            "__________________________________________________________________________________________________\n",
            "batch_normalization_364 (BatchN (None, 5, 5, 384)    1152        conv2d_366[0][0]                 \n",
            "__________________________________________________________________________________________________\n",
            "batch_normalization_365 (BatchN (None, 5, 5, 384)    1152        conv2d_367[0][0]                 \n",
            "__________________________________________________________________________________________________\n",
            "conv2d_368 (Conv2D)             (None, 5, 5, 192)    245760      average_pooling2d_36[0][0]       \n",
            "__________________________________________________________________________________________________\n",
            "batch_normalization_358 (BatchN (None, 5, 5, 320)    960         conv2d_360[0][0]                 \n",
            "__________________________________________________________________________________________________\n",
            "activation_360 (Activation)     (None, 5, 5, 384)    0           batch_normalization_360[0][0]    \n",
            "__________________________________________________________________________________________________\n",
            "activation_361 (Activation)     (None, 5, 5, 384)    0           batch_normalization_361[0][0]    \n",
            "__________________________________________________________________________________________________\n",
            "activation_364 (Activation)     (None, 5, 5, 384)    0           batch_normalization_364[0][0]    \n",
            "__________________________________________________________________________________________________\n",
            "activation_365 (Activation)     (None, 5, 5, 384)    0           batch_normalization_365[0][0]    \n",
            "__________________________________________________________________________________________________\n",
            "batch_normalization_366 (BatchN (None, 5, 5, 192)    576         conv2d_368[0][0]                 \n",
            "__________________________________________________________________________________________________\n",
            "activation_358 (Activation)     (None, 5, 5, 320)    0           batch_normalization_358[0][0]    \n",
            "__________________________________________________________________________________________________\n",
            "mixed9_0 (Concatenate)          (None, 5, 5, 768)    0           activation_360[0][0]             \n",
            "                                                                 activation_361[0][0]             \n",
            "__________________________________________________________________________________________________\n",
            "concatenate_6 (Concatenate)     (None, 5, 5, 768)    0           activation_364[0][0]             \n",
            "                                                                 activation_365[0][0]             \n",
            "__________________________________________________________________________________________________\n",
            "activation_366 (Activation)     (None, 5, 5, 192)    0           batch_normalization_366[0][0]    \n",
            "__________________________________________________________________________________________________\n",
            "mixed9 (Concatenate)            (None, 5, 5, 2048)   0           activation_358[0][0]             \n",
            "                                                                 mixed9_0[0][0]                   \n",
            "                                                                 concatenate_6[0][0]              \n",
            "                                                                 activation_366[0][0]             \n",
            "__________________________________________________________________________________________________\n",
            "conv2d_373 (Conv2D)             (None, 5, 5, 448)    917504      mixed9[0][0]                     \n",
            "__________________________________________________________________________________________________\n",
            "batch_normalization_371 (BatchN (None, 5, 5, 448)    1344        conv2d_373[0][0]                 \n",
            "__________________________________________________________________________________________________\n",
            "activation_371 (Activation)     (None, 5, 5, 448)    0           batch_normalization_371[0][0]    \n",
            "__________________________________________________________________________________________________\n",
            "conv2d_370 (Conv2D)             (None, 5, 5, 384)    786432      mixed9[0][0]                     \n",
            "__________________________________________________________________________________________________\n",
            "conv2d_374 (Conv2D)             (None, 5, 5, 384)    1548288     activation_371[0][0]             \n",
            "__________________________________________________________________________________________________\n",
            "batch_normalization_368 (BatchN (None, 5, 5, 384)    1152        conv2d_370[0][0]                 \n",
            "__________________________________________________________________________________________________\n",
            "batch_normalization_372 (BatchN (None, 5, 5, 384)    1152        conv2d_374[0][0]                 \n",
            "__________________________________________________________________________________________________\n",
            "activation_368 (Activation)     (None, 5, 5, 384)    0           batch_normalization_368[0][0]    \n",
            "__________________________________________________________________________________________________\n",
            "activation_372 (Activation)     (None, 5, 5, 384)    0           batch_normalization_372[0][0]    \n",
            "__________________________________________________________________________________________________\n",
            "conv2d_371 (Conv2D)             (None, 5, 5, 384)    442368      activation_368[0][0]             \n",
            "__________________________________________________________________________________________________\n",
            "conv2d_372 (Conv2D)             (None, 5, 5, 384)    442368      activation_368[0][0]             \n",
            "__________________________________________________________________________________________________\n",
            "conv2d_375 (Conv2D)             (None, 5, 5, 384)    442368      activation_372[0][0]             \n",
            "__________________________________________________________________________________________________\n",
            "conv2d_376 (Conv2D)             (None, 5, 5, 384)    442368      activation_372[0][0]             \n",
            "__________________________________________________________________________________________________\n",
            "average_pooling2d_37 (AveragePo (None, 5, 5, 2048)   0           mixed9[0][0]                     \n",
            "__________________________________________________________________________________________________\n",
            "conv2d_369 (Conv2D)             (None, 5, 5, 320)    655360      mixed9[0][0]                     \n",
            "__________________________________________________________________________________________________\n",
            "batch_normalization_369 (BatchN (None, 5, 5, 384)    1152        conv2d_371[0][0]                 \n",
            "__________________________________________________________________________________________________\n",
            "batch_normalization_370 (BatchN (None, 5, 5, 384)    1152        conv2d_372[0][0]                 \n",
            "__________________________________________________________________________________________________\n",
            "batch_normalization_373 (BatchN (None, 5, 5, 384)    1152        conv2d_375[0][0]                 \n",
            "__________________________________________________________________________________________________\n",
            "batch_normalization_374 (BatchN (None, 5, 5, 384)    1152        conv2d_376[0][0]                 \n",
            "__________________________________________________________________________________________________\n",
            "conv2d_377 (Conv2D)             (None, 5, 5, 192)    393216      average_pooling2d_37[0][0]       \n",
            "__________________________________________________________________________________________________\n",
            "batch_normalization_367 (BatchN (None, 5, 5, 320)    960         conv2d_369[0][0]                 \n",
            "__________________________________________________________________________________________________\n",
            "activation_369 (Activation)     (None, 5, 5, 384)    0           batch_normalization_369[0][0]    \n",
            "__________________________________________________________________________________________________\n",
            "activation_370 (Activation)     (None, 5, 5, 384)    0           batch_normalization_370[0][0]    \n",
            "__________________________________________________________________________________________________\n",
            "activation_373 (Activation)     (None, 5, 5, 384)    0           batch_normalization_373[0][0]    \n",
            "__________________________________________________________________________________________________\n",
            "activation_374 (Activation)     (None, 5, 5, 384)    0           batch_normalization_374[0][0]    \n",
            "__________________________________________________________________________________________________\n",
            "batch_normalization_375 (BatchN (None, 5, 5, 192)    576         conv2d_377[0][0]                 \n",
            "__________________________________________________________________________________________________\n",
            "activation_367 (Activation)     (None, 5, 5, 320)    0           batch_normalization_367[0][0]    \n",
            "__________________________________________________________________________________________________\n",
            "mixed9_1 (Concatenate)          (None, 5, 5, 768)    0           activation_369[0][0]             \n",
            "                                                                 activation_370[0][0]             \n",
            "__________________________________________________________________________________________________\n",
            "concatenate_7 (Concatenate)     (None, 5, 5, 768)    0           activation_373[0][0]             \n",
            "                                                                 activation_374[0][0]             \n",
            "__________________________________________________________________________________________________\n",
            "activation_375 (Activation)     (None, 5, 5, 192)    0           batch_normalization_375[0][0]    \n",
            "__________________________________________________________________________________________________\n",
            "mixed10 (Concatenate)           (None, 5, 5, 2048)   0           activation_367[0][0]             \n",
            "                                                                 mixed9_1[0][0]                   \n",
            "                                                                 concatenate_7[0][0]              \n",
            "                                                                 activation_375[0][0]             \n",
            "==================================================================================================\n",
            "Total params: 21,802,784\n",
            "Trainable params: 21,768,352\n",
            "Non-trainable params: 34,432\n",
            "__________________________________________________________________________________________________\n"
          ]
        }
      ]
    },
    {
      "cell_type": "code",
      "metadata": {
        "id": "Dy2IEFQl9V9E"
      },
      "source": [
        "for layer in InceptionV3_model.layers:\n",
        "  layer.trainable =False"
      ],
      "execution_count": null,
      "outputs": []
    },
    {
      "cell_type": "code",
      "metadata": {
        "id": "_GJT3FrX9XcG"
      },
      "source": [
        "last_output =InceptionV3_model.output"
      ],
      "execution_count": null,
      "outputs": []
    },
    {
      "cell_type": "code",
      "metadata": {
        "id": "RifSbKal9ZGW"
      },
      "source": [
        "temp =GlobalMaxPooling2D()(last_output)\n",
        "temp =Dense(32,activation='relu')(temp)  #128\n",
        "temp= Dropout(0.3)(temp)\n",
        "temp =Dense(16,activation='relu')(temp) #128\n",
        "temp= Dropout(0.3)(temp)\n",
        "temp =Dense(16,activation='relu')(temp) #128\n",
        "temp= Dropout(0.3)(temp)\n",
        "temp =Dense(32,activation='relu')(temp) #128\n",
        "temp= Dropout(0.3)(temp)\n",
        "\n",
        "temp =Dense(6,activation='softmax')(temp)"
      ],
      "execution_count": null,
      "outputs": []
    },
    {
      "cell_type": "code",
      "metadata": {
        "colab": {
          "base_uri": "https://localhost:8080/"
        },
        "id": "GSg0REe49axs",
        "outputId": "09ea684b-ca8f-4117-eb0a-66d8699ddbaa"
      },
      "source": [
        "InceptionV3_model =tf.keras.Model(InceptionV3_model.input,temp)\n",
        "InceptionV3_model.compile(loss=tf.keras.losses.sparse_categorical_crossentropy,optimizer=tf.keras.optimizers.Adam(learning_rate=0.01),metrics=['accuracy'])\n",
        "InceptionV3_model.summary()"
      ],
      "execution_count": null,
      "outputs": [
        {
          "output_type": "stream",
          "name": "stdout",
          "text": [
            "Model: \"model_7\"\n",
            "__________________________________________________________________________________________________\n",
            "Layer (type)                    Output Shape         Param #     Connected to                     \n",
            "==================================================================================================\n",
            "input_7 (InputLayer)            [(None, 224, 224, 3) 0                                            \n",
            "__________________________________________________________________________________________________\n",
            "conv2d_284 (Conv2D)             (None, 111, 111, 32) 864         input_7[0][0]                    \n",
            "__________________________________________________________________________________________________\n",
            "batch_normalization_282 (BatchN (None, 111, 111, 32) 96          conv2d_284[0][0]                 \n",
            "__________________________________________________________________________________________________\n",
            "activation_282 (Activation)     (None, 111, 111, 32) 0           batch_normalization_282[0][0]    \n",
            "__________________________________________________________________________________________________\n",
            "conv2d_285 (Conv2D)             (None, 109, 109, 32) 9216        activation_282[0][0]             \n",
            "__________________________________________________________________________________________________\n",
            "batch_normalization_283 (BatchN (None, 109, 109, 32) 96          conv2d_285[0][0]                 \n",
            "__________________________________________________________________________________________________\n",
            "activation_283 (Activation)     (None, 109, 109, 32) 0           batch_normalization_283[0][0]    \n",
            "__________________________________________________________________________________________________\n",
            "conv2d_286 (Conv2D)             (None, 109, 109, 64) 18432       activation_283[0][0]             \n",
            "__________________________________________________________________________________________________\n",
            "batch_normalization_284 (BatchN (None, 109, 109, 64) 192         conv2d_286[0][0]                 \n",
            "__________________________________________________________________________________________________\n",
            "activation_284 (Activation)     (None, 109, 109, 64) 0           batch_normalization_284[0][0]    \n",
            "__________________________________________________________________________________________________\n",
            "max_pooling2d_12 (MaxPooling2D) (None, 54, 54, 64)   0           activation_284[0][0]             \n",
            "__________________________________________________________________________________________________\n",
            "conv2d_287 (Conv2D)             (None, 54, 54, 80)   5120        max_pooling2d_12[0][0]           \n",
            "__________________________________________________________________________________________________\n",
            "batch_normalization_285 (BatchN (None, 54, 54, 80)   240         conv2d_287[0][0]                 \n",
            "__________________________________________________________________________________________________\n",
            "activation_285 (Activation)     (None, 54, 54, 80)   0           batch_normalization_285[0][0]    \n",
            "__________________________________________________________________________________________________\n",
            "conv2d_288 (Conv2D)             (None, 52, 52, 192)  138240      activation_285[0][0]             \n",
            "__________________________________________________________________________________________________\n",
            "batch_normalization_286 (BatchN (None, 52, 52, 192)  576         conv2d_288[0][0]                 \n",
            "__________________________________________________________________________________________________\n",
            "activation_286 (Activation)     (None, 52, 52, 192)  0           batch_normalization_286[0][0]    \n",
            "__________________________________________________________________________________________________\n",
            "max_pooling2d_13 (MaxPooling2D) (None, 25, 25, 192)  0           activation_286[0][0]             \n",
            "__________________________________________________________________________________________________\n",
            "conv2d_292 (Conv2D)             (None, 25, 25, 64)   12288       max_pooling2d_13[0][0]           \n",
            "__________________________________________________________________________________________________\n",
            "batch_normalization_290 (BatchN (None, 25, 25, 64)   192         conv2d_292[0][0]                 \n",
            "__________________________________________________________________________________________________\n",
            "activation_290 (Activation)     (None, 25, 25, 64)   0           batch_normalization_290[0][0]    \n",
            "__________________________________________________________________________________________________\n",
            "conv2d_290 (Conv2D)             (None, 25, 25, 48)   9216        max_pooling2d_13[0][0]           \n",
            "__________________________________________________________________________________________________\n",
            "conv2d_293 (Conv2D)             (None, 25, 25, 96)   55296       activation_290[0][0]             \n",
            "__________________________________________________________________________________________________\n",
            "batch_normalization_288 (BatchN (None, 25, 25, 48)   144         conv2d_290[0][0]                 \n",
            "__________________________________________________________________________________________________\n",
            "batch_normalization_291 (BatchN (None, 25, 25, 96)   288         conv2d_293[0][0]                 \n",
            "__________________________________________________________________________________________________\n",
            "activation_288 (Activation)     (None, 25, 25, 48)   0           batch_normalization_288[0][0]    \n",
            "__________________________________________________________________________________________________\n",
            "activation_291 (Activation)     (None, 25, 25, 96)   0           batch_normalization_291[0][0]    \n",
            "__________________________________________________________________________________________________\n",
            "average_pooling2d_29 (AveragePo (None, 25, 25, 192)  0           max_pooling2d_13[0][0]           \n",
            "__________________________________________________________________________________________________\n",
            "conv2d_289 (Conv2D)             (None, 25, 25, 64)   12288       max_pooling2d_13[0][0]           \n",
            "__________________________________________________________________________________________________\n",
            "conv2d_291 (Conv2D)             (None, 25, 25, 64)   76800       activation_288[0][0]             \n",
            "__________________________________________________________________________________________________\n",
            "conv2d_294 (Conv2D)             (None, 25, 25, 96)   82944       activation_291[0][0]             \n",
            "__________________________________________________________________________________________________\n",
            "conv2d_295 (Conv2D)             (None, 25, 25, 32)   6144        average_pooling2d_29[0][0]       \n",
            "__________________________________________________________________________________________________\n",
            "batch_normalization_287 (BatchN (None, 25, 25, 64)   192         conv2d_289[0][0]                 \n",
            "__________________________________________________________________________________________________\n",
            "batch_normalization_289 (BatchN (None, 25, 25, 64)   192         conv2d_291[0][0]                 \n",
            "__________________________________________________________________________________________________\n",
            "batch_normalization_292 (BatchN (None, 25, 25, 96)   288         conv2d_294[0][0]                 \n",
            "__________________________________________________________________________________________________\n",
            "batch_normalization_293 (BatchN (None, 25, 25, 32)   96          conv2d_295[0][0]                 \n",
            "__________________________________________________________________________________________________\n",
            "activation_287 (Activation)     (None, 25, 25, 64)   0           batch_normalization_287[0][0]    \n",
            "__________________________________________________________________________________________________\n",
            "activation_289 (Activation)     (None, 25, 25, 64)   0           batch_normalization_289[0][0]    \n",
            "__________________________________________________________________________________________________\n",
            "activation_292 (Activation)     (None, 25, 25, 96)   0           batch_normalization_292[0][0]    \n",
            "__________________________________________________________________________________________________\n",
            "activation_293 (Activation)     (None, 25, 25, 32)   0           batch_normalization_293[0][0]    \n",
            "__________________________________________________________________________________________________\n",
            "mixed0 (Concatenate)            (None, 25, 25, 256)  0           activation_287[0][0]             \n",
            "                                                                 activation_289[0][0]             \n",
            "                                                                 activation_292[0][0]             \n",
            "                                                                 activation_293[0][0]             \n",
            "__________________________________________________________________________________________________\n",
            "conv2d_299 (Conv2D)             (None, 25, 25, 64)   16384       mixed0[0][0]                     \n",
            "__________________________________________________________________________________________________\n",
            "batch_normalization_297 (BatchN (None, 25, 25, 64)   192         conv2d_299[0][0]                 \n",
            "__________________________________________________________________________________________________\n",
            "activation_297 (Activation)     (None, 25, 25, 64)   0           batch_normalization_297[0][0]    \n",
            "__________________________________________________________________________________________________\n",
            "conv2d_297 (Conv2D)             (None, 25, 25, 48)   12288       mixed0[0][0]                     \n",
            "__________________________________________________________________________________________________\n",
            "conv2d_300 (Conv2D)             (None, 25, 25, 96)   55296       activation_297[0][0]             \n",
            "__________________________________________________________________________________________________\n",
            "batch_normalization_295 (BatchN (None, 25, 25, 48)   144         conv2d_297[0][0]                 \n",
            "__________________________________________________________________________________________________\n",
            "batch_normalization_298 (BatchN (None, 25, 25, 96)   288         conv2d_300[0][0]                 \n",
            "__________________________________________________________________________________________________\n",
            "activation_295 (Activation)     (None, 25, 25, 48)   0           batch_normalization_295[0][0]    \n",
            "__________________________________________________________________________________________________\n",
            "activation_298 (Activation)     (None, 25, 25, 96)   0           batch_normalization_298[0][0]    \n",
            "__________________________________________________________________________________________________\n",
            "average_pooling2d_30 (AveragePo (None, 25, 25, 256)  0           mixed0[0][0]                     \n",
            "__________________________________________________________________________________________________\n",
            "conv2d_296 (Conv2D)             (None, 25, 25, 64)   16384       mixed0[0][0]                     \n",
            "__________________________________________________________________________________________________\n",
            "conv2d_298 (Conv2D)             (None, 25, 25, 64)   76800       activation_295[0][0]             \n",
            "__________________________________________________________________________________________________\n",
            "conv2d_301 (Conv2D)             (None, 25, 25, 96)   82944       activation_298[0][0]             \n",
            "__________________________________________________________________________________________________\n",
            "conv2d_302 (Conv2D)             (None, 25, 25, 64)   16384       average_pooling2d_30[0][0]       \n",
            "__________________________________________________________________________________________________\n",
            "batch_normalization_294 (BatchN (None, 25, 25, 64)   192         conv2d_296[0][0]                 \n",
            "__________________________________________________________________________________________________\n",
            "batch_normalization_296 (BatchN (None, 25, 25, 64)   192         conv2d_298[0][0]                 \n",
            "__________________________________________________________________________________________________\n",
            "batch_normalization_299 (BatchN (None, 25, 25, 96)   288         conv2d_301[0][0]                 \n",
            "__________________________________________________________________________________________________\n",
            "batch_normalization_300 (BatchN (None, 25, 25, 64)   192         conv2d_302[0][0]                 \n",
            "__________________________________________________________________________________________________\n",
            "activation_294 (Activation)     (None, 25, 25, 64)   0           batch_normalization_294[0][0]    \n",
            "__________________________________________________________________________________________________\n",
            "activation_296 (Activation)     (None, 25, 25, 64)   0           batch_normalization_296[0][0]    \n",
            "__________________________________________________________________________________________________\n",
            "activation_299 (Activation)     (None, 25, 25, 96)   0           batch_normalization_299[0][0]    \n",
            "__________________________________________________________________________________________________\n",
            "activation_300 (Activation)     (None, 25, 25, 64)   0           batch_normalization_300[0][0]    \n",
            "__________________________________________________________________________________________________\n",
            "mixed1 (Concatenate)            (None, 25, 25, 288)  0           activation_294[0][0]             \n",
            "                                                                 activation_296[0][0]             \n",
            "                                                                 activation_299[0][0]             \n",
            "                                                                 activation_300[0][0]             \n",
            "__________________________________________________________________________________________________\n",
            "conv2d_306 (Conv2D)             (None, 25, 25, 64)   18432       mixed1[0][0]                     \n",
            "__________________________________________________________________________________________________\n",
            "batch_normalization_304 (BatchN (None, 25, 25, 64)   192         conv2d_306[0][0]                 \n",
            "__________________________________________________________________________________________________\n",
            "activation_304 (Activation)     (None, 25, 25, 64)   0           batch_normalization_304[0][0]    \n",
            "__________________________________________________________________________________________________\n",
            "conv2d_304 (Conv2D)             (None, 25, 25, 48)   13824       mixed1[0][0]                     \n",
            "__________________________________________________________________________________________________\n",
            "conv2d_307 (Conv2D)             (None, 25, 25, 96)   55296       activation_304[0][0]             \n",
            "__________________________________________________________________________________________________\n",
            "batch_normalization_302 (BatchN (None, 25, 25, 48)   144         conv2d_304[0][0]                 \n",
            "__________________________________________________________________________________________________\n",
            "batch_normalization_305 (BatchN (None, 25, 25, 96)   288         conv2d_307[0][0]                 \n",
            "__________________________________________________________________________________________________\n",
            "activation_302 (Activation)     (None, 25, 25, 48)   0           batch_normalization_302[0][0]    \n",
            "__________________________________________________________________________________________________\n",
            "activation_305 (Activation)     (None, 25, 25, 96)   0           batch_normalization_305[0][0]    \n",
            "__________________________________________________________________________________________________\n",
            "average_pooling2d_31 (AveragePo (None, 25, 25, 288)  0           mixed1[0][0]                     \n",
            "__________________________________________________________________________________________________\n",
            "conv2d_303 (Conv2D)             (None, 25, 25, 64)   18432       mixed1[0][0]                     \n",
            "__________________________________________________________________________________________________\n",
            "conv2d_305 (Conv2D)             (None, 25, 25, 64)   76800       activation_302[0][0]             \n",
            "__________________________________________________________________________________________________\n",
            "conv2d_308 (Conv2D)             (None, 25, 25, 96)   82944       activation_305[0][0]             \n",
            "__________________________________________________________________________________________________\n",
            "conv2d_309 (Conv2D)             (None, 25, 25, 64)   18432       average_pooling2d_31[0][0]       \n",
            "__________________________________________________________________________________________________\n",
            "batch_normalization_301 (BatchN (None, 25, 25, 64)   192         conv2d_303[0][0]                 \n",
            "__________________________________________________________________________________________________\n",
            "batch_normalization_303 (BatchN (None, 25, 25, 64)   192         conv2d_305[0][0]                 \n",
            "__________________________________________________________________________________________________\n",
            "batch_normalization_306 (BatchN (None, 25, 25, 96)   288         conv2d_308[0][0]                 \n",
            "__________________________________________________________________________________________________\n",
            "batch_normalization_307 (BatchN (None, 25, 25, 64)   192         conv2d_309[0][0]                 \n",
            "__________________________________________________________________________________________________\n",
            "activation_301 (Activation)     (None, 25, 25, 64)   0           batch_normalization_301[0][0]    \n",
            "__________________________________________________________________________________________________\n",
            "activation_303 (Activation)     (None, 25, 25, 64)   0           batch_normalization_303[0][0]    \n",
            "__________________________________________________________________________________________________\n",
            "activation_306 (Activation)     (None, 25, 25, 96)   0           batch_normalization_306[0][0]    \n",
            "__________________________________________________________________________________________________\n",
            "activation_307 (Activation)     (None, 25, 25, 64)   0           batch_normalization_307[0][0]    \n",
            "__________________________________________________________________________________________________\n",
            "mixed2 (Concatenate)            (None, 25, 25, 288)  0           activation_301[0][0]             \n",
            "                                                                 activation_303[0][0]             \n",
            "                                                                 activation_306[0][0]             \n",
            "                                                                 activation_307[0][0]             \n",
            "__________________________________________________________________________________________________\n",
            "conv2d_311 (Conv2D)             (None, 25, 25, 64)   18432       mixed2[0][0]                     \n",
            "__________________________________________________________________________________________________\n",
            "batch_normalization_309 (BatchN (None, 25, 25, 64)   192         conv2d_311[0][0]                 \n",
            "__________________________________________________________________________________________________\n",
            "activation_309 (Activation)     (None, 25, 25, 64)   0           batch_normalization_309[0][0]    \n",
            "__________________________________________________________________________________________________\n",
            "conv2d_312 (Conv2D)             (None, 25, 25, 96)   55296       activation_309[0][0]             \n",
            "__________________________________________________________________________________________________\n",
            "batch_normalization_310 (BatchN (None, 25, 25, 96)   288         conv2d_312[0][0]                 \n",
            "__________________________________________________________________________________________________\n",
            "activation_310 (Activation)     (None, 25, 25, 96)   0           batch_normalization_310[0][0]    \n",
            "__________________________________________________________________________________________________\n",
            "conv2d_310 (Conv2D)             (None, 12, 12, 384)  995328      mixed2[0][0]                     \n",
            "__________________________________________________________________________________________________\n",
            "conv2d_313 (Conv2D)             (None, 12, 12, 96)   82944       activation_310[0][0]             \n",
            "__________________________________________________________________________________________________\n",
            "batch_normalization_308 (BatchN (None, 12, 12, 384)  1152        conv2d_310[0][0]                 \n",
            "__________________________________________________________________________________________________\n",
            "batch_normalization_311 (BatchN (None, 12, 12, 96)   288         conv2d_313[0][0]                 \n",
            "__________________________________________________________________________________________________\n",
            "activation_308 (Activation)     (None, 12, 12, 384)  0           batch_normalization_308[0][0]    \n",
            "__________________________________________________________________________________________________\n",
            "activation_311 (Activation)     (None, 12, 12, 96)   0           batch_normalization_311[0][0]    \n",
            "__________________________________________________________________________________________________\n",
            "max_pooling2d_14 (MaxPooling2D) (None, 12, 12, 288)  0           mixed2[0][0]                     \n",
            "__________________________________________________________________________________________________\n",
            "mixed3 (Concatenate)            (None, 12, 12, 768)  0           activation_308[0][0]             \n",
            "                                                                 activation_311[0][0]             \n",
            "                                                                 max_pooling2d_14[0][0]           \n",
            "__________________________________________________________________________________________________\n",
            "conv2d_318 (Conv2D)             (None, 12, 12, 128)  98304       mixed3[0][0]                     \n",
            "__________________________________________________________________________________________________\n",
            "batch_normalization_316 (BatchN (None, 12, 12, 128)  384         conv2d_318[0][0]                 \n",
            "__________________________________________________________________________________________________\n",
            "activation_316 (Activation)     (None, 12, 12, 128)  0           batch_normalization_316[0][0]    \n",
            "__________________________________________________________________________________________________\n",
            "conv2d_319 (Conv2D)             (None, 12, 12, 128)  114688      activation_316[0][0]             \n",
            "__________________________________________________________________________________________________\n",
            "batch_normalization_317 (BatchN (None, 12, 12, 128)  384         conv2d_319[0][0]                 \n",
            "__________________________________________________________________________________________________\n",
            "activation_317 (Activation)     (None, 12, 12, 128)  0           batch_normalization_317[0][0]    \n",
            "__________________________________________________________________________________________________\n",
            "conv2d_315 (Conv2D)             (None, 12, 12, 128)  98304       mixed3[0][0]                     \n",
            "__________________________________________________________________________________________________\n",
            "conv2d_320 (Conv2D)             (None, 12, 12, 128)  114688      activation_317[0][0]             \n",
            "__________________________________________________________________________________________________\n",
            "batch_normalization_313 (BatchN (None, 12, 12, 128)  384         conv2d_315[0][0]                 \n",
            "__________________________________________________________________________________________________\n",
            "batch_normalization_318 (BatchN (None, 12, 12, 128)  384         conv2d_320[0][0]                 \n",
            "__________________________________________________________________________________________________\n",
            "activation_313 (Activation)     (None, 12, 12, 128)  0           batch_normalization_313[0][0]    \n",
            "__________________________________________________________________________________________________\n",
            "activation_318 (Activation)     (None, 12, 12, 128)  0           batch_normalization_318[0][0]    \n",
            "__________________________________________________________________________________________________\n",
            "conv2d_316 (Conv2D)             (None, 12, 12, 128)  114688      activation_313[0][0]             \n",
            "__________________________________________________________________________________________________\n",
            "conv2d_321 (Conv2D)             (None, 12, 12, 128)  114688      activation_318[0][0]             \n",
            "__________________________________________________________________________________________________\n",
            "batch_normalization_314 (BatchN (None, 12, 12, 128)  384         conv2d_316[0][0]                 \n",
            "__________________________________________________________________________________________________\n",
            "batch_normalization_319 (BatchN (None, 12, 12, 128)  384         conv2d_321[0][0]                 \n",
            "__________________________________________________________________________________________________\n",
            "activation_314 (Activation)     (None, 12, 12, 128)  0           batch_normalization_314[0][0]    \n",
            "__________________________________________________________________________________________________\n",
            "activation_319 (Activation)     (None, 12, 12, 128)  0           batch_normalization_319[0][0]    \n",
            "__________________________________________________________________________________________________\n",
            "average_pooling2d_32 (AveragePo (None, 12, 12, 768)  0           mixed3[0][0]                     \n",
            "__________________________________________________________________________________________________\n",
            "conv2d_314 (Conv2D)             (None, 12, 12, 192)  147456      mixed3[0][0]                     \n",
            "__________________________________________________________________________________________________\n",
            "conv2d_317 (Conv2D)             (None, 12, 12, 192)  172032      activation_314[0][0]             \n",
            "__________________________________________________________________________________________________\n",
            "conv2d_322 (Conv2D)             (None, 12, 12, 192)  172032      activation_319[0][0]             \n",
            "__________________________________________________________________________________________________\n",
            "conv2d_323 (Conv2D)             (None, 12, 12, 192)  147456      average_pooling2d_32[0][0]       \n",
            "__________________________________________________________________________________________________\n",
            "batch_normalization_312 (BatchN (None, 12, 12, 192)  576         conv2d_314[0][0]                 \n",
            "__________________________________________________________________________________________________\n",
            "batch_normalization_315 (BatchN (None, 12, 12, 192)  576         conv2d_317[0][0]                 \n",
            "__________________________________________________________________________________________________\n",
            "batch_normalization_320 (BatchN (None, 12, 12, 192)  576         conv2d_322[0][0]                 \n",
            "__________________________________________________________________________________________________\n",
            "batch_normalization_321 (BatchN (None, 12, 12, 192)  576         conv2d_323[0][0]                 \n",
            "__________________________________________________________________________________________________\n",
            "activation_312 (Activation)     (None, 12, 12, 192)  0           batch_normalization_312[0][0]    \n",
            "__________________________________________________________________________________________________\n",
            "activation_315 (Activation)     (None, 12, 12, 192)  0           batch_normalization_315[0][0]    \n",
            "__________________________________________________________________________________________________\n",
            "activation_320 (Activation)     (None, 12, 12, 192)  0           batch_normalization_320[0][0]    \n",
            "__________________________________________________________________________________________________\n",
            "activation_321 (Activation)     (None, 12, 12, 192)  0           batch_normalization_321[0][0]    \n",
            "__________________________________________________________________________________________________\n",
            "mixed4 (Concatenate)            (None, 12, 12, 768)  0           activation_312[0][0]             \n",
            "                                                                 activation_315[0][0]             \n",
            "                                                                 activation_320[0][0]             \n",
            "                                                                 activation_321[0][0]             \n",
            "__________________________________________________________________________________________________\n",
            "conv2d_328 (Conv2D)             (None, 12, 12, 160)  122880      mixed4[0][0]                     \n",
            "__________________________________________________________________________________________________\n",
            "batch_normalization_326 (BatchN (None, 12, 12, 160)  480         conv2d_328[0][0]                 \n",
            "__________________________________________________________________________________________________\n",
            "activation_326 (Activation)     (None, 12, 12, 160)  0           batch_normalization_326[0][0]    \n",
            "__________________________________________________________________________________________________\n",
            "conv2d_329 (Conv2D)             (None, 12, 12, 160)  179200      activation_326[0][0]             \n",
            "__________________________________________________________________________________________________\n",
            "batch_normalization_327 (BatchN (None, 12, 12, 160)  480         conv2d_329[0][0]                 \n",
            "__________________________________________________________________________________________________\n",
            "activation_327 (Activation)     (None, 12, 12, 160)  0           batch_normalization_327[0][0]    \n",
            "__________________________________________________________________________________________________\n",
            "conv2d_325 (Conv2D)             (None, 12, 12, 160)  122880      mixed4[0][0]                     \n",
            "__________________________________________________________________________________________________\n",
            "conv2d_330 (Conv2D)             (None, 12, 12, 160)  179200      activation_327[0][0]             \n",
            "__________________________________________________________________________________________________\n",
            "batch_normalization_323 (BatchN (None, 12, 12, 160)  480         conv2d_325[0][0]                 \n",
            "__________________________________________________________________________________________________\n",
            "batch_normalization_328 (BatchN (None, 12, 12, 160)  480         conv2d_330[0][0]                 \n",
            "__________________________________________________________________________________________________\n",
            "activation_323 (Activation)     (None, 12, 12, 160)  0           batch_normalization_323[0][0]    \n",
            "__________________________________________________________________________________________________\n",
            "activation_328 (Activation)     (None, 12, 12, 160)  0           batch_normalization_328[0][0]    \n",
            "__________________________________________________________________________________________________\n",
            "conv2d_326 (Conv2D)             (None, 12, 12, 160)  179200      activation_323[0][0]             \n",
            "__________________________________________________________________________________________________\n",
            "conv2d_331 (Conv2D)             (None, 12, 12, 160)  179200      activation_328[0][0]             \n",
            "__________________________________________________________________________________________________\n",
            "batch_normalization_324 (BatchN (None, 12, 12, 160)  480         conv2d_326[0][0]                 \n",
            "__________________________________________________________________________________________________\n",
            "batch_normalization_329 (BatchN (None, 12, 12, 160)  480         conv2d_331[0][0]                 \n",
            "__________________________________________________________________________________________________\n",
            "activation_324 (Activation)     (None, 12, 12, 160)  0           batch_normalization_324[0][0]    \n",
            "__________________________________________________________________________________________________\n",
            "activation_329 (Activation)     (None, 12, 12, 160)  0           batch_normalization_329[0][0]    \n",
            "__________________________________________________________________________________________________\n",
            "average_pooling2d_33 (AveragePo (None, 12, 12, 768)  0           mixed4[0][0]                     \n",
            "__________________________________________________________________________________________________\n",
            "conv2d_324 (Conv2D)             (None, 12, 12, 192)  147456      mixed4[0][0]                     \n",
            "__________________________________________________________________________________________________\n",
            "conv2d_327 (Conv2D)             (None, 12, 12, 192)  215040      activation_324[0][0]             \n",
            "__________________________________________________________________________________________________\n",
            "conv2d_332 (Conv2D)             (None, 12, 12, 192)  215040      activation_329[0][0]             \n",
            "__________________________________________________________________________________________________\n",
            "conv2d_333 (Conv2D)             (None, 12, 12, 192)  147456      average_pooling2d_33[0][0]       \n",
            "__________________________________________________________________________________________________\n",
            "batch_normalization_322 (BatchN (None, 12, 12, 192)  576         conv2d_324[0][0]                 \n",
            "__________________________________________________________________________________________________\n",
            "batch_normalization_325 (BatchN (None, 12, 12, 192)  576         conv2d_327[0][0]                 \n",
            "__________________________________________________________________________________________________\n",
            "batch_normalization_330 (BatchN (None, 12, 12, 192)  576         conv2d_332[0][0]                 \n",
            "__________________________________________________________________________________________________\n",
            "batch_normalization_331 (BatchN (None, 12, 12, 192)  576         conv2d_333[0][0]                 \n",
            "__________________________________________________________________________________________________\n",
            "activation_322 (Activation)     (None, 12, 12, 192)  0           batch_normalization_322[0][0]    \n",
            "__________________________________________________________________________________________________\n",
            "activation_325 (Activation)     (None, 12, 12, 192)  0           batch_normalization_325[0][0]    \n",
            "__________________________________________________________________________________________________\n",
            "activation_330 (Activation)     (None, 12, 12, 192)  0           batch_normalization_330[0][0]    \n",
            "__________________________________________________________________________________________________\n",
            "activation_331 (Activation)     (None, 12, 12, 192)  0           batch_normalization_331[0][0]    \n",
            "__________________________________________________________________________________________________\n",
            "mixed5 (Concatenate)            (None, 12, 12, 768)  0           activation_322[0][0]             \n",
            "                                                                 activation_325[0][0]             \n",
            "                                                                 activation_330[0][0]             \n",
            "                                                                 activation_331[0][0]             \n",
            "__________________________________________________________________________________________________\n",
            "conv2d_338 (Conv2D)             (None, 12, 12, 160)  122880      mixed5[0][0]                     \n",
            "__________________________________________________________________________________________________\n",
            "batch_normalization_336 (BatchN (None, 12, 12, 160)  480         conv2d_338[0][0]                 \n",
            "__________________________________________________________________________________________________\n",
            "activation_336 (Activation)     (None, 12, 12, 160)  0           batch_normalization_336[0][0]    \n",
            "__________________________________________________________________________________________________\n",
            "conv2d_339 (Conv2D)             (None, 12, 12, 160)  179200      activation_336[0][0]             \n",
            "__________________________________________________________________________________________________\n",
            "batch_normalization_337 (BatchN (None, 12, 12, 160)  480         conv2d_339[0][0]                 \n",
            "__________________________________________________________________________________________________\n",
            "activation_337 (Activation)     (None, 12, 12, 160)  0           batch_normalization_337[0][0]    \n",
            "__________________________________________________________________________________________________\n",
            "conv2d_335 (Conv2D)             (None, 12, 12, 160)  122880      mixed5[0][0]                     \n",
            "__________________________________________________________________________________________________\n",
            "conv2d_340 (Conv2D)             (None, 12, 12, 160)  179200      activation_337[0][0]             \n",
            "__________________________________________________________________________________________________\n",
            "batch_normalization_333 (BatchN (None, 12, 12, 160)  480         conv2d_335[0][0]                 \n",
            "__________________________________________________________________________________________________\n",
            "batch_normalization_338 (BatchN (None, 12, 12, 160)  480         conv2d_340[0][0]                 \n",
            "__________________________________________________________________________________________________\n",
            "activation_333 (Activation)     (None, 12, 12, 160)  0           batch_normalization_333[0][0]    \n",
            "__________________________________________________________________________________________________\n",
            "activation_338 (Activation)     (None, 12, 12, 160)  0           batch_normalization_338[0][0]    \n",
            "__________________________________________________________________________________________________\n",
            "conv2d_336 (Conv2D)             (None, 12, 12, 160)  179200      activation_333[0][0]             \n",
            "__________________________________________________________________________________________________\n",
            "conv2d_341 (Conv2D)             (None, 12, 12, 160)  179200      activation_338[0][0]             \n",
            "__________________________________________________________________________________________________\n",
            "batch_normalization_334 (BatchN (None, 12, 12, 160)  480         conv2d_336[0][0]                 \n",
            "__________________________________________________________________________________________________\n",
            "batch_normalization_339 (BatchN (None, 12, 12, 160)  480         conv2d_341[0][0]                 \n",
            "__________________________________________________________________________________________________\n",
            "activation_334 (Activation)     (None, 12, 12, 160)  0           batch_normalization_334[0][0]    \n",
            "__________________________________________________________________________________________________\n",
            "activation_339 (Activation)     (None, 12, 12, 160)  0           batch_normalization_339[0][0]    \n",
            "__________________________________________________________________________________________________\n",
            "average_pooling2d_34 (AveragePo (None, 12, 12, 768)  0           mixed5[0][0]                     \n",
            "__________________________________________________________________________________________________\n",
            "conv2d_334 (Conv2D)             (None, 12, 12, 192)  147456      mixed5[0][0]                     \n",
            "__________________________________________________________________________________________________\n",
            "conv2d_337 (Conv2D)             (None, 12, 12, 192)  215040      activation_334[0][0]             \n",
            "__________________________________________________________________________________________________\n",
            "conv2d_342 (Conv2D)             (None, 12, 12, 192)  215040      activation_339[0][0]             \n",
            "__________________________________________________________________________________________________\n",
            "conv2d_343 (Conv2D)             (None, 12, 12, 192)  147456      average_pooling2d_34[0][0]       \n",
            "__________________________________________________________________________________________________\n",
            "batch_normalization_332 (BatchN (None, 12, 12, 192)  576         conv2d_334[0][0]                 \n",
            "__________________________________________________________________________________________________\n",
            "batch_normalization_335 (BatchN (None, 12, 12, 192)  576         conv2d_337[0][0]                 \n",
            "__________________________________________________________________________________________________\n",
            "batch_normalization_340 (BatchN (None, 12, 12, 192)  576         conv2d_342[0][0]                 \n",
            "__________________________________________________________________________________________________\n",
            "batch_normalization_341 (BatchN (None, 12, 12, 192)  576         conv2d_343[0][0]                 \n",
            "__________________________________________________________________________________________________\n",
            "activation_332 (Activation)     (None, 12, 12, 192)  0           batch_normalization_332[0][0]    \n",
            "__________________________________________________________________________________________________\n",
            "activation_335 (Activation)     (None, 12, 12, 192)  0           batch_normalization_335[0][0]    \n",
            "__________________________________________________________________________________________________\n",
            "activation_340 (Activation)     (None, 12, 12, 192)  0           batch_normalization_340[0][0]    \n",
            "__________________________________________________________________________________________________\n",
            "activation_341 (Activation)     (None, 12, 12, 192)  0           batch_normalization_341[0][0]    \n",
            "__________________________________________________________________________________________________\n",
            "mixed6 (Concatenate)            (None, 12, 12, 768)  0           activation_332[0][0]             \n",
            "                                                                 activation_335[0][0]             \n",
            "                                                                 activation_340[0][0]             \n",
            "                                                                 activation_341[0][0]             \n",
            "__________________________________________________________________________________________________\n",
            "conv2d_348 (Conv2D)             (None, 12, 12, 192)  147456      mixed6[0][0]                     \n",
            "__________________________________________________________________________________________________\n",
            "batch_normalization_346 (BatchN (None, 12, 12, 192)  576         conv2d_348[0][0]                 \n",
            "__________________________________________________________________________________________________\n",
            "activation_346 (Activation)     (None, 12, 12, 192)  0           batch_normalization_346[0][0]    \n",
            "__________________________________________________________________________________________________\n",
            "conv2d_349 (Conv2D)             (None, 12, 12, 192)  258048      activation_346[0][0]             \n",
            "__________________________________________________________________________________________________\n",
            "batch_normalization_347 (BatchN (None, 12, 12, 192)  576         conv2d_349[0][0]                 \n",
            "__________________________________________________________________________________________________\n",
            "activation_347 (Activation)     (None, 12, 12, 192)  0           batch_normalization_347[0][0]    \n",
            "__________________________________________________________________________________________________\n",
            "conv2d_345 (Conv2D)             (None, 12, 12, 192)  147456      mixed6[0][0]                     \n",
            "__________________________________________________________________________________________________\n",
            "conv2d_350 (Conv2D)             (None, 12, 12, 192)  258048      activation_347[0][0]             \n",
            "__________________________________________________________________________________________________\n",
            "batch_normalization_343 (BatchN (None, 12, 12, 192)  576         conv2d_345[0][0]                 \n",
            "__________________________________________________________________________________________________\n",
            "batch_normalization_348 (BatchN (None, 12, 12, 192)  576         conv2d_350[0][0]                 \n",
            "__________________________________________________________________________________________________\n",
            "activation_343 (Activation)     (None, 12, 12, 192)  0           batch_normalization_343[0][0]    \n",
            "__________________________________________________________________________________________________\n",
            "activation_348 (Activation)     (None, 12, 12, 192)  0           batch_normalization_348[0][0]    \n",
            "__________________________________________________________________________________________________\n",
            "conv2d_346 (Conv2D)             (None, 12, 12, 192)  258048      activation_343[0][0]             \n",
            "__________________________________________________________________________________________________\n",
            "conv2d_351 (Conv2D)             (None, 12, 12, 192)  258048      activation_348[0][0]             \n",
            "__________________________________________________________________________________________________\n",
            "batch_normalization_344 (BatchN (None, 12, 12, 192)  576         conv2d_346[0][0]                 \n",
            "__________________________________________________________________________________________________\n",
            "batch_normalization_349 (BatchN (None, 12, 12, 192)  576         conv2d_351[0][0]                 \n",
            "__________________________________________________________________________________________________\n",
            "activation_344 (Activation)     (None, 12, 12, 192)  0           batch_normalization_344[0][0]    \n",
            "__________________________________________________________________________________________________\n",
            "activation_349 (Activation)     (None, 12, 12, 192)  0           batch_normalization_349[0][0]    \n",
            "__________________________________________________________________________________________________\n",
            "average_pooling2d_35 (AveragePo (None, 12, 12, 768)  0           mixed6[0][0]                     \n",
            "__________________________________________________________________________________________________\n",
            "conv2d_344 (Conv2D)             (None, 12, 12, 192)  147456      mixed6[0][0]                     \n",
            "__________________________________________________________________________________________________\n",
            "conv2d_347 (Conv2D)             (None, 12, 12, 192)  258048      activation_344[0][0]             \n",
            "__________________________________________________________________________________________________\n",
            "conv2d_352 (Conv2D)             (None, 12, 12, 192)  258048      activation_349[0][0]             \n",
            "__________________________________________________________________________________________________\n",
            "conv2d_353 (Conv2D)             (None, 12, 12, 192)  147456      average_pooling2d_35[0][0]       \n",
            "__________________________________________________________________________________________________\n",
            "batch_normalization_342 (BatchN (None, 12, 12, 192)  576         conv2d_344[0][0]                 \n",
            "__________________________________________________________________________________________________\n",
            "batch_normalization_345 (BatchN (None, 12, 12, 192)  576         conv2d_347[0][0]                 \n",
            "__________________________________________________________________________________________________\n",
            "batch_normalization_350 (BatchN (None, 12, 12, 192)  576         conv2d_352[0][0]                 \n",
            "__________________________________________________________________________________________________\n",
            "batch_normalization_351 (BatchN (None, 12, 12, 192)  576         conv2d_353[0][0]                 \n",
            "__________________________________________________________________________________________________\n",
            "activation_342 (Activation)     (None, 12, 12, 192)  0           batch_normalization_342[0][0]    \n",
            "__________________________________________________________________________________________________\n",
            "activation_345 (Activation)     (None, 12, 12, 192)  0           batch_normalization_345[0][0]    \n",
            "__________________________________________________________________________________________________\n",
            "activation_350 (Activation)     (None, 12, 12, 192)  0           batch_normalization_350[0][0]    \n",
            "__________________________________________________________________________________________________\n",
            "activation_351 (Activation)     (None, 12, 12, 192)  0           batch_normalization_351[0][0]    \n",
            "__________________________________________________________________________________________________\n",
            "mixed7 (Concatenate)            (None, 12, 12, 768)  0           activation_342[0][0]             \n",
            "                                                                 activation_345[0][0]             \n",
            "                                                                 activation_350[0][0]             \n",
            "                                                                 activation_351[0][0]             \n",
            "__________________________________________________________________________________________________\n",
            "conv2d_356 (Conv2D)             (None, 12, 12, 192)  147456      mixed7[0][0]                     \n",
            "__________________________________________________________________________________________________\n",
            "batch_normalization_354 (BatchN (None, 12, 12, 192)  576         conv2d_356[0][0]                 \n",
            "__________________________________________________________________________________________________\n",
            "activation_354 (Activation)     (None, 12, 12, 192)  0           batch_normalization_354[0][0]    \n",
            "__________________________________________________________________________________________________\n",
            "conv2d_357 (Conv2D)             (None, 12, 12, 192)  258048      activation_354[0][0]             \n",
            "__________________________________________________________________________________________________\n",
            "batch_normalization_355 (BatchN (None, 12, 12, 192)  576         conv2d_357[0][0]                 \n",
            "__________________________________________________________________________________________________\n",
            "activation_355 (Activation)     (None, 12, 12, 192)  0           batch_normalization_355[0][0]    \n",
            "__________________________________________________________________________________________________\n",
            "conv2d_354 (Conv2D)             (None, 12, 12, 192)  147456      mixed7[0][0]                     \n",
            "__________________________________________________________________________________________________\n",
            "conv2d_358 (Conv2D)             (None, 12, 12, 192)  258048      activation_355[0][0]             \n",
            "__________________________________________________________________________________________________\n",
            "batch_normalization_352 (BatchN (None, 12, 12, 192)  576         conv2d_354[0][0]                 \n",
            "__________________________________________________________________________________________________\n",
            "batch_normalization_356 (BatchN (None, 12, 12, 192)  576         conv2d_358[0][0]                 \n",
            "__________________________________________________________________________________________________\n",
            "activation_352 (Activation)     (None, 12, 12, 192)  0           batch_normalization_352[0][0]    \n",
            "__________________________________________________________________________________________________\n",
            "activation_356 (Activation)     (None, 12, 12, 192)  0           batch_normalization_356[0][0]    \n",
            "__________________________________________________________________________________________________\n",
            "conv2d_355 (Conv2D)             (None, 5, 5, 320)    552960      activation_352[0][0]             \n",
            "__________________________________________________________________________________________________\n",
            "conv2d_359 (Conv2D)             (None, 5, 5, 192)    331776      activation_356[0][0]             \n",
            "__________________________________________________________________________________________________\n",
            "batch_normalization_353 (BatchN (None, 5, 5, 320)    960         conv2d_355[0][0]                 \n",
            "__________________________________________________________________________________________________\n",
            "batch_normalization_357 (BatchN (None, 5, 5, 192)    576         conv2d_359[0][0]                 \n",
            "__________________________________________________________________________________________________\n",
            "activation_353 (Activation)     (None, 5, 5, 320)    0           batch_normalization_353[0][0]    \n",
            "__________________________________________________________________________________________________\n",
            "activation_357 (Activation)     (None, 5, 5, 192)    0           batch_normalization_357[0][0]    \n",
            "__________________________________________________________________________________________________\n",
            "max_pooling2d_15 (MaxPooling2D) (None, 5, 5, 768)    0           mixed7[0][0]                     \n",
            "__________________________________________________________________________________________________\n",
            "mixed8 (Concatenate)            (None, 5, 5, 1280)   0           activation_353[0][0]             \n",
            "                                                                 activation_357[0][0]             \n",
            "                                                                 max_pooling2d_15[0][0]           \n",
            "__________________________________________________________________________________________________\n",
            "conv2d_364 (Conv2D)             (None, 5, 5, 448)    573440      mixed8[0][0]                     \n",
            "__________________________________________________________________________________________________\n",
            "batch_normalization_362 (BatchN (None, 5, 5, 448)    1344        conv2d_364[0][0]                 \n",
            "__________________________________________________________________________________________________\n",
            "activation_362 (Activation)     (None, 5, 5, 448)    0           batch_normalization_362[0][0]    \n",
            "__________________________________________________________________________________________________\n",
            "conv2d_361 (Conv2D)             (None, 5, 5, 384)    491520      mixed8[0][0]                     \n",
            "__________________________________________________________________________________________________\n",
            "conv2d_365 (Conv2D)             (None, 5, 5, 384)    1548288     activation_362[0][0]             \n",
            "__________________________________________________________________________________________________\n",
            "batch_normalization_359 (BatchN (None, 5, 5, 384)    1152        conv2d_361[0][0]                 \n",
            "__________________________________________________________________________________________________\n",
            "batch_normalization_363 (BatchN (None, 5, 5, 384)    1152        conv2d_365[0][0]                 \n",
            "__________________________________________________________________________________________________\n",
            "activation_359 (Activation)     (None, 5, 5, 384)    0           batch_normalization_359[0][0]    \n",
            "__________________________________________________________________________________________________\n",
            "activation_363 (Activation)     (None, 5, 5, 384)    0           batch_normalization_363[0][0]    \n",
            "__________________________________________________________________________________________________\n",
            "conv2d_362 (Conv2D)             (None, 5, 5, 384)    442368      activation_359[0][0]             \n",
            "__________________________________________________________________________________________________\n",
            "conv2d_363 (Conv2D)             (None, 5, 5, 384)    442368      activation_359[0][0]             \n",
            "__________________________________________________________________________________________________\n",
            "conv2d_366 (Conv2D)             (None, 5, 5, 384)    442368      activation_363[0][0]             \n",
            "__________________________________________________________________________________________________\n",
            "conv2d_367 (Conv2D)             (None, 5, 5, 384)    442368      activation_363[0][0]             \n",
            "__________________________________________________________________________________________________\n",
            "average_pooling2d_36 (AveragePo (None, 5, 5, 1280)   0           mixed8[0][0]                     \n",
            "__________________________________________________________________________________________________\n",
            "conv2d_360 (Conv2D)             (None, 5, 5, 320)    409600      mixed8[0][0]                     \n",
            "__________________________________________________________________________________________________\n",
            "batch_normalization_360 (BatchN (None, 5, 5, 384)    1152        conv2d_362[0][0]                 \n",
            "__________________________________________________________________________________________________\n",
            "batch_normalization_361 (BatchN (None, 5, 5, 384)    1152        conv2d_363[0][0]                 \n",
            "__________________________________________________________________________________________________\n",
            "batch_normalization_364 (BatchN (None, 5, 5, 384)    1152        conv2d_366[0][0]                 \n",
            "__________________________________________________________________________________________________\n",
            "batch_normalization_365 (BatchN (None, 5, 5, 384)    1152        conv2d_367[0][0]                 \n",
            "__________________________________________________________________________________________________\n",
            "conv2d_368 (Conv2D)             (None, 5, 5, 192)    245760      average_pooling2d_36[0][0]       \n",
            "__________________________________________________________________________________________________\n",
            "batch_normalization_358 (BatchN (None, 5, 5, 320)    960         conv2d_360[0][0]                 \n",
            "__________________________________________________________________________________________________\n",
            "activation_360 (Activation)     (None, 5, 5, 384)    0           batch_normalization_360[0][0]    \n",
            "__________________________________________________________________________________________________\n",
            "activation_361 (Activation)     (None, 5, 5, 384)    0           batch_normalization_361[0][0]    \n",
            "__________________________________________________________________________________________________\n",
            "activation_364 (Activation)     (None, 5, 5, 384)    0           batch_normalization_364[0][0]    \n",
            "__________________________________________________________________________________________________\n",
            "activation_365 (Activation)     (None, 5, 5, 384)    0           batch_normalization_365[0][0]    \n",
            "__________________________________________________________________________________________________\n",
            "batch_normalization_366 (BatchN (None, 5, 5, 192)    576         conv2d_368[0][0]                 \n",
            "__________________________________________________________________________________________________\n",
            "activation_358 (Activation)     (None, 5, 5, 320)    0           batch_normalization_358[0][0]    \n",
            "__________________________________________________________________________________________________\n",
            "mixed9_0 (Concatenate)          (None, 5, 5, 768)    0           activation_360[0][0]             \n",
            "                                                                 activation_361[0][0]             \n",
            "__________________________________________________________________________________________________\n",
            "concatenate_6 (Concatenate)     (None, 5, 5, 768)    0           activation_364[0][0]             \n",
            "                                                                 activation_365[0][0]             \n",
            "__________________________________________________________________________________________________\n",
            "activation_366 (Activation)     (None, 5, 5, 192)    0           batch_normalization_366[0][0]    \n",
            "__________________________________________________________________________________________________\n",
            "mixed9 (Concatenate)            (None, 5, 5, 2048)   0           activation_358[0][0]             \n",
            "                                                                 mixed9_0[0][0]                   \n",
            "                                                                 concatenate_6[0][0]              \n",
            "                                                                 activation_366[0][0]             \n",
            "__________________________________________________________________________________________________\n",
            "conv2d_373 (Conv2D)             (None, 5, 5, 448)    917504      mixed9[0][0]                     \n",
            "__________________________________________________________________________________________________\n",
            "batch_normalization_371 (BatchN (None, 5, 5, 448)    1344        conv2d_373[0][0]                 \n",
            "__________________________________________________________________________________________________\n",
            "activation_371 (Activation)     (None, 5, 5, 448)    0           batch_normalization_371[0][0]    \n",
            "__________________________________________________________________________________________________\n",
            "conv2d_370 (Conv2D)             (None, 5, 5, 384)    786432      mixed9[0][0]                     \n",
            "__________________________________________________________________________________________________\n",
            "conv2d_374 (Conv2D)             (None, 5, 5, 384)    1548288     activation_371[0][0]             \n",
            "__________________________________________________________________________________________________\n",
            "batch_normalization_368 (BatchN (None, 5, 5, 384)    1152        conv2d_370[0][0]                 \n",
            "__________________________________________________________________________________________________\n",
            "batch_normalization_372 (BatchN (None, 5, 5, 384)    1152        conv2d_374[0][0]                 \n",
            "__________________________________________________________________________________________________\n",
            "activation_368 (Activation)     (None, 5, 5, 384)    0           batch_normalization_368[0][0]    \n",
            "__________________________________________________________________________________________________\n",
            "activation_372 (Activation)     (None, 5, 5, 384)    0           batch_normalization_372[0][0]    \n",
            "__________________________________________________________________________________________________\n",
            "conv2d_371 (Conv2D)             (None, 5, 5, 384)    442368      activation_368[0][0]             \n",
            "__________________________________________________________________________________________________\n",
            "conv2d_372 (Conv2D)             (None, 5, 5, 384)    442368      activation_368[0][0]             \n",
            "__________________________________________________________________________________________________\n",
            "conv2d_375 (Conv2D)             (None, 5, 5, 384)    442368      activation_372[0][0]             \n",
            "__________________________________________________________________________________________________\n",
            "conv2d_376 (Conv2D)             (None, 5, 5, 384)    442368      activation_372[0][0]             \n",
            "__________________________________________________________________________________________________\n",
            "average_pooling2d_37 (AveragePo (None, 5, 5, 2048)   0           mixed9[0][0]                     \n",
            "__________________________________________________________________________________________________\n",
            "conv2d_369 (Conv2D)             (None, 5, 5, 320)    655360      mixed9[0][0]                     \n",
            "__________________________________________________________________________________________________\n",
            "batch_normalization_369 (BatchN (None, 5, 5, 384)    1152        conv2d_371[0][0]                 \n",
            "__________________________________________________________________________________________________\n",
            "batch_normalization_370 (BatchN (None, 5, 5, 384)    1152        conv2d_372[0][0]                 \n",
            "__________________________________________________________________________________________________\n",
            "batch_normalization_373 (BatchN (None, 5, 5, 384)    1152        conv2d_375[0][0]                 \n",
            "__________________________________________________________________________________________________\n",
            "batch_normalization_374 (BatchN (None, 5, 5, 384)    1152        conv2d_376[0][0]                 \n",
            "__________________________________________________________________________________________________\n",
            "conv2d_377 (Conv2D)             (None, 5, 5, 192)    393216      average_pooling2d_37[0][0]       \n",
            "__________________________________________________________________________________________________\n",
            "batch_normalization_367 (BatchN (None, 5, 5, 320)    960         conv2d_369[0][0]                 \n",
            "__________________________________________________________________________________________________\n",
            "activation_369 (Activation)     (None, 5, 5, 384)    0           batch_normalization_369[0][0]    \n",
            "__________________________________________________________________________________________________\n",
            "activation_370 (Activation)     (None, 5, 5, 384)    0           batch_normalization_370[0][0]    \n",
            "__________________________________________________________________________________________________\n",
            "activation_373 (Activation)     (None, 5, 5, 384)    0           batch_normalization_373[0][0]    \n",
            "__________________________________________________________________________________________________\n",
            "activation_374 (Activation)     (None, 5, 5, 384)    0           batch_normalization_374[0][0]    \n",
            "__________________________________________________________________________________________________\n",
            "batch_normalization_375 (BatchN (None, 5, 5, 192)    576         conv2d_377[0][0]                 \n",
            "__________________________________________________________________________________________________\n",
            "activation_367 (Activation)     (None, 5, 5, 320)    0           batch_normalization_367[0][0]    \n",
            "__________________________________________________________________________________________________\n",
            "mixed9_1 (Concatenate)          (None, 5, 5, 768)    0           activation_369[0][0]             \n",
            "                                                                 activation_370[0][0]             \n",
            "__________________________________________________________________________________________________\n",
            "concatenate_7 (Concatenate)     (None, 5, 5, 768)    0           activation_373[0][0]             \n",
            "                                                                 activation_374[0][0]             \n",
            "__________________________________________________________________________________________________\n",
            "activation_375 (Activation)     (None, 5, 5, 192)    0           batch_normalization_375[0][0]    \n",
            "__________________________________________________________________________________________________\n",
            "mixed10 (Concatenate)           (None, 5, 5, 2048)   0           activation_367[0][0]             \n",
            "                                                                 mixed9_1[0][0]                   \n",
            "                                                                 concatenate_7[0][0]              \n",
            "                                                                 activation_375[0][0]             \n",
            "__________________________________________________________________________________________________\n",
            "global_max_pooling2d_5 (GlobalM (None, 2048)         0           mixed10[0][0]                    \n",
            "__________________________________________________________________________________________________\n",
            "dense_27 (Dense)                (None, 32)           65568       global_max_pooling2d_5[0][0]     \n",
            "__________________________________________________________________________________________________\n",
            "dropout_18 (Dropout)            (None, 32)           0           dense_27[0][0]                   \n",
            "__________________________________________________________________________________________________\n",
            "dense_28 (Dense)                (None, 16)           528         dropout_18[0][0]                 \n",
            "__________________________________________________________________________________________________\n",
            "dropout_19 (Dropout)            (None, 16)           0           dense_28[0][0]                   \n",
            "__________________________________________________________________________________________________\n",
            "dense_29 (Dense)                (None, 16)           272         dropout_19[0][0]                 \n",
            "__________________________________________________________________________________________________\n",
            "dropout_20 (Dropout)            (None, 16)           0           dense_29[0][0]                   \n",
            "__________________________________________________________________________________________________\n",
            "dense_30 (Dense)                (None, 32)           544         dropout_20[0][0]                 \n",
            "__________________________________________________________________________________________________\n",
            "dropout_21 (Dropout)            (None, 32)           0           dense_30[0][0]                   \n",
            "__________________________________________________________________________________________________\n",
            "dense_31 (Dense)                (None, 6)            198         dropout_21[0][0]                 \n",
            "==================================================================================================\n",
            "Total params: 21,869,894\n",
            "Trainable params: 67,110\n",
            "Non-trainable params: 21,802,784\n",
            "__________________________________________________________________________________________________\n"
          ]
        }
      ]
    },
    {
      "cell_type": "code",
      "metadata": {
        "colab": {
          "base_uri": "https://localhost:8080/"
        },
        "id": "3lfI1IMhMrYj",
        "outputId": "00555fe5-2e87-43a9-d597-5e0d9b89c89d"
      },
      "source": [
        "start = time.time()\n",
        "\n",
        "history =InceptionV3_model.fit(x_train,y_train,batch_size=10,epochs=50,validation_split=0.2)\n",
        "\n",
        "\n",
        "end = time.time()\n",
        "duration = end - start\n",
        "print ('\\n simple  took %0.2f seconds (%0.1f minutes) to train for %d epochs'%(duration, duration/60, 30) )\n",
        "\n"
      ],
      "execution_count": null,
      "outputs": [
        {
          "output_type": "stream",
          "name": "stdout",
          "text": [
            "Epoch 1/50\n",
            "128/128 [==============================] - 19s 111ms/step - loss: 1.8228 - accuracy: 0.2734 - val_loss: 1.2044 - val_accuracy: 0.4375\n",
            "Epoch 2/50\n",
            "128/128 [==============================] - 12s 98ms/step - loss: 1.2459 - accuracy: 0.3555 - val_loss: 0.9556 - val_accuracy: 0.5188\n",
            "Epoch 3/50\n",
            "128/128 [==============================] - 13s 98ms/step - loss: 1.1742 - accuracy: 0.4086 - val_loss: 1.0373 - val_accuracy: 0.5031\n",
            "Epoch 4/50\n",
            "128/128 [==============================] - 12s 97ms/step - loss: 1.2038 - accuracy: 0.4008 - val_loss: 1.1270 - val_accuracy: 0.4719\n",
            "Epoch 5/50\n",
            "128/128 [==============================] - 12s 97ms/step - loss: 1.1947 - accuracy: 0.4094 - val_loss: 1.0587 - val_accuracy: 0.4563\n",
            "Epoch 6/50\n",
            "128/128 [==============================] - 12s 94ms/step - loss: 1.1419 - accuracy: 0.4336 - val_loss: 0.9886 - val_accuracy: 0.4469\n",
            "Epoch 7/50\n",
            "128/128 [==============================] - 12s 94ms/step - loss: 1.1465 - accuracy: 0.4187 - val_loss: 1.0176 - val_accuracy: 0.5063\n",
            "Epoch 8/50\n",
            "128/128 [==============================] - 12s 94ms/step - loss: 1.1574 - accuracy: 0.4055 - val_loss: 1.0170 - val_accuracy: 0.4625\n",
            "Epoch 9/50\n",
            "128/128 [==============================] - 12s 98ms/step - loss: 1.1484 - accuracy: 0.4273 - val_loss: 1.0365 - val_accuracy: 0.4437\n",
            "Epoch 10/50\n",
            "128/128 [==============================] - 12s 97ms/step - loss: 1.1618 - accuracy: 0.4055 - val_loss: 0.9498 - val_accuracy: 0.6187\n",
            "Epoch 11/50\n",
            "128/128 [==============================] - 12s 98ms/step - loss: 1.1304 - accuracy: 0.4328 - val_loss: 1.0178 - val_accuracy: 0.4563\n",
            "Epoch 12/50\n",
            "128/128 [==============================] - 12s 93ms/step - loss: 1.1251 - accuracy: 0.4461 - val_loss: 1.0220 - val_accuracy: 0.4437\n",
            "Epoch 13/50\n",
            "128/128 [==============================] - 12s 97ms/step - loss: 1.0940 - accuracy: 0.4508 - val_loss: 0.9812 - val_accuracy: 0.4500\n",
            "Epoch 14/50\n",
            "128/128 [==============================] - 12s 97ms/step - loss: 1.1343 - accuracy: 0.4406 - val_loss: 1.0429 - val_accuracy: 0.4500\n",
            "Epoch 15/50\n",
            "128/128 [==============================] - 12s 94ms/step - loss: 1.1605 - accuracy: 0.4305 - val_loss: 0.9431 - val_accuracy: 0.5719\n",
            "Epoch 16/50\n",
            "128/128 [==============================] - 12s 94ms/step - loss: 1.1142 - accuracy: 0.4445 - val_loss: 1.0172 - val_accuracy: 0.4625\n",
            "Epoch 17/50\n",
            "128/128 [==============================] - 12s 96ms/step - loss: 1.0870 - accuracy: 0.4773 - val_loss: 0.9330 - val_accuracy: 0.5875\n",
            "Epoch 18/50\n",
            "128/128 [==============================] - 13s 98ms/step - loss: 1.1605 - accuracy: 0.3977 - val_loss: 1.0258 - val_accuracy: 0.4594\n",
            "Epoch 19/50\n",
            "128/128 [==============================] - 13s 99ms/step - loss: 1.0922 - accuracy: 0.4688 - val_loss: 0.9954 - val_accuracy: 0.5344\n",
            "Epoch 20/50\n",
            "128/128 [==============================] - 13s 98ms/step - loss: 1.1016 - accuracy: 0.4500 - val_loss: 0.9432 - val_accuracy: 0.5250\n",
            "Epoch 21/50\n",
            "128/128 [==============================] - 12s 94ms/step - loss: 1.1124 - accuracy: 0.4547 - val_loss: 1.1141 - val_accuracy: 0.3938\n",
            "Epoch 22/50\n",
            "128/128 [==============================] - 13s 98ms/step - loss: 1.1502 - accuracy: 0.4422 - val_loss: 1.0216 - val_accuracy: 0.4531\n",
            "Epoch 23/50\n",
            "128/128 [==============================] - 12s 95ms/step - loss: 1.0921 - accuracy: 0.4594 - val_loss: 0.9266 - val_accuracy: 0.5719\n",
            "Epoch 24/50\n",
            "128/128 [==============================] - 12s 96ms/step - loss: 1.1056 - accuracy: 0.4617 - val_loss: 0.9911 - val_accuracy: 0.4563\n",
            "Epoch 25/50\n",
            "128/128 [==============================] - 13s 98ms/step - loss: 1.2911 - accuracy: 0.3562 - val_loss: 1.3918 - val_accuracy: 0.2625\n",
            "Epoch 26/50\n",
            "128/128 [==============================] - 13s 98ms/step - loss: 1.4098 - accuracy: 0.2570 - val_loss: 1.3899 - val_accuracy: 0.2688\n",
            "Epoch 27/50\n",
            "128/128 [==============================] - 12s 95ms/step - loss: 1.3972 - accuracy: 0.2695 - val_loss: 1.3921 - val_accuracy: 0.2688\n",
            "Epoch 28/50\n",
            "128/128 [==============================] - 12s 95ms/step - loss: 1.3933 - accuracy: 0.2531 - val_loss: 1.3923 - val_accuracy: 0.2688\n",
            "Epoch 29/50\n",
            "128/128 [==============================] - 12s 98ms/step - loss: 1.3940 - accuracy: 0.2453 - val_loss: 1.3914 - val_accuracy: 0.2125\n",
            "Epoch 30/50\n",
            "128/128 [==============================] - 13s 98ms/step - loss: 1.3915 - accuracy: 0.2461 - val_loss: 1.3951 - val_accuracy: 0.2125\n",
            "Epoch 31/50\n",
            "128/128 [==============================] - 13s 98ms/step - loss: 1.3942 - accuracy: 0.2344 - val_loss: 1.3892 - val_accuracy: 0.2125\n",
            "Epoch 32/50\n",
            "128/128 [==============================] - 12s 98ms/step - loss: 1.3949 - accuracy: 0.2234 - val_loss: 1.3863 - val_accuracy: 0.2625\n",
            "Epoch 33/50\n",
            "128/128 [==============================] - 12s 95ms/step - loss: 1.3915 - accuracy: 0.2461 - val_loss: 1.3846 - val_accuracy: 0.2688\n",
            "Epoch 34/50\n",
            "128/128 [==============================] - 12s 95ms/step - loss: 1.3935 - accuracy: 0.2289 - val_loss: 1.3879 - val_accuracy: 0.2625\n",
            "Epoch 35/50\n",
            "128/128 [==============================] - 12s 96ms/step - loss: 1.3909 - accuracy: 0.2398 - val_loss: 1.3910 - val_accuracy: 0.2688\n",
            "Epoch 36/50\n",
            "128/128 [==============================] - 12s 95ms/step - loss: 1.3926 - accuracy: 0.2555 - val_loss: 1.3916 - val_accuracy: 0.2625\n",
            "Epoch 37/50\n",
            "128/128 [==============================] - 13s 98ms/step - loss: 1.3885 - accuracy: 0.2633 - val_loss: 1.3888 - val_accuracy: 0.2562\n",
            "Epoch 38/50\n",
            "128/128 [==============================] - 13s 98ms/step - loss: 1.3903 - accuracy: 0.2594 - val_loss: 1.3939 - val_accuracy: 0.2594\n",
            "Epoch 39/50\n",
            "128/128 [==============================] - 12s 98ms/step - loss: 1.3908 - accuracy: 0.2359 - val_loss: 1.3879 - val_accuracy: 0.2688\n",
            "Epoch 40/50\n",
            "128/128 [==============================] - 12s 95ms/step - loss: 1.3898 - accuracy: 0.2570 - val_loss: 1.3887 - val_accuracy: 0.2125\n",
            "Epoch 41/50\n",
            "128/128 [==============================] - 12s 95ms/step - loss: 1.3893 - accuracy: 0.2406 - val_loss: 1.3880 - val_accuracy: 0.2625\n",
            "Epoch 42/50\n",
            "128/128 [==============================] - 12s 95ms/step - loss: 1.3888 - accuracy: 0.2383 - val_loss: 1.3877 - val_accuracy: 0.2125\n",
            "Epoch 43/50\n",
            "128/128 [==============================] - 13s 98ms/step - loss: 1.3882 - accuracy: 0.2453 - val_loss: 1.3864 - val_accuracy: 0.2625\n",
            "Epoch 44/50\n",
            "128/128 [==============================] - 12s 95ms/step - loss: 1.3900 - accuracy: 0.2430 - val_loss: 1.3852 - val_accuracy: 0.2625\n",
            "Epoch 45/50\n",
            "128/128 [==============================] - 12s 98ms/step - loss: 1.3888 - accuracy: 0.2227 - val_loss: 1.3847 - val_accuracy: 0.2625\n",
            "Epoch 46/50\n",
            "128/128 [==============================] - 12s 98ms/step - loss: 1.3895 - accuracy: 0.2414 - val_loss: 1.3886 - val_accuracy: 0.2125\n",
            "Epoch 47/50\n",
            "128/128 [==============================] - 12s 97ms/step - loss: 1.3898 - accuracy: 0.2445 - val_loss: 1.3853 - val_accuracy: 0.2688\n",
            "Epoch 48/50\n",
            "128/128 [==============================] - 12s 98ms/step - loss: 1.3880 - accuracy: 0.2461 - val_loss: 1.3856 - val_accuracy: 0.2688\n",
            "Epoch 49/50\n",
            "128/128 [==============================] - 12s 95ms/step - loss: 1.3886 - accuracy: 0.2422 - val_loss: 1.3873 - val_accuracy: 0.2625\n",
            "Epoch 50/50\n",
            "128/128 [==============================] - 12s 94ms/step - loss: 1.3894 - accuracy: 0.2430 - val_loss: 1.3868 - val_accuracy: 0.2688\n",
            "\n",
            " simple  took 623.48 seconds (10.4 minutes) to train for 30 epochs\n"
          ]
        }
      ]
    },
    {
      "cell_type": "markdown",
      "metadata": {
        "id": "QGFcHA1D9icK"
      },
      "source": [
        "##Step 4 : Evaluation   Model"
      ]
    },
    {
      "cell_type": "code",
      "metadata": {
        "colab": {
          "base_uri": "https://localhost:8080/"
        },
        "id": "XEVeaZHE9jbT",
        "outputId": "2ca18bfe-d980-4b07-de23-8d2f40fe4927"
      },
      "source": [
        "InceptionV3_model.evaluate(x_test,y_test)"
      ],
      "execution_count": null,
      "outputs": [
        {
          "output_type": "stream",
          "name": "stdout",
          "text": [
            "13/13 [==============================] - 4s 159ms/step - loss: 1.3867 - accuracy: 0.2200\n"
          ]
        },
        {
          "output_type": "execute_result",
          "data": {
            "text/plain": [
              "[1.386721134185791, 0.2199999988079071]"
            ]
          },
          "metadata": {},
          "execution_count": 162
        }
      ]
    },
    {
      "cell_type": "code",
      "metadata": {
        "colab": {
          "base_uri": "https://localhost:8080/",
          "height": 333
        },
        "id": "X1F8DBpk9mCL",
        "outputId": "254f94e5-331a-4759-b5bb-2bdeb7689644"
      },
      "source": [
        "plot_acc_loss(history, 50)"
      ],
      "execution_count": null,
      "outputs": [
        {
          "output_type": "display_data",
          "data": {
            "image/png": "[encoded data removed]",
            "text/plain": [
              "<Figure size 1080x360 with 2 Axes>"
            ]
          },
          "metadata": {
            "needs_background": "light"
          }
        }
      ]
    },
    {
      "cell_type": "code",
      "metadata": {
        "colab": {
          "base_uri": "https://localhost:8080/"
        },
        "id": "xuLtEmKN9n-8",
        "outputId": "14f8f1f5-ffbc-4991-8f4e-51928c9ad36d"
      },
      "source": [
        "y_pred =np.argmax(InceptionV3_model.predict(x_test),axis=-1)\n",
        "y_pred"
      ],
      "execution_count": null,
      "outputs": [
        {
          "output_type": "execute_result",
          "data": {
            "text/plain": [
              "array([1, 1, 1, 1, 1, 1, 1, 1, 1, 1, 1, 1, 1, 1, 1, 1, 1, 1, 1, 1, 1, 1,\n",
              "       1, 1, 1, 1, 1, 1, 1, 1, 1, 1, 1, 1, 1, 1, 1, 1, 1, 1, 1, 1, 1, 1,\n",
              "       1, 1, 1, 1, 1, 1, 1, 1, 1, 1, 1, 1, 1, 1, 1, 1, 1, 1, 1, 1, 1, 1,\n",
              "       1, 1, 1, 1, 1, 1, 1, 1, 1, 1, 1, 1, 1, 1, 1, 1, 1, 1, 1, 1, 1, 1,\n",
              "       1, 1, 1, 1, 1, 1, 1, 1, 1, 1, 1, 1, 1, 1, 1, 1, 1, 1, 1, 1, 1, 1,\n",
              "       1, 1, 1, 1, 1, 1, 1, 1, 1, 1, 1, 1, 1, 1, 1, 1, 1, 1, 1, 1, 1, 1,\n",
              "       1, 1, 1, 1, 1, 1, 1, 1, 1, 1, 1, 1, 1, 1, 1, 1, 1, 1, 1, 1, 1, 1,\n",
              "       1, 1, 1, 1, 1, 1, 1, 1, 1, 1, 1, 1, 1, 1, 1, 1, 1, 1, 1, 1, 1, 1,\n",
              "       1, 1, 1, 1, 1, 1, 1, 1, 1, 1, 1, 1, 1, 1, 1, 1, 1, 1, 1, 1, 1, 1,\n",
              "       1, 1, 1, 1, 1, 1, 1, 1, 1, 1, 1, 1, 1, 1, 1, 1, 1, 1, 1, 1, 1, 1,\n",
              "       1, 1, 1, 1, 1, 1, 1, 1, 1, 1, 1, 1, 1, 1, 1, 1, 1, 1, 1, 1, 1, 1,\n",
              "       1, 1, 1, 1, 1, 1, 1, 1, 1, 1, 1, 1, 1, 1, 1, 1, 1, 1, 1, 1, 1, 1,\n",
              "       1, 1, 1, 1, 1, 1, 1, 1, 1, 1, 1, 1, 1, 1, 1, 1, 1, 1, 1, 1, 1, 1,\n",
              "       1, 1, 1, 1, 1, 1, 1, 1, 1, 1, 1, 1, 1, 1, 1, 1, 1, 1, 1, 1, 1, 1,\n",
              "       1, 1, 1, 1, 1, 1, 1, 1, 1, 1, 1, 1, 1, 1, 1, 1, 1, 1, 1, 1, 1, 1,\n",
              "       1, 1, 1, 1, 1, 1, 1, 1, 1, 1, 1, 1, 1, 1, 1, 1, 1, 1, 1, 1, 1, 1,\n",
              "       1, 1, 1, 1, 1, 1, 1, 1, 1, 1, 1, 1, 1, 1, 1, 1, 1, 1, 1, 1, 1, 1,\n",
              "       1, 1, 1, 1, 1, 1, 1, 1, 1, 1, 1, 1, 1, 1, 1, 1, 1, 1, 1, 1, 1, 1,\n",
              "       1, 1, 1, 1])"
            ]
          },
          "metadata": {},
          "execution_count": 164
        }
      ]
    },
    {
      "cell_type": "code",
      "metadata": {
        "colab": {
          "base_uri": "https://localhost:8080/"
        },
        "id": "CI3d35-O9pP0",
        "outputId": "605c1a40-5d65-4666-d21e-d6e401056949"
      },
      "source": [
        "y_test"
      ],
      "execution_count": null,
      "outputs": [
        {
          "output_type": "execute_result",
          "data": {
            "text/plain": [
              "array([3, 0, 3, 2, 1, 2, 0, 3, 2, 2, 1, 3, 2, 2, 2, 3, 3, 1, 0, 1, 2, 3,\n",
              "       1, 3, 3, 1, 0, 2, 1, 1, 1, 3, 1, 3, 1, 0, 2, 0, 2, 1, 3, 0, 3, 2,\n",
              "       0, 0, 2, 3, 3, 0, 0, 0, 3, 0, 0, 1, 0, 3, 2, 3, 3, 2, 0, 2, 2, 1,\n",
              "       0, 2, 3, 2, 0, 1, 3, 0, 3, 2, 3, 2, 3, 3, 2, 1, 2, 2, 3, 3, 2, 3,\n",
              "       2, 3, 2, 0, 1, 3, 2, 0, 1, 3, 2, 0, 1, 0, 0, 2, 1, 3, 1, 1, 1, 2,\n",
              "       0, 3, 0, 3, 2, 1, 3, 3, 2, 1, 3, 0, 3, 3, 0, 1, 1, 3, 3, 3, 0, 1,\n",
              "       0, 2, 0, 3, 3, 0, 2, 0, 3, 2, 2, 2, 1, 3, 3, 2, 0, 1, 2, 0, 3, 0,\n",
              "       0, 2, 1, 3, 0, 2, 3, 2, 3, 0, 2, 2, 3, 3, 1, 1, 2, 1, 3, 0, 2, 2,\n",
              "       2, 1, 2, 2, 0, 2, 2, 0, 2, 0, 2, 3, 3, 1, 2, 1, 2, 0, 3, 3, 3, 0,\n",
              "       0, 0, 3, 1, 2, 0, 3, 3, 2, 1, 2, 3, 3, 0, 0, 1, 3, 1, 1, 0, 0, 2,\n",
              "       1, 3, 2, 1, 2, 3, 1, 2, 3, 1, 2, 1, 2, 3, 2, 1, 0, 1, 1, 0, 2, 2,\n",
              "       2, 2, 2, 0, 1, 2, 3, 0, 1, 3, 1, 2, 1, 3, 0, 1, 2, 3, 1, 3, 2, 3,\n",
              "       3, 2, 2, 2, 1, 3, 2, 2, 1, 3, 2, 1, 3, 0, 3, 0, 3, 1, 1, 2, 2, 1,\n",
              "       2, 0, 2, 2, 2, 1, 0, 0, 2, 1, 2, 1, 1, 1, 0, 2, 3, 1, 3, 1, 3, 2,\n",
              "       3, 2, 3, 1, 1, 1, 1, 0, 3, 2, 3, 2, 3, 3, 3, 3, 3, 3, 0, 2, 1, 0,\n",
              "       0, 0, 2, 1, 3, 0, 2, 1, 1, 3, 0, 3, 1, 0, 0, 3, 3, 3, 1, 1, 3, 1,\n",
              "       3, 2, 1, 1, 3, 3, 0, 3, 3, 0, 3, 3, 2, 1, 1, 3, 0, 0, 3, 0, 3, 1,\n",
              "       2, 3, 0, 2, 0, 0, 2, 0, 0, 0, 0, 1, 2, 2, 0, 0, 0, 3, 0, 2, 0, 2,\n",
              "       1, 2, 3, 0])"
            ]
          },
          "metadata": {},
          "execution_count": 165
        }
      ]
    },
    {
      "cell_type": "code",
      "metadata": {
        "colab": {
          "base_uri": "https://localhost:8080/"
        },
        "id": "SeayuA_OgRNr",
        "outputId": "02df8c54-56df-46f2-d903-6bf389b81cc6"
      },
      "source": [
        "from sklearn.metrics import accuracy_score\n",
        "\n",
        "print('Accuracy Score: {:.4f}'.format(accuracy_score(y_test,y_pred)))"
      ],
      "execution_count": null,
      "outputs": [
        {
          "output_type": "stream",
          "name": "stdout",
          "text": [
            "Accuracy Score: 0.2200\n"
          ]
        }
      ]
    },
    {
      "cell_type": "code",
      "metadata": {
        "colab": {
          "base_uri": "https://localhost:8080/"
        },
        "id": "CknCBDzqMNRi",
        "outputId": "a56c9377-30b1-4024-ca23-c6795d47862a"
      },
      "source": [
        "from sklearn.metrics import classification_report, confusion_matrix\n",
        "import seaborn as sns\n",
        "\n",
        "target_names = ['L1', 'L2', 'L3', 'L4']\n",
        "cmatrix = confusion_matrix(y_test, y_pred)\n",
        "creport = classification_report(y_test, y_pred, target_names=target_names)\n",
        "\n",
        "# print(\"Accuracy : {:.3f}%\".format(acc*100))\n",
        "# print(\"Loss     : {:.3f}\".format(loss))\n",
        "\n",
        "print(\"\\nClassification Report \\n\")\n",
        "print(creport)"
      ],
      "execution_count": null,
      "outputs": [
        {
          "output_type": "stream",
          "name": "stdout",
          "text": [
            "\n",
            "Classification Report \n",
            "\n",
            "              precision    recall  f1-score   support\n",
            "\n",
            "          L1       0.00      0.00      0.00        90\n",
            "          L2       0.22      1.00      0.36        88\n",
            "          L3       0.00      0.00      0.00       108\n",
            "          L4       0.00      0.00      0.00       114\n",
            "\n",
            "    accuracy                           0.22       400\n",
            "   macro avg       0.06      0.25      0.09       400\n",
            "weighted avg       0.05      0.22      0.08       400\n",
            "\n"
          ]
        },
        {
          "output_type": "stream",
          "name": "stderr",
          "text": [
            "/usr/local/lib/python3.7/dist-packages/sklearn/metrics/_classification.py:1272: UndefinedMetricWarning: Precision and F-score are ill-defined and being set to 0.0 in labels with no predicted samples. Use `zero_division` parameter to control this behavior.\n",
            "  _warn_prf(average, modifier, msg_start, len(result))\n"
          ]
        }
      ]
    },
    {
      "cell_type": "code",
      "metadata": {
        "colab": {
          "base_uri": "https://localhost:8080/",
          "height": 564
        },
        "id": "etgVFSh8MNf0",
        "outputId": "6e3f6f08-3bd5-4394-8257-c37fee00b6e4"
      },
      "source": [
        "fig, ax = plt.subplots(figsize=(8, 8))\n",
        "sns.heatmap(cmatrix, cmap=\"crest_r\", annot=True, fmt='.4g', linewidths=2, linecolor='white', cbar=False, ax=ax)\n",
        "# cmap options: rocket, mako, flare, crest, magma, viridis, rocket_r, cubehelix, seagreen, Blues, ...\n",
        "\n",
        "ax.set_title('Confusion Matrix', fontsize=18, pad=24)\n",
        "ax.set_xticklabels(labels=target_names, fontsize=12)\n",
        "ax.set_yticklabels(labels=target_names, fontsize=12)\n",
        "\n",
        "plt.xlabel(\"(y) Predict Label\", fontsize=16, color=\"darkgreen\", labelpad=24)\n",
        "plt.ylabel(\"(y) Actual Label\", fontsize=16, color=\"darkgreen\", labelpad=24)\n",
        "plt.xticks(rotation=90)\n",
        "plt.yticks(rotation=0)\n",
        "plt.show()"
      ],
      "execution_count": null,
      "outputs": [
        {
          "output_type": "display_data",
          "data": {
            "image/png": "[encoded data removed]",
            "text/plain": [
              "<Figure size 576x576 with 1 Axes>"
            ]
          },
          "metadata": {
            "needs_background": "light"
          }
        }
      ]
    },
    {
      "cell_type": "markdown",
      "metadata": {
        "id": "0-BwM4I89tVf"
      },
      "source": [
        "##Step5 : Save Model"
      ]
    },
    {
      "cell_type": "code",
      "metadata": {
        "id": "j8wR_8n79uC0",
        "colab": {
          "base_uri": "https://localhost:8080/"
        },
        "outputId": "ec2b7eee-e499-4e11-e3ab-bd51dd8157c8"
      },
      "source": [
        "# Save the entire model as a SavedModel.\n",
        "InceptionV3_model.save('saved_InceptionV3_model/my_model') \n"
      ],
      "execution_count": null,
      "outputs": [
        {
          "output_type": "stream",
          "name": "stdout",
          "text": [
            "INFO:tensorflow:Assets written to: saved_InceptionV3_model/my_model/assets\n"
          ]
        },
        {
          "output_type": "stream",
          "name": "stderr",
          "text": [
            "INFO:tensorflow:Assets written to: saved_InceptionV3_model/my_model/assets\n"
          ]
        }
      ]
    },
    {
      "cell_type": "code",
      "metadata": {
        "id": "3o1VZ17p9v5T",
        "colab": {
          "base_uri": "https://localhost:8080/"
        },
        "outputId": "8de8a7d3-7009-4e24-f009-895f871e1e31"
      },
      "source": [
        "model= tf.keras.models.load_model('saved_InceptionV3_model/my_model')\n",
        "tflite_converter = tf.lite.TFLiteConverter.from_keras_model(model)\n",
        "tflite_model = tflite_converter.convert()\n",
        "open(\"tf_lite_model(200epochsmobnet).tflite\", \"wb\").write(tflite_model) \n"
      ],
      "execution_count": null,
      "outputs": [
        {
          "output_type": "stream",
          "name": "stdout",
          "text": [
            "INFO:tensorflow:Assets written to: /tmp/tmp2sbljvyc/assets\n"
          ]
        },
        {
          "output_type": "stream",
          "name": "stderr",
          "text": [
            "INFO:tensorflow:Assets written to: /tmp/tmp2sbljvyc/assets\n"
          ]
        },
        {
          "output_type": "execute_result",
          "data": {
            "text/plain": [
              "87392500"
            ]
          },
          "metadata": {},
          "execution_count": 66
        }
      ]
    },
    {
      "cell_type": "code",
      "metadata": {
        "id": "cp30QPWB9ySW"
      },
      "source": [
        "# model.save(\"model_without_kfold.h5\")       # Save Model as h5\n",
        "model_csv = pd.DataFrame(history.history)  # Save Model Report to csv\n",
        "csv_file = \"InceptionV3_Model.csv\"\n",
        "with open(csv_file, mode=\"w\") as f:\n",
        "  model_csv.to_csv(f)"
      ],
      "execution_count": null,
      "outputs": []
    },
    {
      "cell_type": "markdown",
      "metadata": {
        "id": "vj4TXC2G9zvk"
      },
      "source": [
        "##Step 6 : Deployment Model"
      ]
    },
    {
      "cell_type": "markdown",
      "metadata": {
        "id": "UrrAsZ6_EGWw"
      },
      "source": [
        "#VGG16"
      ]
    },
    {
      "cell_type": "code",
      "metadata": {
        "id": "trCTQP5nFAIb"
      },
      "source": [
        "X=np.array(COVID19_images+LUNG_images+NORMAL_images+PNEUMONIA_images).astype('float32')/255"
      ],
      "execution_count": null,
      "outputs": []
    },
    {
      "cell_type": "code",
      "metadata": {
        "colab": {
          "base_uri": "https://localhost:8080/"
        },
        "id": "rq0zrsBtF6hK",
        "outputId": "5794179d-003e-478d-ab60-207b6c019f3c"
      },
      "source": [
        "X.shape"
      ],
      "execution_count": null,
      "outputs": [
        {
          "output_type": "execute_result",
          "data": {
            "text/plain": [
              "(2000, 224, 224, 3)"
            ]
          },
          "metadata": {},
          "execution_count": 170
        }
      ]
    },
    {
      "cell_type": "code",
      "metadata": {
        "colab": {
          "base_uri": "https://localhost:8080/"
        },
        "id": "ZFuxW8eRF8e4",
        "outputId": "072e39da-d104-4080-9a41-e5f60efabc10"
      },
      "source": [
        "Y = np.array([0] * 500 + [1] * 500 + [2] * 500+ [3] * 500)    \n",
        "Y"
      ],
      "execution_count": null,
      "outputs": [
        {
          "output_type": "execute_result",
          "data": {
            "text/plain": [
              "array([0, 0, 0, ..., 3, 3, 3])"
            ]
          },
          "metadata": {},
          "execution_count": 171
        }
      ]
    },
    {
      "cell_type": "code",
      "metadata": {
        "id": "nVx_nDOaGAAQ"
      },
      "source": [
        "x_train, x_test, y_train, y_test = train_test_split(X , Y , train_size =0.80, test_size =0.20, random_state =30)"
      ],
      "execution_count": null,
      "outputs": []
    },
    {
      "cell_type": "code",
      "metadata": {
        "colab": {
          "base_uri": "https://localhost:8080/"
        },
        "id": "Nl1oolADGFkq",
        "outputId": "9a2eb65b-9b6e-4d83-88b0-5eacbb33c86e"
      },
      "source": [
        "x_train.shape"
      ],
      "execution_count": null,
      "outputs": [
        {
          "output_type": "execute_result",
          "data": {
            "text/plain": [
              "(1600, 224, 224, 3)"
            ]
          },
          "metadata": {},
          "execution_count": 173
        }
      ]
    },
    {
      "cell_type": "code",
      "metadata": {
        "colab": {
          "base_uri": "https://localhost:8080/"
        },
        "id": "VGc9OZs6GHGg",
        "outputId": "f5f50692-3b94-45c9-84ca-c96080327afe"
      },
      "source": [
        "x_test.shape"
      ],
      "execution_count": null,
      "outputs": [
        {
          "output_type": "execute_result",
          "data": {
            "text/plain": [
              "(400, 224, 224, 3)"
            ]
          },
          "metadata": {},
          "execution_count": 174
        }
      ]
    },
    {
      "cell_type": "code",
      "metadata": {
        "colab": {
          "base_uri": "https://localhost:8080/"
        },
        "id": "HvnnXGCpGIOX",
        "outputId": "5d1bf4b3-ead6-46e7-8a69-23888655f591"
      },
      "source": [
        "y_train.shape"
      ],
      "execution_count": null,
      "outputs": [
        {
          "output_type": "execute_result",
          "data": {
            "text/plain": [
              "(1600,)"
            ]
          },
          "metadata": {},
          "execution_count": 176
        }
      ]
    },
    {
      "cell_type": "code",
      "metadata": {
        "colab": {
          "base_uri": "https://localhost:8080/"
        },
        "id": "n_53Oz-AGJap",
        "outputId": "f8c29e01-9821-4019-cdea-d194d505247a"
      },
      "source": [
        "y_test.shape"
      ],
      "execution_count": null,
      "outputs": [
        {
          "output_type": "execute_result",
          "data": {
            "text/plain": [
              "(400,)"
            ]
          },
          "metadata": {},
          "execution_count": 177
        }
      ]
    },
    {
      "cell_type": "code",
      "metadata": {
        "id": "ZfUs1W_7GVSZ"
      },
      "source": [
        "VGG16_model =VGG16(input_shape=(224,224,3),include_top=False,weights='imagenet')"
      ],
      "execution_count": null,
      "outputs": []
    },
    {
      "cell_type": "code",
      "metadata": {
        "colab": {
          "base_uri": "https://localhost:8080/"
        },
        "id": "11AmzUVWGXtm",
        "outputId": "532b7337-80f5-4525-e657-45ae0d0ded4e"
      },
      "source": [
        "VGG16_model.summary()"
      ],
      "execution_count": null,
      "outputs": [
        {
          "output_type": "stream",
          "name": "stdout",
          "text": [
            "Model: \"vgg16\"\n",
            "_________________________________________________________________\n",
            "Layer (type)                 Output Shape              Param #   \n",
            "=================================================================\n",
            "input_9 (InputLayer)         [(None, 224, 224, 3)]     0         \n",
            "_________________________________________________________________\n",
            "block1_conv1 (Conv2D)        (None, 224, 224, 64)      1792      \n",
            "_________________________________________________________________\n",
            "block1_conv2 (Conv2D)        (None, 224, 224, 64)      36928     \n",
            "_________________________________________________________________\n",
            "block1_pool (MaxPooling2D)   (None, 112, 112, 64)      0         \n",
            "_________________________________________________________________\n",
            "block2_conv1 (Conv2D)        (None, 112, 112, 128)     73856     \n",
            "_________________________________________________________________\n",
            "block2_conv2 (Conv2D)        (None, 112, 112, 128)     147584    \n",
            "_________________________________________________________________\n",
            "block2_pool (MaxPooling2D)   (None, 56, 56, 128)       0         \n",
            "_________________________________________________________________\n",
            "block3_conv1 (Conv2D)        (None, 56, 56, 256)       295168    \n",
            "_________________________________________________________________\n",
            "block3_conv2 (Conv2D)        (None, 56, 56, 256)       590080    \n",
            "_________________________________________________________________\n",
            "block3_conv3 (Conv2D)        (None, 56, 56, 256)       590080    \n",
            "_________________________________________________________________\n",
            "block3_pool (MaxPooling2D)   (None, 28, 28, 256)       0         \n",
            "_________________________________________________________________\n",
            "block4_conv1 (Conv2D)        (None, 28, 28, 512)       1180160   \n",
            "_________________________________________________________________\n",
            "block4_conv2 (Conv2D)        (None, 28, 28, 512)       2359808   \n",
            "_________________________________________________________________\n",
            "block4_conv3 (Conv2D)        (None, 28, 28, 512)       2359808   \n",
            "_________________________________________________________________\n",
            "block4_pool (MaxPooling2D)   (None, 14, 14, 512)       0         \n",
            "_________________________________________________________________\n",
            "block5_conv1 (Conv2D)        (None, 14, 14, 512)       2359808   \n",
            "_________________________________________________________________\n",
            "block5_conv2 (Conv2D)        (None, 14, 14, 512)       2359808   \n",
            "_________________________________________________________________\n",
            "block5_conv3 (Conv2D)        (None, 14, 14, 512)       2359808   \n",
            "_________________________________________________________________\n",
            "block5_pool (MaxPooling2D)   (None, 7, 7, 512)         0         \n",
            "=================================================================\n",
            "Total params: 14,714,688\n",
            "Trainable params: 14,714,688\n",
            "Non-trainable params: 0\n",
            "_________________________________________________________________\n"
          ]
        }
      ]
    },
    {
      "cell_type": "code",
      "metadata": {
        "id": "UUufDWrQGaIa"
      },
      "source": [
        "for layer in VGG16_model.layers[:15]:\n",
        "  layer.trainable = False\n",
        "for layer in VGG16_model.layers[15:]:\n",
        "  layer.trainable =True"
      ],
      "execution_count": null,
      "outputs": []
    },
    {
      "cell_type": "code",
      "metadata": {
        "id": "mL_Zq1fQGbqA"
      },
      "source": [
        "last_layer = VGG16_model.get_layer('block5_pool')\n",
        "last_output = last_layer.output"
      ],
      "execution_count": null,
      "outputs": []
    },
    {
      "cell_type": "code",
      "metadata": {
        "id": "FLJEIcxUGdb5"
      },
      "source": [
        "temp =GlobalMaxPooling2D()(last_output)\n",
        "temp =Dense(64,activation='relu')(temp)\n",
        "temp= Dropout(0.3)(temp)\n",
        "temp =Dense(32,activation='relu')(temp)\n",
        "temp= Dropout(0.3)(temp)\n",
        "temp =Dense(16,activation='relu')(temp)\n",
        "temp= Dropout(0.3)(temp)\n",
        "temp =Dense(6,activation='softmax')(temp)"
      ],
      "execution_count": null,
      "outputs": []
    },
    {
      "cell_type": "code",
      "metadata": {
        "colab": {
          "base_uri": "https://localhost:8080/"
        },
        "id": "WRwFdiJEGfaj",
        "outputId": "6661b9b8-0f9a-42ea-a393-b089c9f07dcf"
      },
      "source": [
        "VGG16_model =tf.keras.Model(VGG16_model.input,temp)\n",
        "VGG16_model.compile(loss=tf.keras.losses.sparse_categorical_crossentropy,optimizer=tf.keras.optimizers.Adam(learning_rate=0.01),metrics=['accuracy'])\n",
        "VGG16_model.summary()"
      ],
      "execution_count": null,
      "outputs": [
        {
          "output_type": "stream",
          "name": "stdout",
          "text": [
            "Model: \"model_11\"\n",
            "_________________________________________________________________\n",
            "Layer (type)                 Output Shape              Param #   \n",
            "=================================================================\n",
            "input_9 (InputLayer)         [(None, 224, 224, 3)]     0         \n",
            "_________________________________________________________________\n",
            "block1_conv1 (Conv2D)        (None, 224, 224, 64)      1792      \n",
            "_________________________________________________________________\n",
            "block1_conv2 (Conv2D)        (None, 224, 224, 64)      36928     \n",
            "_________________________________________________________________\n",
            "block1_pool (MaxPooling2D)   (None, 112, 112, 64)      0         \n",
            "_________________________________________________________________\n",
            "block2_conv1 (Conv2D)        (None, 112, 112, 128)     73856     \n",
            "_________________________________________________________________\n",
            "block2_conv2 (Conv2D)        (None, 112, 112, 128)     147584    \n",
            "_________________________________________________________________\n",
            "block2_pool (MaxPooling2D)   (None, 56, 56, 128)       0         \n",
            "_________________________________________________________________\n",
            "block3_conv1 (Conv2D)        (None, 56, 56, 256)       295168    \n",
            "_________________________________________________________________\n",
            "block3_conv2 (Conv2D)        (None, 56, 56, 256)       590080    \n",
            "_________________________________________________________________\n",
            "block3_conv3 (Conv2D)        (None, 56, 56, 256)       590080    \n",
            "_________________________________________________________________\n",
            "block3_pool (MaxPooling2D)   (None, 28, 28, 256)       0         \n",
            "_________________________________________________________________\n",
            "block4_conv1 (Conv2D)        (None, 28, 28, 512)       1180160   \n",
            "_________________________________________________________________\n",
            "block4_conv2 (Conv2D)        (None, 28, 28, 512)       2359808   \n",
            "_________________________________________________________________\n",
            "block4_conv3 (Conv2D)        (None, 28, 28, 512)       2359808   \n",
            "_________________________________________________________________\n",
            "block4_pool (MaxPooling2D)   (None, 14, 14, 512)       0         \n",
            "_________________________________________________________________\n",
            "block5_conv1 (Conv2D)        (None, 14, 14, 512)       2359808   \n",
            "_________________________________________________________________\n",
            "block5_conv2 (Conv2D)        (None, 14, 14, 512)       2359808   \n",
            "_________________________________________________________________\n",
            "block5_conv3 (Conv2D)        (None, 14, 14, 512)       2359808   \n",
            "_________________________________________________________________\n",
            "block5_pool (MaxPooling2D)   (None, 7, 7, 512)         0         \n",
            "_________________________________________________________________\n",
            "global_max_pooling2d_9 (Glob (None, 512)               0         \n",
            "_________________________________________________________________\n",
            "dense_44 (Dense)             (None, 64)                32832     \n",
            "_________________________________________________________________\n",
            "dropout_31 (Dropout)         (None, 64)                0         \n",
            "_________________________________________________________________\n",
            "dense_45 (Dense)             (None, 32)                2080      \n",
            "_________________________________________________________________\n",
            "dropout_32 (Dropout)         (None, 32)                0         \n",
            "_________________________________________________________________\n",
            "dense_46 (Dense)             (None, 16)                528       \n",
            "_________________________________________________________________\n",
            "dropout_33 (Dropout)         (None, 16)                0         \n",
            "_________________________________________________________________\n",
            "dense_47 (Dense)             (None, 6)                 102       \n",
            "=================================================================\n",
            "Total params: 14,750,230\n",
            "Trainable params: 7,114,966\n",
            "Non-trainable params: 7,635,264\n",
            "_________________________________________________________________\n"
          ]
        }
      ]
    },
    {
      "cell_type": "code",
      "metadata": {
        "colab": {
          "base_uri": "https://localhost:8080/"
        },
        "id": "-WwolhN5GhQU",
        "outputId": "613e403c-13bf-4e41-d720-36b27c55a894"
      },
      "source": [
        "start = time.time()\n",
        "\n",
        "history=VGG16_model.fit(x_train,y_train,batch_size=10,epochs=50,validation_split=0.2)\n",
        "\n",
        "\n",
        "end = time.time()\n",
        "duration = end - start\n",
        "print ('\\n simple  took %0.2f seconds (%0.1f minutes) to train for %d epochs'%(duration, duration/60, 30) )"
      ],
      "execution_count": null,
      "outputs": [
        {
          "output_type": "stream",
          "name": "stdout",
          "text": [
            "Epoch 1/50\n",
            "128/128 [==============================] - 24s 177ms/step - loss: 1.5838 - accuracy: 0.2633 - val_loss: 1.4044 - val_accuracy: 0.2125\n",
            "Epoch 2/50\n",
            "128/128 [==============================] - 22s 174ms/step - loss: 1.4049 - accuracy: 0.2422 - val_loss: 1.3860 - val_accuracy: 0.2688\n",
            "Epoch 3/50\n",
            "128/128 [==============================] - 21s 161ms/step - loss: 1.4038 - accuracy: 0.2422 - val_loss: 1.3862 - val_accuracy: 0.2688\n",
            "Epoch 4/50\n",
            "128/128 [==============================] - 21s 161ms/step - loss: 1.3945 - accuracy: 0.2609 - val_loss: 1.3874 - val_accuracy: 0.2688\n",
            "Epoch 5/50\n",
            "128/128 [==============================] - 22s 174ms/step - loss: 1.3957 - accuracy: 0.2344 - val_loss: 1.3833 - val_accuracy: 0.2625\n",
            "Epoch 6/50\n",
            "128/128 [==============================] - 21s 161ms/step - loss: 1.3938 - accuracy: 0.2438 - val_loss: 1.3901 - val_accuracy: 0.2688\n",
            "Epoch 7/50\n",
            "128/128 [==============================] - 21s 161ms/step - loss: 1.3959 - accuracy: 0.2586 - val_loss: 1.3856 - val_accuracy: 0.2688\n",
            "Epoch 8/50\n",
            "128/128 [==============================] - 22s 174ms/step - loss: 1.3980 - accuracy: 0.2516 - val_loss: 1.3870 - val_accuracy: 0.2688\n",
            "Epoch 9/50\n",
            "128/128 [==============================] - 22s 174ms/step - loss: 1.3910 - accuracy: 0.2352 - val_loss: 1.3929 - val_accuracy: 0.2125\n",
            "Epoch 10/50\n",
            "128/128 [==============================] - 21s 161ms/step - loss: 1.3933 - accuracy: 0.2508 - val_loss: 1.3979 - val_accuracy: 0.2562\n",
            "Epoch 11/50\n",
            "128/128 [==============================] - 22s 174ms/step - loss: 1.3908 - accuracy: 0.2586 - val_loss: 1.3839 - val_accuracy: 0.2625\n",
            "Epoch 12/50\n",
            "128/128 [==============================] - 21s 161ms/step - loss: 1.3919 - accuracy: 0.2453 - val_loss: 1.3924 - val_accuracy: 0.2125\n",
            "Epoch 13/50\n",
            "128/128 [==============================] - 21s 161ms/step - loss: 1.3924 - accuracy: 0.2367 - val_loss: 1.3866 - val_accuracy: 0.2562\n",
            "Epoch 14/50\n",
            "128/128 [==============================] - 22s 174ms/step - loss: 1.3926 - accuracy: 0.2211 - val_loss: 1.3857 - val_accuracy: 0.2562\n",
            "Epoch 15/50\n",
            "128/128 [==============================] - 22s 174ms/step - loss: 1.3920 - accuracy: 0.2469 - val_loss: 1.3857 - val_accuracy: 0.2625\n",
            "Epoch 16/50\n",
            "128/128 [==============================] - 22s 174ms/step - loss: 1.3922 - accuracy: 0.2406 - val_loss: 1.3942 - val_accuracy: 0.2125\n",
            "Epoch 17/50\n",
            "128/128 [==============================] - 22s 174ms/step - loss: 1.3923 - accuracy: 0.2422 - val_loss: 1.3853 - val_accuracy: 0.2625\n",
            "Epoch 18/50\n",
            "128/128 [==============================] - 21s 161ms/step - loss: 1.3915 - accuracy: 0.2313 - val_loss: 1.3863 - val_accuracy: 0.2688\n",
            "Epoch 19/50\n",
            "128/128 [==============================] - 22s 174ms/step - loss: 1.3921 - accuracy: 0.2578 - val_loss: 1.3916 - val_accuracy: 0.2625\n",
            "Epoch 20/50\n",
            "128/128 [==============================] - 21s 161ms/step - loss: 1.3903 - accuracy: 0.2211 - val_loss: 1.3839 - val_accuracy: 0.2562\n",
            "Epoch 21/50\n",
            "128/128 [==============================] - 22s 174ms/step - loss: 1.3909 - accuracy: 0.2234 - val_loss: 1.3910 - val_accuracy: 0.2625\n",
            "Epoch 22/50\n",
            "128/128 [==============================] - 22s 174ms/step - loss: 1.3916 - accuracy: 0.2273 - val_loss: 1.3867 - val_accuracy: 0.2625\n",
            "Epoch 23/50\n",
            "128/128 [==============================] - 21s 161ms/step - loss: 1.3897 - accuracy: 0.2430 - val_loss: 1.3843 - val_accuracy: 0.2688\n",
            "Epoch 24/50\n",
            "128/128 [==============================] - 21s 161ms/step - loss: 1.3919 - accuracy: 0.2422 - val_loss: 1.3842 - val_accuracy: 0.2688\n",
            "Epoch 25/50\n",
            "128/128 [==============================] - 22s 174ms/step - loss: 1.3893 - accuracy: 0.2406 - val_loss: 1.3905 - val_accuracy: 0.2125\n",
            "Epoch 26/50\n",
            "128/128 [==============================] - 22s 175ms/step - loss: 1.3899 - accuracy: 0.2406 - val_loss: 1.3843 - val_accuracy: 0.2625\n",
            "Epoch 27/50\n",
            "128/128 [==============================] - 22s 175ms/step - loss: 1.3892 - accuracy: 0.2602 - val_loss: 1.3868 - val_accuracy: 0.2688\n",
            "Epoch 28/50\n",
            "128/128 [==============================] - 22s 175ms/step - loss: 1.3888 - accuracy: 0.2500 - val_loss: 1.3887 - val_accuracy: 0.2688\n",
            "Epoch 29/50\n",
            "128/128 [==============================] - 21s 161ms/step - loss: 1.3913 - accuracy: 0.2289 - val_loss: 1.3885 - val_accuracy: 0.2688\n",
            "Epoch 30/50\n",
            "128/128 [==============================] - 22s 174ms/step - loss: 1.3889 - accuracy: 0.2469 - val_loss: 1.3837 - val_accuracy: 0.2625\n",
            "Epoch 31/50\n",
            "128/128 [==============================] - 21s 161ms/step - loss: 1.3894 - accuracy: 0.2594 - val_loss: 1.3905 - val_accuracy: 0.2125\n",
            "Epoch 32/50\n",
            "128/128 [==============================] - 22s 175ms/step - loss: 1.3889 - accuracy: 0.2469 - val_loss: 1.3860 - val_accuracy: 0.2625\n",
            "Epoch 33/50\n",
            "128/128 [==============================] - 21s 161ms/step - loss: 1.3915 - accuracy: 0.2172 - val_loss: 1.3862 - val_accuracy: 0.2625\n",
            "Epoch 34/50\n",
            "128/128 [==============================] - 21s 161ms/step - loss: 1.3890 - accuracy: 0.2414 - val_loss: 1.3871 - val_accuracy: 0.2688\n",
            "Epoch 35/50\n",
            "128/128 [==============================] - 21s 161ms/step - loss: 1.3889 - accuracy: 0.2383 - val_loss: 1.3911 - val_accuracy: 0.2688\n",
            "Epoch 36/50\n",
            "128/128 [==============================] - 21s 161ms/step - loss: 1.3914 - accuracy: 0.2305 - val_loss: 1.3888 - val_accuracy: 0.2625\n",
            "Epoch 37/50\n",
            "128/128 [==============================] - 22s 174ms/step - loss: 1.3893 - accuracy: 0.2422 - val_loss: 1.3851 - val_accuracy: 0.2625\n",
            "Epoch 38/50\n",
            "128/128 [==============================] - 21s 161ms/step - loss: 1.3895 - accuracy: 0.2266 - val_loss: 1.3859 - val_accuracy: 0.2625\n",
            "Epoch 39/50\n",
            "128/128 [==============================] - 21s 161ms/step - loss: 1.3888 - accuracy: 0.2555 - val_loss: 1.3886 - val_accuracy: 0.2625\n",
            "Epoch 40/50\n",
            "128/128 [==============================] - 21s 161ms/step - loss: 1.3879 - accuracy: 0.2438 - val_loss: 1.3921 - val_accuracy: 0.2562\n",
            "Epoch 41/50\n",
            "128/128 [==============================] - 22s 174ms/step - loss: 1.3908 - accuracy: 0.2172 - val_loss: 1.3882 - val_accuracy: 0.2688\n",
            "Epoch 42/50\n",
            "128/128 [==============================] - 22s 175ms/step - loss: 1.3890 - accuracy: 0.2438 - val_loss: 1.3876 - val_accuracy: 0.2688\n",
            "Epoch 43/50\n",
            "128/128 [==============================] - 21s 161ms/step - loss: 1.3886 - accuracy: 0.2438 - val_loss: 1.3855 - val_accuracy: 0.2625\n",
            "Epoch 44/50\n",
            "128/128 [==============================] - 21s 161ms/step - loss: 1.3886 - accuracy: 0.2680 - val_loss: 1.3864 - val_accuracy: 0.2688\n",
            "Epoch 45/50\n",
            "128/128 [==============================] - 22s 174ms/step - loss: 1.3890 - accuracy: 0.2406 - val_loss: 1.3858 - val_accuracy: 0.2688\n",
            "Epoch 46/50\n",
            "128/128 [==============================] - 22s 174ms/step - loss: 1.3897 - accuracy: 0.2375 - val_loss: 1.3865 - val_accuracy: 0.2688\n",
            "Epoch 47/50\n",
            "128/128 [==============================] - 22s 174ms/step - loss: 1.3892 - accuracy: 0.2461 - val_loss: 1.3894 - val_accuracy: 0.2125\n",
            "Epoch 48/50\n",
            "128/128 [==============================] - 22s 174ms/step - loss: 1.3888 - accuracy: 0.2398 - val_loss: 1.3837 - val_accuracy: 0.2625\n",
            "Epoch 49/50\n",
            "128/128 [==============================] - 21s 161ms/step - loss: 1.3885 - accuracy: 0.2508 - val_loss: 1.3871 - val_accuracy: 0.2625\n",
            "Epoch 50/50\n",
            "128/128 [==============================] - 21s 161ms/step - loss: 1.3899 - accuracy: 0.2258 - val_loss: 1.3890 - val_accuracy: 0.2125\n",
            "\n",
            " simple  took 1103.18 seconds (18.4 minutes) to train for 30 epochs\n"
          ]
        }
      ]
    },
    {
      "cell_type": "code",
      "metadata": {
        "id": "ecZ5zQREGnYx",
        "colab": {
          "base_uri": "https://localhost:8080/"
        },
        "outputId": "81507e1f-b4db-4d14-a3b6-9401f661d817"
      },
      "source": [
        "VGG16_model.evaluate(x_test,y_test)"
      ],
      "execution_count": null,
      "outputs": [
        {
          "output_type": "stream",
          "name": "stdout",
          "text": [
            "13/13 [==============================] - 3s 225ms/step - loss: 0.2863 - accuracy: 0.9225\n"
          ]
        },
        {
          "output_type": "execute_result",
          "data": {
            "text/plain": [
              "[0.28628870844841003, 0.9225000143051147]"
            ]
          },
          "metadata": {},
          "execution_count": 191
        }
      ]
    },
    {
      "cell_type": "code",
      "metadata": {
        "id": "0vec05iBGohO",
        "colab": {
          "base_uri": "https://localhost:8080/",
          "height": 333
        },
        "outputId": "cca1d76d-da12-40b1-e914-566d7bef7e5d"
      },
      "source": [
        "plot_acc_loss(history, 50)"
      ],
      "execution_count": null,
      "outputs": [
        {
          "output_type": "display_data",
          "data": {
            "image/png": "[encoded data removed]",
            "text/plain": [
              "<Figure size 1080x360 with 2 Axes>"
            ]
          },
          "metadata": {
            "needs_background": "light"
          }
        }
      ]
    },
    {
      "cell_type": "code",
      "metadata": {
        "id": "EbmUm_71Gpuo",
        "colab": {
          "base_uri": "https://localhost:8080/"
        },
        "outputId": "c721ddaf-9676-439d-d244-b389463de597"
      },
      "source": [
        "y_pred =np.argmax(InceptionV3_model.predict(x_test),axis=-1)\n",
        "y_pred"
      ],
      "execution_count": null,
      "outputs": [
        {
          "output_type": "execute_result",
          "data": {
            "text/plain": [
              "array([1, 1, 1, 1, 1, 1, 1, 1, 1, 1, 1, 1, 1, 1, 1, 1, 1, 1, 1, 1, 1, 1,\n",
              "       1, 1, 1, 1, 1, 1, 1, 1, 1, 1, 1, 1, 1, 1, 1, 1, 1, 1, 1, 1, 1, 1,\n",
              "       1, 1, 1, 1, 1, 1, 1, 1, 1, 1, 1, 1, 1, 1, 1, 1, 1, 1, 1, 1, 1, 1,\n",
              "       1, 1, 1, 1, 1, 1, 1, 1, 1, 1, 1, 1, 1, 1, 1, 1, 1, 1, 1, 1, 1, 1,\n",
              "       1, 1, 1, 1, 1, 1, 1, 1, 1, 1, 1, 1, 1, 1, 1, 1, 1, 1, 1, 1, 1, 1,\n",
              "       1, 1, 1, 1, 1, 1, 1, 1, 1, 1, 1, 1, 1, 1, 1, 1, 1, 1, 1, 1, 1, 1,\n",
              "       1, 1, 1, 1, 1, 1, 1, 1, 1, 1, 1, 1, 1, 1, 1, 1, 1, 1, 1, 1, 1, 1,\n",
              "       1, 1, 1, 1, 1, 1, 1, 1, 1, 1, 1, 1, 1, 1, 1, 1, 1, 1, 1, 1, 1, 1,\n",
              "       1, 1, 1, 1, 1, 1, 1, 1, 1, 1, 1, 1, 1, 1, 1, 1, 1, 1, 1, 1, 1, 1,\n",
              "       1, 1, 1, 1, 1, 1, 1, 1, 1, 1, 1, 1, 1, 1, 1, 1, 1, 1, 1, 1, 1, 1,\n",
              "       1, 1, 1, 1, 1, 1, 1, 1, 1, 1, 1, 1, 1, 1, 1, 1, 1, 1, 1, 1, 1, 1,\n",
              "       1, 1, 1, 1, 1, 1, 1, 1, 1, 1, 1, 1, 1, 1, 1, 1, 1, 1, 1, 1, 1, 1,\n",
              "       1, 1, 1, 1, 1, 1, 1, 1, 1, 1, 1, 1, 1, 1, 1, 1, 1, 1, 1, 1, 1, 1,\n",
              "       1, 1, 1, 1, 1, 1, 1, 1, 1, 1, 1, 1, 1, 1, 1, 1, 1, 1, 1, 1, 1, 1,\n",
              "       1, 1, 1, 1, 1, 1, 1, 1, 1, 1, 1, 1, 1, 1, 1, 1, 1, 1, 1, 1, 1, 1,\n",
              "       1, 1, 1, 1, 1, 1, 1, 1, 1, 1, 1, 1, 1, 1, 1, 1, 1, 1, 1, 1, 1, 1,\n",
              "       1, 1, 1, 1, 1, 1, 1, 1, 1, 1, 1, 1, 1, 1, 1, 1, 1, 1, 1, 1, 1, 1,\n",
              "       1, 1, 1, 1, 1, 1, 1, 1, 1, 1, 1, 1, 1, 1, 1, 1, 1, 1, 1, 1, 1, 1,\n",
              "       1, 1, 1, 1])"
            ]
          },
          "metadata": {},
          "execution_count": 193
        }
      ]
    },
    {
      "cell_type": "code",
      "metadata": {
        "id": "myz5by_8GrKY",
        "colab": {
          "base_uri": "https://localhost:8080/"
        },
        "outputId": "16e9571d-2d2f-4f6a-978a-7b4686941844"
      },
      "source": [
        "y_test"
      ],
      "execution_count": null,
      "outputs": [
        {
          "output_type": "execute_result",
          "data": {
            "text/plain": [
              "array([3, 0, 3, 2, 1, 2, 0, 3, 2, 2, 1, 3, 2, 2, 2, 3, 3, 1, 0, 1, 2, 3,\n",
              "       1, 3, 3, 1, 0, 2, 1, 1, 1, 3, 1, 3, 1, 0, 2, 0, 2, 1, 3, 0, 3, 2,\n",
              "       0, 0, 2, 3, 3, 0, 0, 0, 3, 0, 0, 1, 0, 3, 2, 3, 3, 2, 0, 2, 2, 1,\n",
              "       0, 2, 3, 2, 0, 1, 3, 0, 3, 2, 3, 2, 3, 3, 2, 1, 2, 2, 3, 3, 2, 3,\n",
              "       2, 3, 2, 0, 1, 3, 2, 0, 1, 3, 2, 0, 1, 0, 0, 2, 1, 3, 1, 1, 1, 2,\n",
              "       0, 3, 0, 3, 2, 1, 3, 3, 2, 1, 3, 0, 3, 3, 0, 1, 1, 3, 3, 3, 0, 1,\n",
              "       0, 2, 0, 3, 3, 0, 2, 0, 3, 2, 2, 2, 1, 3, 3, 2, 0, 1, 2, 0, 3, 0,\n",
              "       0, 2, 1, 3, 0, 2, 3, 2, 3, 0, 2, 2, 3, 3, 1, 1, 2, 1, 3, 0, 2, 2,\n",
              "       2, 1, 2, 2, 0, 2, 2, 0, 2, 0, 2, 3, 3, 1, 2, 1, 2, 0, 3, 3, 3, 0,\n",
              "       0, 0, 3, 1, 2, 0, 3, 3, 2, 1, 2, 3, 3, 0, 0, 1, 3, 1, 1, 0, 0, 2,\n",
              "       1, 3, 2, 1, 2, 3, 1, 2, 3, 1, 2, 1, 2, 3, 2, 1, 0, 1, 1, 0, 2, 2,\n",
              "       2, 2, 2, 0, 1, 2, 3, 0, 1, 3, 1, 2, 1, 3, 0, 1, 2, 3, 1, 3, 2, 3,\n",
              "       3, 2, 2, 2, 1, 3, 2, 2, 1, 3, 2, 1, 3, 0, 3, 0, 3, 1, 1, 2, 2, 1,\n",
              "       2, 0, 2, 2, 2, 1, 0, 0, 2, 1, 2, 1, 1, 1, 0, 2, 3, 1, 3, 1, 3, 2,\n",
              "       3, 2, 3, 1, 1, 1, 1, 0, 3, 2, 3, 2, 3, 3, 3, 3, 3, 3, 0, 2, 1, 0,\n",
              "       0, 0, 2, 1, 3, 0, 2, 1, 1, 3, 0, 3, 1, 0, 0, 3, 3, 3, 1, 1, 3, 1,\n",
              "       3, 2, 1, 1, 3, 3, 0, 3, 3, 0, 3, 3, 2, 1, 1, 3, 0, 0, 3, 0, 3, 1,\n",
              "       2, 3, 0, 2, 0, 0, 2, 0, 0, 0, 0, 1, 2, 2, 0, 0, 0, 3, 0, 2, 0, 2,\n",
              "       1, 2, 3, 0])"
            ]
          },
          "metadata": {},
          "execution_count": 194
        }
      ]
    },
    {
      "cell_type": "markdown",
      "metadata": {
        "id": "0VyTPoVMGvq3"
      },
      "source": [
        "##Step 4 : Evaluation  Model\n",
        "# ส่วนใหม่"
      ]
    },
    {
      "cell_type": "markdown",
      "metadata": {
        "id": "Hto5dxJYGzFc"
      },
      "source": [
        "### classification_report"
      ]
    },
    {
      "cell_type": "markdown",
      "metadata": {
        "id": "HoS2mpNsG4us"
      },
      "source": [
        "# ##Confusion Matrix"
      ]
    },
    {
      "cell_type": "code",
      "metadata": {
        "id": "u9bwvtraG2Oc",
        "colab": {
          "base_uri": "https://localhost:8080/",
          "height": 564
        },
        "outputId": "595463e8-f285-4063-85b5-3ec3147700e5"
      },
      "source": [
        "fig, ax = plt.subplots(figsize=(8, 8))\n",
        "sns.heatmap(cmatrix, cmap=\"crest_r\", annot=True, fmt='.4g', linewidths=1, linecolor='black', cbar=False, ax=ax,) #cmap=''  crest_r\n",
        "# cmap options: rocket, mako, flare, crest, magma, viridis, rocket_r, cubehelix, seagreen, Blues, ...\n",
        "\n",
        "ax.set_title('Confusion Matrix', fontsize=18, pad=24)\n",
        "ax.set_xticklabels(labels=target_names, fontsize=12)\n",
        "ax.set_yticklabels(labels=target_names, fontsize=12)\n",
        "\n",
        "plt.xlabel(\"(y) Predict Label\", fontsize=16, labelpad=24)\n",
        "plt.ylabel(\"(y) Actual Label\", fontsize=16, labelpad=24)\n",
        "plt.xticks(rotation=90)\n",
        "plt.yticks(rotation=0)\n",
        "plt.show()"
      ],
      "execution_count": null,
      "outputs": [
        {
          "output_type": "display_data",
          "data": {
            "image/png": "[encoded data removed]",
            "text/plain": [
              "<Figure size 576x576 with 1 Axes>"
            ]
          },
          "metadata": {
            "needs_background": "light"
          }
        }
      ]
    },
    {
      "cell_type": "markdown",
      "metadata": {
        "id": "wFcecrtPHAt7"
      },
      "source": [
        "# ##Save Model VGG16"
      ]
    },
    {
      "cell_type": "code",
      "metadata": {
        "id": "EPbCy_muHBdL",
        "colab": {
          "base_uri": "https://localhost:8080/"
        },
        "outputId": "e85943ed-59f9-4a98-d4b0-899ec4092be1"
      },
      "source": [
        "# Save the entire model as a SavedModel.\n",
        "VGG16_model.save('saved_VGG16_model/my_model') \n",
        "\n",
        "model= tf.keras.models.load_model('saved_VGG16_model/my_model')\n",
        "tflite_converter = tf.lite.TFLiteConverter.from_keras_model(model)\n",
        "tflite_model = tflite_converter.convert()\n",
        "open(\"tf_lite_model(VGG16_model).tflite\", \"wb\").write(tflite_model) \n",
        "\n",
        "# model.save(\"model_without_kfold.h5\")       # Save Model as h5\n",
        "model_csv = pd.DataFrame(history.history)  # Save Model Report to csv\n",
        "csv_file = \"VGG16_modell.csv\"\n",
        "with open(csv_file, mode=\"w\") as f:\n",
        "  model_csv.to_csv(f)"
      ],
      "execution_count": null,
      "outputs": [
        {
          "output_type": "stream",
          "name": "stdout",
          "text": [
            "INFO:tensorflow:Assets written to: saved_VGG16_model/my_model/assets\n"
          ]
        },
        {
          "output_type": "stream",
          "name": "stderr",
          "text": [
            "INFO:tensorflow:Assets written to: saved_VGG16_model/my_model/assets\n"
          ]
        },
        {
          "output_type": "stream",
          "name": "stdout",
          "text": [
            "INFO:tensorflow:Assets written to: /tmp/tmpfld2zazv/assets\n"
          ]
        },
        {
          "output_type": "stream",
          "name": "stderr",
          "text": [
            "INFO:tensorflow:Assets written to: /tmp/tmpfld2zazv/assets\n"
          ]
        }
      ]
    },
    {
      "cell_type": "markdown",
      "metadata": {
        "id": "OMCMUINpHE2N"
      },
      "source": [
        "#MobileNet"
      ]
    },
    {
      "cell_type": "code",
      "metadata": {
        "id": "Tr-_69H3HUD9"
      },
      "source": [
        "X=np.array(COVID19_images+LUNG_images+NORMAL_images+PNEUMONIA_images).astype('float32')/255"
      ],
      "execution_count": null,
      "outputs": []
    },
    {
      "cell_type": "code",
      "metadata": {
        "id": "1aV5wvs5HWEX",
        "colab": {
          "base_uri": "https://localhost:8080/"
        },
        "outputId": "6cce2aeb-2923-43fc-d779-9eee21e61da4"
      },
      "source": [
        "X.shape"
      ],
      "execution_count": null,
      "outputs": [
        {
          "output_type": "execute_result",
          "data": {
            "text/plain": [
              "(2000, 224, 224, 3)"
            ]
          },
          "metadata": {},
          "execution_count": 27
        }
      ]
    },
    {
      "cell_type": "code",
      "metadata": {
        "id": "RBKCDgU3HWME",
        "colab": {
          "base_uri": "https://localhost:8080/"
        },
        "outputId": "cde9aa36-b5c4-4250-ce31-2053244b190f"
      },
      "source": [
        "Y = np.array([0] * 500 + [1] * 500 + [2] * 500+ [3] * 500)    \n",
        "Y"
      ],
      "execution_count": null,
      "outputs": [
        {
          "output_type": "execute_result",
          "data": {
            "text/plain": [
              "array([0, 0, 0, ..., 3, 3, 3])"
            ]
          },
          "metadata": {},
          "execution_count": 28
        }
      ]
    },
    {
      "cell_type": "code",
      "metadata": {
        "id": "YfKiS2meHWOu"
      },
      "source": [
        "x_train, x_test, y_train, y_test = train_test_split(X , Y , train_size =0.80, test_size =0.20, random_state =30)"
      ],
      "execution_count": null,
      "outputs": []
    },
    {
      "cell_type": "code",
      "metadata": {
        "id": "IHjuu06yHWRO",
        "colab": {
          "base_uri": "https://localhost:8080/"
        },
        "outputId": "35c0b1bb-fdf0-4ba5-8a2e-4bb7e93d44f4"
      },
      "source": [
        "x_train.shape"
      ],
      "execution_count": null,
      "outputs": [
        {
          "output_type": "execute_result",
          "data": {
            "text/plain": [
              "(1600, 224, 224, 3)"
            ]
          },
          "metadata": {},
          "execution_count": 30
        }
      ]
    },
    {
      "cell_type": "code",
      "metadata": {
        "id": "vMHSllq6HWTu",
        "colab": {
          "base_uri": "https://localhost:8080/"
        },
        "outputId": "078e71bd-0b01-4d91-ace7-5da331970bd3"
      },
      "source": [
        "x_test.shape"
      ],
      "execution_count": null,
      "outputs": [
        {
          "output_type": "execute_result",
          "data": {
            "text/plain": [
              "(400, 224, 224, 3)"
            ]
          },
          "metadata": {},
          "execution_count": 31
        }
      ]
    },
    {
      "cell_type": "code",
      "metadata": {
        "id": "bAKVkTFtHdsP",
        "colab": {
          "base_uri": "https://localhost:8080/"
        },
        "outputId": "bb460404-6fa6-4ca2-d441-085d4c005ca7"
      },
      "source": [
        "y_train.shape"
      ],
      "execution_count": null,
      "outputs": [
        {
          "output_type": "execute_result",
          "data": {
            "text/plain": [
              "(1600,)"
            ]
          },
          "metadata": {},
          "execution_count": 32
        }
      ]
    },
    {
      "cell_type": "code",
      "metadata": {
        "id": "nqw6G4N_Hdzf",
        "colab": {
          "base_uri": "https://localhost:8080/"
        },
        "outputId": "51ee46a8-2d3b-4944-d7fc-46cd9317859c"
      },
      "source": [
        "y_test.shape"
      ],
      "execution_count": null,
      "outputs": [
        {
          "output_type": "execute_result",
          "data": {
            "text/plain": [
              "(400,)"
            ]
          },
          "metadata": {},
          "execution_count": 33
        }
      ]
    },
    {
      "cell_type": "code",
      "metadata": {
        "id": "jAYuxfKEHhGW",
        "colab": {
          "base_uri": "https://localhost:8080/"
        },
        "outputId": "0872a3b1-f7a5-429a-93dc-47161e3f7c74"
      },
      "source": [
        "MobileNet_model =MobileNet(input_shape=(224,224,3),include_top=False,weights='imagenet')\n",
        "MobileNet_model.summary()"
      ],
      "execution_count": null,
      "outputs": [
        {
          "output_type": "stream",
          "name": "stdout",
          "text": [
            "Model: \"mobilenet_1.00_224\"\n",
            "_________________________________________________________________\n",
            "Layer (type)                 Output Shape              Param #   \n",
            "=================================================================\n",
            "input_5 (InputLayer)         [(None, 224, 224, 3)]     0         \n",
            "_________________________________________________________________\n",
            "conv1 (Conv2D)               (None, 112, 112, 32)      864       \n",
            "_________________________________________________________________\n",
            "conv1_bn (BatchNormalization (None, 112, 112, 32)      128       \n",
            "_________________________________________________________________\n",
            "conv1_relu (ReLU)            (None, 112, 112, 32)      0         \n",
            "_________________________________________________________________\n",
            "conv_dw_1 (DepthwiseConv2D)  (None, 112, 112, 32)      288       \n",
            "_________________________________________________________________\n",
            "conv_dw_1_bn (BatchNormaliza (None, 112, 112, 32)      128       \n",
            "_________________________________________________________________\n",
            "conv_dw_1_relu (ReLU)        (None, 112, 112, 32)      0         \n",
            "_________________________________________________________________\n",
            "conv_pw_1 (Conv2D)           (None, 112, 112, 64)      2048      \n",
            "_________________________________________________________________\n",
            "conv_pw_1_bn (BatchNormaliza (None, 112, 112, 64)      256       \n",
            "_________________________________________________________________\n",
            "conv_pw_1_relu (ReLU)        (None, 112, 112, 64)      0         \n",
            "_________________________________________________________________\n",
            "conv_pad_2 (ZeroPadding2D)   (None, 113, 113, 64)      0         \n",
            "_________________________________________________________________\n",
            "conv_dw_2 (DepthwiseConv2D)  (None, 56, 56, 64)        576       \n",
            "_________________________________________________________________\n",
            "conv_dw_2_bn (BatchNormaliza (None, 56, 56, 64)        256       \n",
            "_________________________________________________________________\n",
            "conv_dw_2_relu (ReLU)        (None, 56, 56, 64)        0         \n",
            "_________________________________________________________________\n",
            "conv_pw_2 (Conv2D)           (None, 56, 56, 128)       8192      \n",
            "_________________________________________________________________\n",
            "conv_pw_2_bn (BatchNormaliza (None, 56, 56, 128)       512       \n",
            "_________________________________________________________________\n",
            "conv_pw_2_relu (ReLU)        (None, 56, 56, 128)       0         \n",
            "_________________________________________________________________\n",
            "conv_dw_3 (DepthwiseConv2D)  (None, 56, 56, 128)       1152      \n",
            "_________________________________________________________________\n",
            "conv_dw_3_bn (BatchNormaliza (None, 56, 56, 128)       512       \n",
            "_________________________________________________________________\n",
            "conv_dw_3_relu (ReLU)        (None, 56, 56, 128)       0         \n",
            "_________________________________________________________________\n",
            "conv_pw_3 (Conv2D)           (None, 56, 56, 128)       16384     \n",
            "_________________________________________________________________\n",
            "conv_pw_3_bn (BatchNormaliza (None, 56, 56, 128)       512       \n",
            "_________________________________________________________________\n",
            "conv_pw_3_relu (ReLU)        (None, 56, 56, 128)       0         \n",
            "_________________________________________________________________\n",
            "conv_pad_4 (ZeroPadding2D)   (None, 57, 57, 128)       0         \n",
            "_________________________________________________________________\n",
            "conv_dw_4 (DepthwiseConv2D)  (None, 28, 28, 128)       1152      \n",
            "_________________________________________________________________\n",
            "conv_dw_4_bn (BatchNormaliza (None, 28, 28, 128)       512       \n",
            "_________________________________________________________________\n",
            "conv_dw_4_relu (ReLU)        (None, 28, 28, 128)       0         \n",
            "_________________________________________________________________\n",
            "conv_pw_4 (Conv2D)           (None, 28, 28, 256)       32768     \n",
            "_________________________________________________________________\n",
            "conv_pw_4_bn (BatchNormaliza (None, 28, 28, 256)       1024      \n",
            "_________________________________________________________________\n",
            "conv_pw_4_relu (ReLU)        (None, 28, 28, 256)       0         \n",
            "_________________________________________________________________\n",
            "conv_dw_5 (DepthwiseConv2D)  (None, 28, 28, 256)       2304      \n",
            "_________________________________________________________________\n",
            "conv_dw_5_bn (BatchNormaliza (None, 28, 28, 256)       1024      \n",
            "_________________________________________________________________\n",
            "conv_dw_5_relu (ReLU)        (None, 28, 28, 256)       0         \n",
            "_________________________________________________________________\n",
            "conv_pw_5 (Conv2D)           (None, 28, 28, 256)       65536     \n",
            "_________________________________________________________________\n",
            "conv_pw_5_bn (BatchNormaliza (None, 28, 28, 256)       1024      \n",
            "_________________________________________________________________\n",
            "conv_pw_5_relu (ReLU)        (None, 28, 28, 256)       0         \n",
            "_________________________________________________________________\n",
            "conv_pad_6 (ZeroPadding2D)   (None, 29, 29, 256)       0         \n",
            "_________________________________________________________________\n",
            "conv_dw_6 (DepthwiseConv2D)  (None, 14, 14, 256)       2304      \n",
            "_________________________________________________________________\n",
            "conv_dw_6_bn (BatchNormaliza (None, 14, 14, 256)       1024      \n",
            "_________________________________________________________________\n",
            "conv_dw_6_relu (ReLU)        (None, 14, 14, 256)       0         \n",
            "_________________________________________________________________\n",
            "conv_pw_6 (Conv2D)           (None, 14, 14, 512)       131072    \n",
            "_________________________________________________________________\n",
            "conv_pw_6_bn (BatchNormaliza (None, 14, 14, 512)       2048      \n",
            "_________________________________________________________________\n",
            "conv_pw_6_relu (ReLU)        (None, 14, 14, 512)       0         \n",
            "_________________________________________________________________\n",
            "conv_dw_7 (DepthwiseConv2D)  (None, 14, 14, 512)       4608      \n",
            "_________________________________________________________________\n",
            "conv_dw_7_bn (BatchNormaliza (None, 14, 14, 512)       2048      \n",
            "_________________________________________________________________\n",
            "conv_dw_7_relu (ReLU)        (None, 14, 14, 512)       0         \n",
            "_________________________________________________________________\n",
            "conv_pw_7 (Conv2D)           (None, 14, 14, 512)       262144    \n",
            "_________________________________________________________________\n",
            "conv_pw_7_bn (BatchNormaliza (None, 14, 14, 512)       2048      \n",
            "_________________________________________________________________\n",
            "conv_pw_7_relu (ReLU)        (None, 14, 14, 512)       0         \n",
            "_________________________________________________________________\n",
            "conv_dw_8 (DepthwiseConv2D)  (None, 14, 14, 512)       4608      \n",
            "_________________________________________________________________\n",
            "conv_dw_8_bn (BatchNormaliza (None, 14, 14, 512)       2048      \n",
            "_________________________________________________________________\n",
            "conv_dw_8_relu (ReLU)        (None, 14, 14, 512)       0         \n",
            "_________________________________________________________________\n",
            "conv_pw_8 (Conv2D)           (None, 14, 14, 512)       262144    \n",
            "_________________________________________________________________\n",
            "conv_pw_8_bn (BatchNormaliza (None, 14, 14, 512)       2048      \n",
            "_________________________________________________________________\n",
            "conv_pw_8_relu (ReLU)        (None, 14, 14, 512)       0         \n",
            "_________________________________________________________________\n",
            "conv_dw_9 (DepthwiseConv2D)  (None, 14, 14, 512)       4608      \n",
            "_________________________________________________________________\n",
            "conv_dw_9_bn (BatchNormaliza (None, 14, 14, 512)       2048      \n",
            "_________________________________________________________________\n",
            "conv_dw_9_relu (ReLU)        (None, 14, 14, 512)       0         \n",
            "_________________________________________________________________\n",
            "conv_pw_9 (Conv2D)           (None, 14, 14, 512)       262144    \n",
            "_________________________________________________________________\n",
            "conv_pw_9_bn (BatchNormaliza (None, 14, 14, 512)       2048      \n",
            "_________________________________________________________________\n",
            "conv_pw_9_relu (ReLU)        (None, 14, 14, 512)       0         \n",
            "_________________________________________________________________\n",
            "conv_dw_10 (DepthwiseConv2D) (None, 14, 14, 512)       4608      \n",
            "_________________________________________________________________\n",
            "conv_dw_10_bn (BatchNormaliz (None, 14, 14, 512)       2048      \n",
            "_________________________________________________________________\n",
            "conv_dw_10_relu (ReLU)       (None, 14, 14, 512)       0         \n",
            "_________________________________________________________________\n",
            "conv_pw_10 (Conv2D)          (None, 14, 14, 512)       262144    \n",
            "_________________________________________________________________\n",
            "conv_pw_10_bn (BatchNormaliz (None, 14, 14, 512)       2048      \n",
            "_________________________________________________________________\n",
            "conv_pw_10_relu (ReLU)       (None, 14, 14, 512)       0         \n",
            "_________________________________________________________________\n",
            "conv_dw_11 (DepthwiseConv2D) (None, 14, 14, 512)       4608      \n",
            "_________________________________________________________________\n",
            "conv_dw_11_bn (BatchNormaliz (None, 14, 14, 512)       2048      \n",
            "_________________________________________________________________\n",
            "conv_dw_11_relu (ReLU)       (None, 14, 14, 512)       0         \n",
            "_________________________________________________________________\n",
            "conv_pw_11 (Conv2D)          (None, 14, 14, 512)       262144    \n",
            "_________________________________________________________________\n",
            "conv_pw_11_bn (BatchNormaliz (None, 14, 14, 512)       2048      \n",
            "_________________________________________________________________\n",
            "conv_pw_11_relu (ReLU)       (None, 14, 14, 512)       0         \n",
            "_________________________________________________________________\n",
            "conv_pad_12 (ZeroPadding2D)  (None, 15, 15, 512)       0         \n",
            "_________________________________________________________________\n",
            "conv_dw_12 (DepthwiseConv2D) (None, 7, 7, 512)         4608      \n",
            "_________________________________________________________________\n",
            "conv_dw_12_bn (BatchNormaliz (None, 7, 7, 512)         2048      \n",
            "_________________________________________________________________\n",
            "conv_dw_12_relu (ReLU)       (None, 7, 7, 512)         0         \n",
            "_________________________________________________________________\n",
            "conv_pw_12 (Conv2D)          (None, 7, 7, 1024)        524288    \n",
            "_________________________________________________________________\n",
            "conv_pw_12_bn (BatchNormaliz (None, 7, 7, 1024)        4096      \n",
            "_________________________________________________________________\n",
            "conv_pw_12_relu (ReLU)       (None, 7, 7, 1024)        0         \n",
            "_________________________________________________________________\n",
            "conv_dw_13 (DepthwiseConv2D) (None, 7, 7, 1024)        9216      \n",
            "_________________________________________________________________\n",
            "conv_dw_13_bn (BatchNormaliz (None, 7, 7, 1024)        4096      \n",
            "_________________________________________________________________\n",
            "conv_dw_13_relu (ReLU)       (None, 7, 7, 1024)        0         \n",
            "_________________________________________________________________\n",
            "conv_pw_13 (Conv2D)          (None, 7, 7, 1024)        1048576   \n",
            "_________________________________________________________________\n",
            "conv_pw_13_bn (BatchNormaliz (None, 7, 7, 1024)        4096      \n",
            "_________________________________________________________________\n",
            "conv_pw_13_relu (ReLU)       (None, 7, 7, 1024)        0         \n",
            "=================================================================\n",
            "Total params: 3,228,864\n",
            "Trainable params: 3,206,976\n",
            "Non-trainable params: 21,888\n",
            "_________________________________________________________________\n"
          ]
        }
      ]
    },
    {
      "cell_type": "code",
      "metadata": {
        "id": "JkNMHHi0Hjm5"
      },
      "source": [
        "baseMobileNet_model = MobileNet(include_top=False,weights='imagenet',input_shape=(224,224,3))\n",
        "\n",
        "MobileNet_model = Sequential()\n",
        "# MobileNet_model.add(GlobalMaxPooling2D())\n",
        "MobileNet_model.add(baseMobileNet_model) \n",
        "MobileNet_model.add(Flatten()) \n",
        "MobileNet_model.add(Dense(128,activation=('relu'),input_dim=64)) \n",
        "MobileNet_model.add(Dense(128,activation=('relu'))) \n",
        "# model_mobnet.add(MaxPooling2D(pool_size=(2,2)))\n",
        "MobileNet_model.add(Dropout(0.3))\n",
        "MobileNet_model.add(Dense(64,activation=('relu'))) \n",
        "MobileNet_model.add(Dense(64,activation=('relu'))) \n",
        "MobileNet_model.add(Dropout(0.3))\n",
        "MobileNet_model.add(Dense(32,activation=('relu')))\n",
        "MobileNet_model.add(Dense(32,activation=('relu')))\n",
        "MobileNet_model.add(Dropout(0.3))\n",
        "MobileNet_model.add(Dense(6,activation=('softmax')))"
      ],
      "execution_count": null,
      "outputs": []
    },
    {
      "cell_type": "code",
      "metadata": {
        "id": "B-rRPZ_sHk68",
        "colab": {
          "base_uri": "https://localhost:8080/"
        },
        "outputId": "1a5217dc-e912-41e6-fd86-ca71637aa9c8"
      },
      "source": [
        "MobileNet_model.compile(loss=tf.keras.losses.sparse_categorical_crossentropy,optimizer=tf.keras.optimizers.Adam(learning_rate=0.01),metrics=['accuracy'])\n",
        "MobileNet_model.summary()"
      ],
      "execution_count": null,
      "outputs": [
        {
          "output_type": "stream",
          "name": "stdout",
          "text": [
            "Model: \"sequential_2\"\n",
            "_________________________________________________________________\n",
            "Layer (type)                 Output Shape              Param #   \n",
            "=================================================================\n",
            "mobilenet_1.00_224 (Function (None, 7, 7, 1024)        3228864   \n",
            "_________________________________________________________________\n",
            "flatten_2 (Flatten)          (None, 50176)             0         \n",
            "_________________________________________________________________\n",
            "dense_14 (Dense)             (None, 128)               6422656   \n",
            "_________________________________________________________________\n",
            "dense_15 (Dense)             (None, 128)               16512     \n",
            "_________________________________________________________________\n",
            "dropout_6 (Dropout)          (None, 128)               0         \n",
            "_________________________________________________________________\n",
            "dense_16 (Dense)             (None, 64)                8256      \n",
            "_________________________________________________________________\n",
            "dense_17 (Dense)             (None, 64)                4160      \n",
            "_________________________________________________________________\n",
            "dropout_7 (Dropout)          (None, 64)                0         \n",
            "_________________________________________________________________\n",
            "dense_18 (Dense)             (None, 32)                2080      \n",
            "_________________________________________________________________\n",
            "dense_19 (Dense)             (None, 32)                1056      \n",
            "_________________________________________________________________\n",
            "dropout_8 (Dropout)          (None, 32)                0         \n",
            "_________________________________________________________________\n",
            "dense_20 (Dense)             (None, 6)                 198       \n",
            "=================================================================\n",
            "Total params: 9,683,782\n",
            "Trainable params: 9,661,894\n",
            "Non-trainable params: 21,888\n",
            "_________________________________________________________________\n"
          ]
        }
      ]
    },
    {
      "cell_type": "code",
      "metadata": {
        "id": "_abu9WIoHmOr",
        "colab": {
          "base_uri": "https://localhost:8080/"
        },
        "outputId": "bf60cbd5-0c6b-4dcf-83a8-d4692cebae99"
      },
      "source": [
        "start = time.time()\n",
        "\n",
        "history =MobileNet_model.fit(x_train,y_train,batch_size=10,epochs=50,validation_split=0.2)\n",
        "\n",
        "\n",
        "end = time.time()\n",
        "duration = end - start\n",
        "print ('\\n simple  took %0.2f seconds (%0.1f minutes) to train for %d epochs'%(duration, duration/60, 30) )\n",
        "\n"
      ],
      "execution_count": null,
      "outputs": [
        {
          "output_type": "stream",
          "name": "stdout",
          "text": [
            "Epoch 1/50\n",
            "128/128 [==============================] - 20s 130ms/step - loss: 2.9571 - accuracy: 0.2937 - val_loss: 17.4003 - val_accuracy: 0.2125\n",
            "Epoch 2/50\n",
            "128/128 [==============================] - 16s 121ms/step - loss: 1.2537 - accuracy: 0.3914 - val_loss: 1.2439 - val_accuracy: 0.3500\n",
            "Epoch 3/50\n",
            "128/128 [==============================] - 16s 122ms/step - loss: 1.1980 - accuracy: 0.3992 - val_loss: 1.1759 - val_accuracy: 0.4406\n",
            "Epoch 4/50\n",
            "128/128 [==============================] - 16s 126ms/step - loss: 1.1019 - accuracy: 0.4062 - val_loss: 0.8956 - val_accuracy: 0.4531\n",
            "Epoch 5/50\n",
            "128/128 [==============================] - 16s 121ms/step - loss: 1.1558 - accuracy: 0.4352 - val_loss: 1.3894 - val_accuracy: 0.2875\n",
            "Epoch 6/50\n",
            "128/128 [==============================] - 16s 122ms/step - loss: 1.1776 - accuracy: 0.4172 - val_loss: 1.8243 - val_accuracy: 0.2688\n",
            "Epoch 7/50\n",
            "128/128 [==============================] - 16s 121ms/step - loss: 1.1330 - accuracy: 0.4172 - val_loss: 1.0235 - val_accuracy: 0.5188\n",
            "Epoch 8/50\n",
            "128/128 [==============================] - 16s 121ms/step - loss: 1.0924 - accuracy: 0.4437 - val_loss: 1.1568 - val_accuracy: 0.4219\n",
            "Epoch 9/50\n",
            "128/128 [==============================] - 16s 126ms/step - loss: 1.1473 - accuracy: 0.4180 - val_loss: 1.3383 - val_accuracy: 0.3250\n",
            "Epoch 10/50\n",
            "128/128 [==============================] - 16s 126ms/step - loss: 1.0923 - accuracy: 0.4367 - val_loss: 1.4382 - val_accuracy: 0.2188\n",
            "Epoch 11/50\n",
            "128/128 [==============================] - 16s 126ms/step - loss: 1.0512 - accuracy: 0.4586 - val_loss: 1.4058 - val_accuracy: 0.2594\n",
            "Epoch 12/50\n",
            "128/128 [==============================] - 16s 121ms/step - loss: 1.3103 - accuracy: 0.3484 - val_loss: 1.4286 - val_accuracy: 0.2125\n",
            "Epoch 13/50\n",
            "128/128 [==============================] - 16s 121ms/step - loss: 1.3936 - accuracy: 0.2453 - val_loss: 1.3967 - val_accuracy: 0.2125\n",
            "Epoch 14/50\n",
            "128/128 [==============================] - 16s 125ms/step - loss: 1.3934 - accuracy: 0.2438 - val_loss: 1.3888 - val_accuracy: 0.2656\n",
            "Epoch 15/50\n",
            "128/128 [==============================] - 16s 125ms/step - loss: 1.3931 - accuracy: 0.2492 - val_loss: 1.3870 - val_accuracy: 0.2688\n",
            "Epoch 16/50\n",
            "128/128 [==============================] - 16s 126ms/step - loss: 1.3908 - accuracy: 0.2508 - val_loss: 1.3879 - val_accuracy: 0.2625\n",
            "Epoch 17/50\n",
            "128/128 [==============================] - 16s 125ms/step - loss: 1.3910 - accuracy: 0.2523 - val_loss: 1.3888 - val_accuracy: 0.2688\n",
            "Epoch 18/50\n",
            "128/128 [==============================] - 15s 121ms/step - loss: 1.3904 - accuracy: 0.2547 - val_loss: 1.3880 - val_accuracy: 0.2625\n",
            "Epoch 19/50\n",
            "128/128 [==============================] - 16s 126ms/step - loss: 1.3897 - accuracy: 0.2570 - val_loss: 1.3878 - val_accuracy: 0.2688\n",
            "Epoch 20/50\n",
            "128/128 [==============================] - 16s 126ms/step - loss: 1.3901 - accuracy: 0.2352 - val_loss: 1.3862 - val_accuracy: 0.2688\n",
            "Epoch 21/50\n",
            "128/128 [==============================] - 15s 121ms/step - loss: 1.3900 - accuracy: 0.2586 - val_loss: 1.3878 - val_accuracy: 0.2688\n",
            "Epoch 22/50\n",
            "128/128 [==============================] - 16s 122ms/step - loss: 1.3885 - accuracy: 0.2453 - val_loss: 1.3865 - val_accuracy: 0.2562\n",
            "Epoch 23/50\n",
            "128/128 [==============================] - 16s 122ms/step - loss: 1.3895 - accuracy: 0.2445 - val_loss: 1.3898 - val_accuracy: 0.2625\n",
            "Epoch 24/50\n",
            "128/128 [==============================] - 16s 126ms/step - loss: 1.3893 - accuracy: 0.2367 - val_loss: 1.3867 - val_accuracy: 0.2625\n",
            "Epoch 25/50\n",
            "128/128 [==============================] - 16s 125ms/step - loss: 1.3891 - accuracy: 0.2531 - val_loss: 1.3889 - val_accuracy: 0.2125\n",
            "Epoch 26/50\n",
            "128/128 [==============================] - 15s 121ms/step - loss: 1.3889 - accuracy: 0.2453 - val_loss: 1.3872 - val_accuracy: 0.2688\n",
            "Epoch 27/50\n",
            "128/128 [==============================] - 16s 125ms/step - loss: 1.3889 - accuracy: 0.2555 - val_loss: 1.3868 - val_accuracy: 0.2625\n",
            "Epoch 28/50\n",
            "128/128 [==============================] - 16s 126ms/step - loss: 1.3882 - accuracy: 0.2523 - val_loss: 1.3857 - val_accuracy: 0.2562\n",
            "Epoch 29/50\n",
            "128/128 [==============================] - 16s 126ms/step - loss: 1.3886 - accuracy: 0.2445 - val_loss: 1.3853 - val_accuracy: 0.2688\n",
            "Epoch 30/50\n",
            "128/128 [==============================] - 16s 126ms/step - loss: 1.3880 - accuracy: 0.2258 - val_loss: 1.3888 - val_accuracy: 0.2688\n",
            "Epoch 31/50\n",
            "128/128 [==============================] - 16s 125ms/step - loss: 1.3898 - accuracy: 0.2227 - val_loss: 1.3869 - val_accuracy: 0.2688\n",
            "Epoch 32/50\n",
            "128/128 [==============================] - 16s 122ms/step - loss: 1.3881 - accuracy: 0.2430 - val_loss: 1.3865 - val_accuracy: 0.2688\n",
            "Epoch 33/50\n",
            "128/128 [==============================] - 16s 125ms/step - loss: 1.3889 - accuracy: 0.2367 - val_loss: 1.3859 - val_accuracy: 0.2688\n",
            "Epoch 34/50\n",
            "128/128 [==============================] - 16s 125ms/step - loss: 1.3878 - accuracy: 0.2422 - val_loss: 1.3871 - val_accuracy: 0.2688\n",
            "Epoch 35/50\n",
            "128/128 [==============================] - 16s 121ms/step - loss: 1.3885 - accuracy: 0.2336 - val_loss: 1.3858 - val_accuracy: 0.2625\n",
            "Epoch 36/50\n",
            "128/128 [==============================] - 16s 122ms/step - loss: 1.3884 - accuracy: 0.2367 - val_loss: 1.3851 - val_accuracy: 0.2688\n",
            "Epoch 37/50\n",
            "128/128 [==============================] - 16s 121ms/step - loss: 1.3882 - accuracy: 0.2352 - val_loss: 1.3854 - val_accuracy: 0.2688\n",
            "Epoch 38/50\n",
            "128/128 [==============================] - 16s 125ms/step - loss: 1.3888 - accuracy: 0.2383 - val_loss: 1.3910 - val_accuracy: 0.2125\n",
            "Epoch 39/50\n",
            "128/128 [==============================] - 16s 121ms/step - loss: 1.3877 - accuracy: 0.2508 - val_loss: 1.3865 - val_accuracy: 0.2688\n",
            "Epoch 40/50\n",
            "128/128 [==============================] - 16s 125ms/step - loss: 1.3877 - accuracy: 0.2344 - val_loss: 1.3865 - val_accuracy: 0.2625\n",
            "Epoch 41/50\n",
            "128/128 [==============================] - 16s 126ms/step - loss: 1.3895 - accuracy: 0.2313 - val_loss: 1.3891 - val_accuracy: 0.2625\n",
            "Epoch 42/50\n",
            "128/128 [==============================] - 16s 121ms/step - loss: 1.3884 - accuracy: 0.2375 - val_loss: 1.3881 - val_accuracy: 0.2125\n",
            "Epoch 43/50\n",
            "128/128 [==============================] - 16s 126ms/step - loss: 1.3877 - accuracy: 0.2438 - val_loss: 1.3899 - val_accuracy: 0.2125\n",
            "Epoch 44/50\n",
            "128/128 [==============================] - 16s 125ms/step - loss: 1.3882 - accuracy: 0.2430 - val_loss: 1.3849 - val_accuracy: 0.2688\n",
            "Epoch 45/50\n",
            "128/128 [==============================] - 16s 125ms/step - loss: 1.3876 - accuracy: 0.2562 - val_loss: 1.3886 - val_accuracy: 0.2125\n",
            "Epoch 46/50\n",
            "128/128 [==============================] - 16s 125ms/step - loss: 1.3884 - accuracy: 0.2414 - val_loss: 1.3877 - val_accuracy: 0.2625\n",
            "Epoch 47/50\n",
            "128/128 [==============================] - 15s 121ms/step - loss: 1.3889 - accuracy: 0.2258 - val_loss: 1.3864 - val_accuracy: 0.2625\n",
            "Epoch 48/50\n",
            "128/128 [==============================] - 16s 125ms/step - loss: 1.3883 - accuracy: 0.2438 - val_loss: 1.3875 - val_accuracy: 0.2625\n",
            "Epoch 49/50\n",
            "128/128 [==============================] - 16s 125ms/step - loss: 1.3882 - accuracy: 0.2531 - val_loss: 1.3842 - val_accuracy: 0.2688\n",
            "Epoch 50/50\n",
            "128/128 [==============================] - 16s 125ms/step - loss: 1.3881 - accuracy: 0.2547 - val_loss: 1.3862 - val_accuracy: 0.2625\n",
            "\n",
            " simple  took 805.15 seconds (13.4 minutes) to train for 30 epochs\n"
          ]
        }
      ]
    },
    {
      "cell_type": "markdown",
      "metadata": {
        "id": "2Mr-P2KyHofL"
      },
      "source": [
        " ## Step4 : Evaluation  Model \n",
        " "
      ]
    },
    {
      "cell_type": "code",
      "metadata": {
        "id": "aJT_06LPHo8Q",
        "colab": {
          "base_uri": "https://localhost:8080/"
        },
        "outputId": "2ce93aab-7490-4a1d-aff5-2b039fb89e63"
      },
      "source": [
        "MobileNet_model.evaluate(x_test,y_test)"
      ],
      "execution_count": null,
      "outputs": [
        {
          "output_type": "stream",
          "name": "stdout",
          "text": [
            "13/13 [==============================] - 2s 82ms/step - loss: 1.3912 - accuracy: 0.2250\n"
          ]
        },
        {
          "output_type": "execute_result",
          "data": {
            "text/plain": [
              "[1.391190528869629, 0.22499999403953552]"
            ]
          },
          "metadata": {},
          "execution_count": 65
        }
      ]
    },
    {
      "cell_type": "code",
      "metadata": {
        "id": "p-D4Ds1XHrAE",
        "colab": {
          "base_uri": "https://localhost:8080/",
          "height": 333
        },
        "outputId": "5b784426-d8b9-4b56-faec-5a2a8d4cdd86"
      },
      "source": [
        "plot_acc_loss(history, 50)"
      ],
      "execution_count": null,
      "outputs": [
        {
          "output_type": "display_data",
          "data": {
            "image/png": "[encoded data removed]",
            "text/plain": [
              "<Figure size 1080x360 with 2 Axes>"
            ]
          },
          "metadata": {
            "needs_background": "light"
          }
        }
      ]
    },
    {
      "cell_type": "code",
      "metadata": {
        "id": "7Ffpkez0HsGr",
        "colab": {
          "base_uri": "https://localhost:8080/"
        },
        "outputId": "96256c4c-a08f-4d16-b063-ab10439db58f"
      },
      "source": [
        "y_pred =np.argmax(MobileNet_model.predict(x_test),axis=-1)\n",
        "y_pred"
      ],
      "execution_count": null,
      "outputs": [
        {
          "output_type": "execute_result",
          "data": {
            "text/plain": [
              "array([0, 0, 0, 0, 0, 0, 0, 0, 0, 0, 0, 0, 0, 0, 0, 0, 0, 0, 0, 0, 0, 0,\n",
              "       0, 0, 0, 0, 0, 0, 0, 0, 0, 0, 0, 0, 0, 0, 0, 0, 0, 0, 0, 0, 0, 0,\n",
              "       0, 0, 0, 0, 0, 0, 0, 0, 0, 0, 0, 0, 0, 0, 0, 0, 0, 0, 0, 0, 0, 0,\n",
              "       0, 0, 0, 0, 0, 0, 0, 0, 0, 0, 0, 0, 0, 0, 0, 0, 0, 0, 0, 0, 0, 0,\n",
              "       0, 0, 0, 0, 0, 0, 0, 0, 0, 0, 0, 0, 0, 0, 0, 0, 0, 0, 0, 0, 0, 0,\n",
              "       0, 0, 0, 0, 0, 0, 0, 0, 0, 0, 0, 0, 0, 0, 0, 0, 0, 0, 0, 0, 0, 0,\n",
              "       0, 0, 0, 0, 0, 0, 0, 0, 0, 0, 0, 0, 0, 0, 0, 0, 0, 0, 0, 0, 0, 0,\n",
              "       0, 0, 0, 0, 0, 0, 0, 0, 0, 0, 0, 0, 0, 0, 0, 0, 0, 0, 0, 0, 0, 0,\n",
              "       0, 0, 0, 0, 0, 0, 0, 0, 0, 0, 0, 0, 0, 0, 0, 0, 0, 0, 0, 0, 0, 0,\n",
              "       0, 0, 0, 0, 0, 0, 0, 0, 0, 0, 0, 0, 0, 0, 0, 0, 0, 0, 0, 0, 0, 0,\n",
              "       0, 0, 0, 0, 0, 0, 0, 0, 0, 0, 0, 0, 0, 0, 0, 0, 0, 0, 0, 0, 0, 0,\n",
              "       0, 0, 0, 0, 0, 0, 0, 0, 0, 0, 0, 0, 0, 0, 0, 0, 0, 0, 0, 0, 0, 0,\n",
              "       0, 0, 0, 0, 0, 0, 0, 0, 0, 0, 0, 0, 0, 0, 0, 0, 0, 0, 0, 0, 0, 0,\n",
              "       0, 0, 0, 0, 0, 0, 0, 0, 0, 0, 0, 0, 0, 0, 0, 0, 0, 0, 0, 0, 0, 0,\n",
              "       0, 0, 0, 0, 0, 0, 0, 0, 0, 0, 0, 0, 0, 0, 0, 0, 0, 0, 0, 0, 0, 0,\n",
              "       0, 0, 0, 0, 0, 0, 0, 0, 0, 0, 0, 0, 0, 0, 0, 0, 0, 0, 0, 0, 0, 0,\n",
              "       0, 0, 0, 0, 0, 0, 0, 0, 0, 0, 0, 0, 0, 0, 0, 0, 0, 0, 0, 0, 0, 0,\n",
              "       0, 0, 0, 0, 0, 0, 0, 0, 0, 0, 0, 0, 0, 0, 0, 0, 0, 0, 0, 0, 0, 0,\n",
              "       0, 0, 0, 0])"
            ]
          },
          "metadata": {},
          "execution_count": 67
        }
      ]
    },
    {
      "cell_type": "code",
      "metadata": {
        "id": "jTVljsq6HtZ4",
        "colab": {
          "base_uri": "https://localhost:8080/"
        },
        "outputId": "63410b9e-8835-4b92-ba92-4acae28c8b32"
      },
      "source": [
        "y_test"
      ],
      "execution_count": null,
      "outputs": [
        {
          "output_type": "execute_result",
          "data": {
            "text/plain": [
              "array([3, 0, 3, 2, 1, 2, 0, 3, 2, 2, 1, 3, 2, 2, 2, 3, 3, 1, 0, 1, 2, 3,\n",
              "       1, 3, 3, 1, 0, 2, 1, 1, 1, 3, 1, 3, 1, 0, 2, 0, 2, 1, 3, 0, 3, 2,\n",
              "       0, 0, 2, 3, 3, 0, 0, 0, 3, 0, 0, 1, 0, 3, 2, 3, 3, 2, 0, 2, 2, 1,\n",
              "       0, 2, 3, 2, 0, 1, 3, 0, 3, 2, 3, 2, 3, 3, 2, 1, 2, 2, 3, 3, 2, 3,\n",
              "       2, 3, 2, 0, 1, 3, 2, 0, 1, 3, 2, 0, 1, 0, 0, 2, 1, 3, 1, 1, 1, 2,\n",
              "       0, 3, 0, 3, 2, 1, 3, 3, 2, 1, 3, 0, 3, 3, 0, 1, 1, 3, 3, 3, 0, 1,\n",
              "       0, 2, 0, 3, 3, 0, 2, 0, 3, 2, 2, 2, 1, 3, 3, 2, 0, 1, 2, 0, 3, 0,\n",
              "       0, 2, 1, 3, 0, 2, 3, 2, 3, 0, 2, 2, 3, 3, 1, 1, 2, 1, 3, 0, 2, 2,\n",
              "       2, 1, 2, 2, 0, 2, 2, 0, 2, 0, 2, 3, 3, 1, 2, 1, 2, 0, 3, 3, 3, 0,\n",
              "       0, 0, 3, 1, 2, 0, 3, 3, 2, 1, 2, 3, 3, 0, 0, 1, 3, 1, 1, 0, 0, 2,\n",
              "       1, 3, 2, 1, 2, 3, 1, 2, 3, 1, 2, 1, 2, 3, 2, 1, 0, 1, 1, 0, 2, 2,\n",
              "       2, 2, 2, 0, 1, 2, 3, 0, 1, 3, 1, 2, 1, 3, 0, 1, 2, 3, 1, 3, 2, 3,\n",
              "       3, 2, 2, 2, 1, 3, 2, 2, 1, 3, 2, 1, 3, 0, 3, 0, 3, 1, 1, 2, 2, 1,\n",
              "       2, 0, 2, 2, 2, 1, 0, 0, 2, 1, 2, 1, 1, 1, 0, 2, 3, 1, 3, 1, 3, 2,\n",
              "       3, 2, 3, 1, 1, 1, 1, 0, 3, 2, 3, 2, 3, 3, 3, 3, 3, 3, 0, 2, 1, 0,\n",
              "       0, 0, 2, 1, 3, 0, 2, 1, 1, 3, 0, 3, 1, 0, 0, 3, 3, 3, 1, 1, 3, 1,\n",
              "       3, 2, 1, 1, 3, 3, 0, 3, 3, 0, 3, 3, 2, 1, 1, 3, 0, 0, 3, 0, 3, 1,\n",
              "       2, 3, 0, 2, 0, 0, 2, 0, 0, 0, 0, 1, 2, 2, 0, 0, 0, 3, 0, 2, 0, 2,\n",
              "       1, 2, 3, 0])"
            ]
          },
          "metadata": {},
          "execution_count": 68
        }
      ]
    },
    {
      "cell_type": "markdown",
      "metadata": {
        "id": "GyVCd3vsHu8T"
      },
      "source": [
        "##Step 4 : Evaluation  Model\n"
      ]
    },
    {
      "cell_type": "code",
      "metadata": {
        "id": "i-oem4GcHvTd",
        "colab": {
          "base_uri": "https://localhost:8080/"
        },
        "outputId": "d2636ce9-c37b-4f28-84dc-14355a0c4872"
      },
      "source": [
        "MobileNet_model.evaluate(x_test,y_test)"
      ],
      "execution_count": null,
      "outputs": [
        {
          "output_type": "stream",
          "name": "stdout",
          "text": [
            "13/13 [==============================] - 1s 72ms/step - loss: 1.3912 - accuracy: 0.2250\n"
          ]
        },
        {
          "output_type": "execute_result",
          "data": {
            "text/plain": [
              "[1.391190528869629, 0.22499999403953552]"
            ]
          },
          "metadata": {},
          "execution_count": 69
        }
      ]
    },
    {
      "cell_type": "code",
      "metadata": {
        "id": "IvqVEBEJi1ap",
        "colab": {
          "base_uri": "https://localhost:8080/"
        },
        "outputId": "c84d620f-f4eb-4b19-ee84-b0a4db563614"
      },
      "source": [
        "from sklearn.metrics import accuracy_score\n",
        "\n",
        "print('Accuracy Score: {:.4f}'.format(accuracy_score(y_test,y_pred)))"
      ],
      "execution_count": null,
      "outputs": [
        {
          "output_type": "stream",
          "name": "stdout",
          "text": [
            "Accuracy Score: 0.2250\n"
          ]
        }
      ]
    },
    {
      "cell_type": "markdown",
      "metadata": {
        "id": "ly45Xj7CHxkg"
      },
      "source": [
        "##Classification Report"
      ]
    },
    {
      "cell_type": "code",
      "metadata": {
        "id": "iCgz1RHJHx5A",
        "colab": {
          "base_uri": "https://localhost:8080/"
        },
        "outputId": "eb7c6419-8e1c-4a48-ef74-b409f2ca1382"
      },
      "source": [
        "from sklearn.metrics import classification_report, confusion_matrix\n",
        "import seaborn as sns\n",
        "\n",
        "target_names = ['L1', 'L2', 'L3', 'L4']\n",
        "cmatrix = confusion_matrix(y_test, y_pred)\n",
        "creport = classification_report(y_test, y_pred, target_names=target_names)\n",
        "\n",
        "# print(\"Accuracy : {:.3f}%\".format(acc*100))\n",
        "# print(\"Loss     : {:.3f}\".format(loss))\n",
        "\n",
        "print(\"\\nClassification Report \\n\")\n",
        "print(creport)"
      ],
      "execution_count": null,
      "outputs": [
        {
          "output_type": "stream",
          "name": "stdout",
          "text": [
            "\n",
            "Classification Report \n",
            "\n",
            "              precision    recall  f1-score   support\n",
            "\n",
            "          L1       0.23      1.00      0.37        90\n",
            "          L2       0.00      0.00      0.00        88\n",
            "          L3       0.00      0.00      0.00       108\n",
            "          L4       0.00      0.00      0.00       114\n",
            "\n",
            "    accuracy                           0.23       400\n",
            "   macro avg       0.06      0.25      0.09       400\n",
            "weighted avg       0.05      0.23      0.08       400\n",
            "\n"
          ]
        },
        {
          "output_type": "stream",
          "name": "stderr",
          "text": [
            "/usr/local/lib/python3.7/dist-packages/sklearn/metrics/_classification.py:1272: UndefinedMetricWarning: Precision and F-score are ill-defined and being set to 0.0 in labels with no predicted samples. Use `zero_division` parameter to control this behavior.\n",
            "  _warn_prf(average, modifier, msg_start, len(result))\n"
          ]
        }
      ]
    },
    {
      "cell_type": "markdown",
      "metadata": {
        "id": "lmxJ8TyqH0HP"
      },
      "source": [
        "##Confusion Matrix"
      ]
    },
    {
      "cell_type": "code",
      "metadata": {
        "id": "HkPaB1iPH0mY",
        "colab": {
          "base_uri": "https://localhost:8080/",
          "height": 564
        },
        "outputId": "16375b3a-0ab5-4164-c6f4-dff823b0403e"
      },
      "source": [
        "fig, ax = plt.subplots(figsize=(8, 8))\n",
        "sns.heatmap(cmatrix, cmap=\"crest_r\", annot=True, fmt='.4g', linewidths=1, linecolor='black', cbar=False, ax=ax,) #cmap=''  crest_r\n",
        "# cmap options: rocket, mako, flare, crest, magma, viridis, rocket_r, cubehelix, seagreen, Blues, ...\n",
        "\n",
        "ax.set_title('Confusion Matrix', fontsize=18, pad=24)\n",
        "ax.set_xticklabels(labels=target_names, fontsize=12)\n",
        "ax.set_yticklabels(labels=target_names, fontsize=12)\n",
        "\n",
        "plt.xlabel(\"(y) Predict Label\", fontsize=16, labelpad=24)\n",
        "plt.ylabel(\"(y) Actual Label\", fontsize=16, labelpad=24)\n",
        "plt.xticks(rotation=90)\n",
        "plt.yticks(rotation=0)\n",
        "plt.show()"
      ],
      "execution_count": null,
      "outputs": [
        {
          "output_type": "display_data",
          "data": {
            "image/png": "[encoded data removed]",
            "text/plain": [
              "<Figure size 576x576 with 1 Axes>"
            ]
          },
          "metadata": {
            "needs_background": "light"
          }
        }
      ]
    },
    {
      "cell_type": "markdown",
      "metadata": {
        "id": "WcAA6h-aH3j_"
      },
      "source": [
        "## Step 5: Save MobileNet_model"
      ]
    },
    {
      "cell_type": "code",
      "metadata": {
        "id": "8r5az5keH4EX",
        "colab": {
          "base_uri": "https://localhost:8080/"
        },
        "outputId": "cc3a0eb5-48f8-4b83-bf8c-a421dd2561ca"
      },
      "source": [
        "# Save the entire model as a SavedModel.\n",
        "MobileNet_model.save('saved_MobileNet_model/my_model') \n",
        "\n",
        "model= tf.keras.models.load_model('saved_MobileNet_model/my_model')\n",
        "tflite_converter = tf.lite.TFLiteConverter.from_keras_model(model)\n",
        "tflite_model = tflite_converter.convert()\n",
        "open(\"tf_lite_model(MobileNet_model).tflite\", \"wb\").write(tflite_model) \n",
        "\n",
        "# model.save(\"model_without_kfold.h5\")       # Save Model as h5\n",
        "model_csv = pd.DataFrame(history.history)  # Save Model Report to csv\n",
        "csv_file = \"MobileNet_model_.csv\"\n",
        "with open(csv_file, mode=\"w\") as f:\n",
        "  model_csv.to_csv(f)"
      ],
      "execution_count": null,
      "outputs": [
        {
          "output_type": "stream",
          "name": "stderr",
          "text": [
            "WARNING:absl:Function `_wrapped_model` contains input name(s) mobilenet_1.00_224_input with unsupported characters which will be renamed to mobilenet_1_00_224_input in the SavedModel.\n"
          ]
        },
        {
          "output_type": "stream",
          "name": "stdout",
          "text": [
            "INFO:tensorflow:Assets written to: saved_MobileNet_model/my_model/assets\n"
          ]
        },
        {
          "output_type": "stream",
          "name": "stderr",
          "text": [
            "INFO:tensorflow:Assets written to: saved_MobileNet_model/my_model/assets\n",
            "WARNING:absl:Function `_wrapped_model` contains input name(s) mobilenet_1.00_224_input with unsupported characters which will be renamed to mobilenet_1_00_224_input in the SavedModel.\n"
          ]
        },
        {
          "output_type": "stream",
          "name": "stdout",
          "text": [
            "INFO:tensorflow:Assets written to: /tmp/tmp4k9sc3yh/assets\n"
          ]
        },
        {
          "output_type": "stream",
          "name": "stderr",
          "text": [
            "INFO:tensorflow:Assets written to: /tmp/tmp4k9sc3yh/assets\n"
          ]
        }
      ]
    }
  ]
}